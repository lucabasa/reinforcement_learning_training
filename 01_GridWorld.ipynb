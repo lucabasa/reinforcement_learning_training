{
 "cells": [
  {
   "cell_type": "code",
   "execution_count": 1,
   "id": "2362b44a",
   "metadata": {},
   "outputs": [],
   "source": [
    "from GridWorld.board import State"
   ]
  },
  {
   "cell_type": "code",
   "execution_count": 2,
   "id": "85038836",
   "metadata": {},
   "outputs": [],
   "source": [
    "s = State()"
   ]
  },
  {
   "cell_type": "code",
   "execution_count": 3,
   "id": "b787ec6b",
   "metadata": {},
   "outputs": [
    {
     "name": "stdout",
     "output_type": "stream",
     "text": [
      "-----------------\n",
      "| 0 | 0 | 0 | 0 | \n",
      "-----------------\n",
      "| 0 | 0 | 0 | 0 | \n",
      "-----------------\n",
      "| * | 0 | 0 | 0 | \n",
      "-----------------\n"
     ]
    }
   ],
   "source": [
    "s.showBoard()"
   ]
  },
  {
   "cell_type": "code",
   "execution_count": 4,
   "id": "ad64e7e4",
   "metadata": {},
   "outputs": [
    {
     "data": {
      "text/plain": [
       "(2, 0)"
      ]
     },
     "execution_count": 4,
     "metadata": {},
     "output_type": "execute_result"
    }
   ],
   "source": [
    "s.state"
   ]
  },
  {
   "cell_type": "code",
   "execution_count": 5,
   "id": "218526f9",
   "metadata": {},
   "outputs": [
    {
     "name": "stdout",
     "output_type": "stream",
     "text": [
      "(2, 1)\n",
      "-----------------\n",
      "| 0 | 0 | 0 | 0 | \n",
      "-----------------\n",
      "| 0 | 0 | 0 | 0 | \n",
      "-----------------\n",
      "| * | * | 0 | 0 | \n",
      "-----------------\n"
     ]
    }
   ],
   "source": [
    "s.state = s.nxtPosition('right')\n",
    "print(s.state)\n",
    "s.showBoard()"
   ]
  },
  {
   "cell_type": "code",
   "execution_count": 6,
   "id": "8e98c18b",
   "metadata": {},
   "outputs": [
    {
     "name": "stdout",
     "output_type": "stream",
     "text": [
      "(1, 1)\n",
      "-----------------\n",
      "| 0 | 0 | 0 | 0 | \n",
      "-----------------\n",
      "| 0 | * | 0 | 0 | \n",
      "-----------------\n",
      "| * | * | 0 | 0 | \n",
      "-----------------\n"
     ]
    }
   ],
   "source": [
    "s.state = s.nxtPosition('up')\n",
    "print(s.state)\n",
    "s.showBoard()"
   ]
  },
  {
   "cell_type": "code",
   "execution_count": 7,
   "id": "0bbc3434",
   "metadata": {},
   "outputs": [
    {
     "name": "stdout",
     "output_type": "stream",
     "text": [
      "-----------------\n",
      "| 0 | 0 | 0 | 0 | \n",
      "-----------------\n",
      "| 0 | z | z | 0 | \n",
      "-----------------\n",
      "| * | 0 | 0 | 0 | \n",
      "-----------------\n"
     ]
    }
   ],
   "source": [
    "s = State(forbidden_blocks=[(1, 1), (1,3), (1,2)])\n",
    "s.showBoard()"
   ]
  },
  {
   "cell_type": "code",
   "execution_count": 8,
   "id": "4f8cb706",
   "metadata": {},
   "outputs": [
    {
     "name": "stdout",
     "output_type": "stream",
     "text": [
      "-----------------\n",
      "| 0 | 0 | 0 | 0 | \n",
      "-----------------\n",
      "| 0 | z | z | 0 | \n",
      "-----------------\n",
      "| * | * | 0 | 0 | \n",
      "-----------------\n"
     ]
    }
   ],
   "source": [
    "s.state = s.nxtPosition('right')\n",
    "s.state = s.nxtPosition('up')\n",
    "s.state = s.nxtPosition('up')\n",
    "s.showBoard()"
   ]
  },
  {
   "cell_type": "code",
   "execution_count": 9,
   "id": "1bb360a6",
   "metadata": {},
   "outputs": [],
   "source": [
    "from GridWorld.agent import Agent"
   ]
  },
  {
   "cell_type": "code",
   "execution_count": 10,
   "id": "db8c8f50",
   "metadata": {},
   "outputs": [
    {
     "name": "stdout",
     "output_type": "stream",
     "text": [
      "------------\n",
      "| 0 | 0 | 0 | \n",
      "------------\n",
      "| 0 | 0 | 0 | \n",
      "------------\n",
      "| * | 0 | z | \n",
      "------------\n"
     ]
    }
   ],
   "source": [
    "s = State(rows=3, cols=3, forbidden_blocks=[(1,2), (2,2)])\n",
    "s.showBoard()"
   ]
  },
  {
   "cell_type": "code",
   "execution_count": 11,
   "id": "ad0f1c35",
   "metadata": {},
   "outputs": [
    {
     "name": "stdout",
     "output_type": "stream",
     "text": [
      "----------------------------------\n",
      "| 0 | 0 | 0 | \n",
      "----------------------------------\n",
      "| 0 | 0 | 0 | \n",
      "----------------------------------\n",
      "| 0 | 0 | 0 | \n",
      "----------------------------------\n"
     ]
    }
   ],
   "source": [
    "ag = Agent(state=s)\n",
    "ag.showValues()"
   ]
  },
  {
   "cell_type": "code",
   "execution_count": 12,
   "id": "c243c9f2",
   "metadata": {},
   "outputs": [
    {
     "name": "stdout",
     "output_type": "stream",
     "text": [
      "Game End Reward -1\n",
      "Game End Reward -1\n",
      "Game End Reward 1\n",
      "Game End Reward 1\n",
      "Game End Reward 1\n",
      "Game End Reward 1\n",
      "Game End Reward 1\n",
      "Game End Reward 1\n",
      "Game End Reward 1\n",
      "Game End Reward 1\n"
     ]
    }
   ],
   "source": [
    "ag.play(10)"
   ]
  },
  {
   "cell_type": "code",
   "execution_count": 13,
   "id": "84a7463b",
   "metadata": {},
   "outputs": [
    {
     "name": "stdout",
     "output_type": "stream",
     "text": [
      "----------------------------------\n",
      "| 0.118 | 0.742 | 1.0 | \n",
      "----------------------------------\n",
      "| 0.024 | -0.09 | -1.0 | \n",
      "----------------------------------\n",
      "| -0.031 | -0.079 | 0 | \n",
      "----------------------------------\n"
     ]
    }
   ],
   "source": [
    "ag.showValues()"
   ]
  },
  {
   "cell_type": "code",
   "execution_count": 14,
   "id": "3884a2b2",
   "metadata": {},
   "outputs": [
    {
     "name": "stdout",
     "output_type": "stream",
     "text": [
      "----------------------\n",
      "| 0 | 0 | 0 | 0 | 0 | \n",
      "----------------------\n",
      "| 0 | 0 | z | 0 | 0 | \n",
      "----------------------\n",
      "| 0 | 0 | 0 | z | 0 | \n",
      "----------------------\n",
      "| 0 | 0 | 0 | 0 | z | \n",
      "----------------------\n",
      "| * | 0 | 0 | 0 | 0 | \n",
      "----------------------\n"
     ]
    }
   ],
   "source": [
    "s = State(rows=5, cols=5, forbidden_blocks=[(1,2), (2,3), (3,4)])\n",
    "s.showBoard()"
   ]
  },
  {
   "cell_type": "code",
   "execution_count": 15,
   "id": "9da202d4",
   "metadata": {},
   "outputs": [
    {
     "name": "stdout",
     "output_type": "stream",
     "text": [
      "Game End Reward 1\n",
      "Game End Reward 1\n",
      "Game End Reward 1\n",
      "Game End Reward 1\n",
      "Game End Reward 1\n",
      "Game End Reward 1\n",
      "Game End Reward 1\n",
      "Game End Reward 1\n",
      "Game End Reward 1\n",
      "Game End Reward 1\n",
      "----------------------------------\n",
      "| 0 | 0.428 | 0.634 | 0.782 | 1.0 | \n",
      "----------------------------------\n",
      "| 0.02 | 0.218 | 0 | 0.173 | 0 | \n",
      "----------------------------------\n",
      "| 0.032 | 0.094 | 0.022 | 0 | 0 | \n",
      "----------------------------------\n",
      "| 0.001 | 0.053 | 0.001 | 0.0 | 0 | \n",
      "----------------------------------\n",
      "| 0.004 | 0.022 | 0.008 | 0.002 | 0.0 | \n",
      "----------------------------------\n"
     ]
    }
   ],
   "source": [
    "ag = Agent(state=s)\n",
    "ag.play(10)\n",
    "ag.showValues()"
   ]
  },
  {
   "cell_type": "code",
   "execution_count": 20,
   "id": "85ab8ae4",
   "metadata": {},
   "outputs": [
    {
     "name": "stdout",
     "output_type": "stream",
     "text": [
      "-----------------------------------------------\n",
      "| 0 | 0 | 0 | 0 | 0 | 0 | 0 | 0 | 0 | 0 | \n",
      "-----------------------------------------------\n",
      "| 0 | 0 | z | 0 | 0 | 0 | 0 | 0 | 0 | 0 | \n",
      "-----------------------------------------------\n",
      "| 0 | 0 | 0 | z | 0 | 0 | 0 | 0 | 0 | 0 | \n",
      "-----------------------------------------------\n",
      "| 0 | 0 | 0 | 0 | z | 0 | 0 | 0 | 0 | 0 | \n",
      "-----------------------------------------------\n",
      "| 0 | 0 | 0 | 0 | z | 0 | 0 | 0 | 0 | 0 | \n",
      "-----------------------------------------------\n",
      "| 0 | 0 | 0 | 0 | z | 0 | 0 | 0 | 0 | 0 | \n",
      "-----------------------------------------------\n",
      "| 0 | 0 | 0 | 0 | 0 | 0 | 0 | 0 | 0 | 0 | \n",
      "-----------------------------------------------\n",
      "| 0 | 0 | 0 | 0 | z | z | z | z | 0 | 0 | \n",
      "-----------------------------------------------\n",
      "| 0 | 0 | 0 | 0 | 0 | 0 | 0 | 0 | 0 | 0 | \n",
      "-----------------------------------------------\n",
      "| * | 0 | 0 | 0 | 0 | 0 | 0 | 0 | 0 | 0 | \n",
      "-----------------------------------------------\n"
     ]
    }
   ],
   "source": [
    "s = State(rows=10, cols=10, \n",
    "          forbidden_blocks=[(1,2), (2,3), (3,4), \n",
    "                            (7,4), (7,5), (7,6), (7,7), (4,4), (5,4)], \n",
    "          win_state=(1,9), lose_state=(0,9))\n",
    "s.showBoard()"
   ]
  },
  {
   "cell_type": "code",
   "execution_count": 21,
   "id": "5fbd903f",
   "metadata": {},
   "outputs": [
    {
     "name": "stdout",
     "output_type": "stream",
     "text": [
      "Game End Reward 1\n",
      "Game End Reward 1\n",
      "Game End Reward 1\n",
      "Game End Reward 1\n",
      "Game End Reward 1\n",
      "Game End Reward 1\n",
      "Game End Reward 1\n",
      "Game End Reward 1\n",
      "Game End Reward 1\n",
      "Game End Reward 1\n",
      "----------------------------------\n",
      "| 0 | 0 | 0 | 0 | 0 | 0 | 0 | 0 | 0 | 0 | \n",
      "----------------------------------\n",
      "| 0 | 0 | 0 | 0 | 0 | 0 | 0 | 0 | 0 | 1.0 | \n",
      "----------------------------------\n",
      "| 0 | 0 | 0 | 0 | 0 | 0 | 0 | 0 | 0.165 | 0.804 | \n",
      "----------------------------------\n",
      "| 0 | 0 | 0 | 0 | 0 | 0 | 0.001 | 0.003 | 0.017 | 0.594 | \n",
      "----------------------------------\n",
      "| 0 | 0 | 0 | 0 | 0 | 0 | 0.0 | 0.0 | 0.021 | 0.401 | \n",
      "----------------------------------\n",
      "| 0 | 0 | 0 | 0 | 0 | 0 | 0.0 | 0.001 | 0.011 | 0.239 | \n",
      "----------------------------------\n",
      "| 0 | 0 | 0 | 0 | 0 | 0 | 0 | 0 | 0.026 | 0.107 | \n",
      "----------------------------------\n",
      "| 0 | 0 | 0 | 0 | 0 | 0 | 0 | 0 | 0.003 | 0.056 | \n",
      "----------------------------------\n",
      "| 0 | 0 | 0 | 0 | 0 | 0 | 0 | 0.0 | 0.0 | 0.027 | \n",
      "----------------------------------\n",
      "| 0 | 0.0 | 0.0 | 0.0 | 0.0 | 0.0 | 0.0 | 0.0 | 0.003 | 0.013 | \n",
      "----------------------------------\n"
     ]
    }
   ],
   "source": [
    "ag = Agent(state=s)\n",
    "ag.play(10)\n",
    "ag.showValues()"
   ]
  },
  {
   "cell_type": "code",
   "execution_count": null,
   "id": "936bc265",
   "metadata": {},
   "outputs": [],
   "source": []
  }
 ],
 "metadata": {
  "kernelspec": {
   "display_name": "Python 3",
   "language": "python",
   "name": "python3"
  },
  "language_info": {
   "codemirror_mode": {
    "name": "ipython",
    "version": 3
   },
   "file_extension": ".py",
   "mimetype": "text/x-python",
   "name": "python",
   "nbconvert_exporter": "python",
   "pygments_lexer": "ipython3",
   "version": "3.8.5"
  }
 },
 "nbformat": 4,
 "nbformat_minor": 5
}

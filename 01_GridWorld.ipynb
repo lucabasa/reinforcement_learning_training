{
 "cells": [
  {
   "cell_type": "code",
   "execution_count": 1,
   "id": "d4b4a2e3",
   "metadata": {},
   "outputs": [],
   "source": [
    "from GridWorld.board import State"
   ]
  },
  {
   "cell_type": "code",
   "execution_count": 2,
   "id": "a5a75083",
   "metadata": {},
   "outputs": [],
   "source": [
    "s = State()"
   ]
  },
  {
   "cell_type": "code",
   "execution_count": 3,
   "id": "e4433de9",
   "metadata": {},
   "outputs": [
    {
     "name": "stdout",
     "output_type": "stream",
     "text": [
      "-----------------\n",
      "| 0 | 0 | 0 | 0 | \n",
      "-----------------\n",
      "| 0 | 0 | 0 | 0 | \n",
      "-----------------\n",
      "| * | 0 | 0 | 0 | \n",
      "-----------------\n"
     ]
    }
   ],
   "source": [
    "s.showBoard()"
   ]
  },
  {
   "cell_type": "code",
   "execution_count": 4,
   "id": "f76d931f",
   "metadata": {},
   "outputs": [
    {
     "data": {
      "text/plain": [
       "(2, 0)"
      ]
     },
     "execution_count": 4,
     "metadata": {},
     "output_type": "execute_result"
    }
   ],
   "source": [
    "s.state"
   ]
  },
  {
   "cell_type": "code",
   "execution_count": 5,
   "id": "4cf7b189",
   "metadata": {},
   "outputs": [
    {
     "name": "stdout",
     "output_type": "stream",
     "text": [
      "(2, 1)\n",
      "-----------------\n",
      "| 0 | 0 | 0 | 0 | \n",
      "-----------------\n",
      "| 0 | 0 | 0 | 0 | \n",
      "-----------------\n",
      "| * | * | 0 | 0 | \n",
      "-----------------\n"
     ]
    }
   ],
   "source": [
    "s.state = s.nxtPosition('right')\n",
    "print(s.state)\n",
    "s.showBoard()"
   ]
  },
  {
   "cell_type": "code",
   "execution_count": 6,
   "id": "fd9f2e51",
   "metadata": {},
   "outputs": [
    {
     "name": "stdout",
     "output_type": "stream",
     "text": [
      "(1, 1)\n",
      "-----------------\n",
      "| 0 | 0 | 0 | 0 | \n",
      "-----------------\n",
      "| 0 | * | 0 | 0 | \n",
      "-----------------\n",
      "| * | * | 0 | 0 | \n",
      "-----------------\n"
     ]
    }
   ],
   "source": [
    "s.state = s.nxtPosition('up')\n",
    "print(s.state)\n",
    "s.showBoard()"
   ]
  },
  {
   "cell_type": "code",
   "execution_count": 7,
   "id": "5daaed84",
   "metadata": {},
   "outputs": [
    {
     "name": "stdout",
     "output_type": "stream",
     "text": [
      "-----------------\n",
      "| 0 | 0 | 0 | 0 | \n",
      "-----------------\n",
      "| 0 | z | z | 0 | \n",
      "-----------------\n",
      "| * | 0 | 0 | 0 | \n",
      "-----------------\n"
     ]
    }
   ],
   "source": [
    "s = State(forbidden_blocks=[(1, 1), (1,3), (1,2)])\n",
    "s.showBoard()"
   ]
  },
  {
   "cell_type": "code",
   "execution_count": 8,
   "id": "74d6e53a",
   "metadata": {},
   "outputs": [
    {
     "name": "stdout",
     "output_type": "stream",
     "text": [
      "-----------------\n",
      "| 0 | 0 | 0 | 0 | \n",
      "-----------------\n",
      "| 0 | z | z | 0 | \n",
      "-----------------\n",
      "| * | * | 0 | 0 | \n",
      "-----------------\n"
     ]
    }
   ],
   "source": [
    "s.state = s.nxtPosition('right')\n",
    "s.state = s.nxtPosition('up')\n",
    "s.state = s.nxtPosition('up')\n",
    "s.showBoard()"
   ]
  },
  {
   "cell_type": "code",
   "execution_count": 9,
   "id": "ee29c89d",
   "metadata": {},
   "outputs": [],
   "source": [
    "from GridWorld.agent import Agent"
   ]
  },
  {
   "cell_type": "code",
   "execution_count": 10,
   "id": "ea516933",
   "metadata": {},
   "outputs": [
    {
     "name": "stdout",
     "output_type": "stream",
     "text": [
      "------------\n",
      "| 0 | 0 | 0 | \n",
      "------------\n",
      "| 0 | 0 | 0 | \n",
      "------------\n",
      "| * | 0 | z | \n",
      "------------\n"
     ]
    }
   ],
   "source": [
    "s = State(rows=3, cols=3, forbidden_blocks=[(1,2), (2,2)])\n",
    "s.showBoard()"
   ]
  },
  {
   "cell_type": "code",
   "execution_count": 11,
   "id": "168b252e",
   "metadata": {},
   "outputs": [
    {
     "name": "stdout",
     "output_type": "stream",
     "text": [
      "----------------------------------\n",
      "| 0 | 0 | 0 | \n",
      "----------------------------------\n",
      "| 0 | 0 | 0 | \n",
      "----------------------------------\n",
      "| 0 | 0 | 0 | \n",
      "----------------------------------\n"
     ]
    }
   ],
   "source": [
    "ag = Agent(state=s)\n",
    "ag.showValues()"
   ]
  },
  {
   "cell_type": "code",
   "execution_count": 12,
   "id": "5654fb55",
   "metadata": {},
   "outputs": [],
   "source": [
    "ag.play(10)"
   ]
  },
  {
   "cell_type": "code",
   "execution_count": 13,
   "id": "90a305c4",
   "metadata": {},
   "outputs": [
    {
     "name": "stdout",
     "output_type": "stream",
     "text": [
      "----------------------------------\n",
      "| 0.225 | 0.66 | 1.0 | \n",
      "----------------------------------\n",
      "| 0.003 | 0.305 | -1.0 | \n",
      "----------------------------------\n",
      "| -0.017 | 0.049 | 0 | \n",
      "----------------------------------\n"
     ]
    }
   ],
   "source": [
    "ag.showValues()"
   ]
  },
  {
   "cell_type": "code",
   "execution_count": 14,
   "id": "55fa6122",
   "metadata": {},
   "outputs": [
    {
     "name": "stdout",
     "output_type": "stream",
     "text": [
      "----------------------\n",
      "| 0 | 0 | 0 | 0 | 0 | \n",
      "----------------------\n",
      "| 0 | 0 | z | 0 | 0 | \n",
      "----------------------\n",
      "| 0 | 0 | 0 | z | 0 | \n",
      "----------------------\n",
      "| 0 | 0 | 0 | 0 | z | \n",
      "----------------------\n",
      "| * | 0 | 0 | 0 | 0 | \n",
      "----------------------\n"
     ]
    }
   ],
   "source": [
    "s = State(rows=5, cols=5, forbidden_blocks=[(1,2), (2,3), (3,4)])\n",
    "s.showBoard()"
   ]
  },
  {
   "cell_type": "code",
   "execution_count": 15,
   "id": "2dc077cb",
   "metadata": {},
   "outputs": [
    {
     "name": "stdout",
     "output_type": "stream",
     "text": [
      "----------------------------------\n",
      "| 0.071 | 0.299 | 0.644 | 0.868 | 1.0 | \n",
      "----------------------------------\n",
      "| 0.001 | 0.14 | 0 | 0.118 | 0 | \n",
      "----------------------------------\n",
      "| 0.0 | 0.058 | 0.012 | 0 | 0 | \n",
      "----------------------------------\n",
      "| 0.0 | 0.0 | 0.002 | 0.0 | 0 | \n",
      "----------------------------------\n",
      "| 0 | 0.0 | 0.0 | 0.0 | 0.0 | \n",
      "----------------------------------\n"
     ]
    }
   ],
   "source": [
    "ag = Agent(state=s)\n",
    "ag.play(10)\n",
    "ag.showValues()"
   ]
  },
  {
   "cell_type": "code",
   "execution_count": 16,
   "id": "cbde9432",
   "metadata": {},
   "outputs": [
    {
     "name": "stdout",
     "output_type": "stream",
     "text": [
      "-----------------------------------------------\n",
      "| 0 | 0 | 0 | 0 | 0 | 0 | 0 | 0 | 0 | 0 | \n",
      "-----------------------------------------------\n",
      "| 0 | 0 | z | 0 | 0 | 0 | 0 | 0 | 0 | 0 | \n",
      "-----------------------------------------------\n",
      "| 0 | 0 | 0 | z | 0 | 0 | 0 | 0 | 0 | 0 | \n",
      "-----------------------------------------------\n",
      "| 0 | 0 | 0 | 0 | z | 0 | 0 | 0 | 0 | 0 | \n",
      "-----------------------------------------------\n",
      "| 0 | 0 | 0 | 0 | z | 0 | 0 | 0 | 0 | 0 | \n",
      "-----------------------------------------------\n",
      "| 0 | 0 | 0 | 0 | z | 0 | 0 | 0 | 0 | 0 | \n",
      "-----------------------------------------------\n",
      "| 0 | 0 | 0 | 0 | 0 | 0 | 0 | 0 | 0 | 0 | \n",
      "-----------------------------------------------\n",
      "| 0 | 0 | 0 | 0 | z | z | z | z | 0 | 0 | \n",
      "-----------------------------------------------\n",
      "| 0 | 0 | 0 | 0 | 0 | 0 | 0 | 0 | 0 | 0 | \n",
      "-----------------------------------------------\n",
      "| * | 0 | 0 | 0 | 0 | 0 | 0 | 0 | 0 | 0 | \n",
      "-----------------------------------------------\n"
     ]
    }
   ],
   "source": [
    "s = State(rows=10, cols=10, \n",
    "          forbidden_blocks=[(1,2), (2,3), (3,4), \n",
    "                            (7,4), (7,5), (7,6), (7,7), (4,4), (5,4)], \n",
    "          win_state=(1,9), lose_state=(0,9))\n",
    "s.showBoard()"
   ]
  },
  {
   "cell_type": "code",
   "execution_count": 17,
   "id": "d2e8dcc1",
   "metadata": {},
   "outputs": [
    {
     "name": "stdout",
     "output_type": "stream",
     "text": [
      "----------------------------------\n",
      "| 0 | 0 | 0 | 0 | 0 | 0 | 0 | 0 | 0 | 0 | \n",
      "----------------------------------\n",
      "| 0 | 0 | 0 | 0 | 0 | 0 | 0 | 0 | 0 | 1.0 | \n",
      "----------------------------------\n",
      "| 0 | 0 | 0 | 0 | 0 | 0 | 0 | 0 | 0.183 | 0.8 | \n",
      "----------------------------------\n",
      "| 0 | 0 | 0 | 0 | 0 | 0 | 0 | 0.018 | 0.076 | 0.572 | \n",
      "----------------------------------\n",
      "| 0 | 0 | 0 | 0 | 0 | 0 | 0 | 0 | 0.025 | 0.372 | \n",
      "----------------------------------\n",
      "| 0 | 0 | 0 | 0 | 0 | 0 | 0 | 0 | 0 | 0.212 | \n",
      "----------------------------------\n",
      "| 0 | 0 | 0 | 0 | 0 | 0 | 0 | 0 | 0 | 0.125 | \n",
      "----------------------------------\n",
      "| 0 | 0 | 0 | 0 | 0 | 0 | 0 | 0 | 0.027 | 0.058 | \n",
      "----------------------------------\n",
      "| 0 | 0.0 | 0.0 | 0.0 | 0.0 | 0.0 | 0.001 | 0.003 | 0.012 | 0.007 | \n",
      "----------------------------------\n",
      "| 0 | 0.0 | 0.0 | 0.0 | 0.0 | 0.0 | 0.0 | 0.001 | 0.002 | 0.002 | \n",
      "----------------------------------\n"
     ]
    }
   ],
   "source": [
    "ag = Agent(state=s)\n",
    "ag.play(10)\n",
    "ag.showValues()"
   ]
  },
  {
   "cell_type": "code",
   "execution_count": 18,
   "id": "f895d349",
   "metadata": {},
   "outputs": [
    {
     "name": "stdout",
     "output_type": "stream",
     "text": [
      "----------------------------------\n",
      "| 0 | 0 | 0 | 0 | 0 | 0 | 0 | 0 | 0 | 0 | \n",
      "----------------------------------\n",
      "| 0 | 0 | 0 | 0 | 0 | 0 | 0 | 0 | 0.871 | 1.0 | \n",
      "----------------------------------\n",
      "| 0 | 0 | 0 | 0 | 0 | 0 | 0 | 0.091 | 0.644 | 0 | \n",
      "----------------------------------\n",
      "| 0 | 0 | 0 | 0 | 0 | 0 | 0 | 0 | 0.409 | 0.005 | \n",
      "----------------------------------\n",
      "| 0 | 0 | 0 | 0 | 0 | 0 | 0 | 0.082 | 0.189 | 0.051 | \n",
      "----------------------------------\n",
      "| 0 | 0 | 0 | 0 | 0 | 0 | 0 | 0 | 0.075 | 0.023 | \n",
      "----------------------------------\n",
      "| 0 | 0 | 0 | 0 | 0 | 0 | 0.0 | 0.0 | 0.029 | 0.016 | \n",
      "----------------------------------\n",
      "| 0 | 0 | 0 | 0 | 0 | 0 | 0 | 0 | 0.001 | 0.007 | \n",
      "----------------------------------\n",
      "| 0 | 0 | 0 | 0 | 0 | 0 | 0.0 | 0.0 | 0.0 | 0.002 | \n",
      "----------------------------------\n",
      "| 0 | 0 | 0 | 0 | 0 | 0 | 0.0 | 0.0 | 0.0 | 0.0 | \n",
      "----------------------------------\n"
     ]
    }
   ],
   "source": [
    "ag = Agent(state=s, exp_rate=0.5)\n",
    "ag.play(10)\n",
    "ag.showValues()"
   ]
  },
  {
   "cell_type": "code",
   "execution_count": 19,
   "id": "ae2f4a75",
   "metadata": {},
   "outputs": [
    {
     "name": "stdout",
     "output_type": "stream",
     "text": [
      "----------------------------------\n",
      "| 0.0 | 0.0 | 0.0 | 0.0 | 0.003 | 0.008 | 0.03 | 0.093 | 0.072 | 0 | \n",
      "----------------------------------\n",
      "| 0.0 | 0.0 | 0 | 0.0 | 0.002 | 0.004 | 0.052 | 0.208 | 0.509 | 1.0 | \n",
      "----------------------------------\n",
      "| 0.0 | 0.0 | 0.0 | 0 | 0 | 0.005 | 0.039 | 0.118 | 0.243 | 0.37 | \n",
      "----------------------------------\n",
      "| 0.0 | 0.0 | 0.0 | 0.0 | 0 | 0.006 | 0.022 | 0.085 | 0.11 | 0.176 | \n",
      "----------------------------------\n",
      "| 0.0 | 0.0 | 0.0 | 0.0 | 0 | 0.004 | 0.013 | 0.072 | 0.062 | 0.086 | \n",
      "----------------------------------\n",
      "| 0 | 0.0 | 0.0 | 0.0 | 0 | 0.002 | 0.004 | 0.011 | 0.017 | 0.027 | \n",
      "----------------------------------\n",
      "| 0 | 0 | 0.0 | 0.0 | 0.0 | 0.0 | 0.002 | 0.005 | 0.008 | 0.002 | \n",
      "----------------------------------\n",
      "| 0 | 0 | 0 | 0 | 0 | 0 | 0 | 0 | 0.002 | 0.0 | \n",
      "----------------------------------\n",
      "| 0 | 0 | 0 | 0 | 0 | 0.0 | 0.0 | 0.0 | 0.0 | 0.0 | \n",
      "----------------------------------\n",
      "| 0 | 0 | 0 | 0 | 0 | 0.0 | 0.0 | 0.0 | 0.0 | 0.0 | \n",
      "----------------------------------\n"
     ]
    }
   ],
   "source": [
    "ag = Agent(state=s, exp_rate=0.9)\n",
    "ag.play(10)\n",
    "ag.showValues()"
   ]
  },
  {
   "cell_type": "code",
   "execution_count": 20,
   "id": "ef8ef0dc",
   "metadata": {},
   "outputs": [
    {
     "name": "stdout",
     "output_type": "stream",
     "text": [
      "----------------------\n",
      "| 0 | 0 | 0 | 0 | 0 | \n",
      "----------------------\n",
      "| 0 | 0 | z | 0 | 0 | \n",
      "----------------------\n",
      "| 0 | 0 | 0 | z | 0 | \n",
      "----------------------\n",
      "| 0 | 0 | 0 | 0 | z | \n",
      "----------------------\n",
      "| * | 0 | 0 | 0 | 0 | \n",
      "----------------------\n"
     ]
    }
   ],
   "source": [
    "s = State(rows=5, cols=5, forbidden_blocks=[(1,2), (2,3), (3,4)])\n",
    "s.showBoard()"
   ]
  },
  {
   "cell_type": "code",
   "execution_count": 21,
   "id": "5ff73544",
   "metadata": {},
   "outputs": [
    {
     "name": "stdout",
     "output_type": "stream",
     "text": [
      "(0, 0) {'up': 0, 'down': 0, 'left': 0, 'right': 0}\n",
      "(0, 1) {'up': 0, 'down': 0, 'left': 0, 'right': 0}\n",
      "(0, 2) {'up': 0, 'down': 0, 'left': 0, 'right': 0}\n",
      "(0, 3) {'up': 0, 'down': 0, 'left': 0, 'right': 0}\n",
      "(0, 4) {'up': 0, 'down': 0, 'left': 0, 'right': 0}\n",
      "(1, 0) {'up': 0, 'down': 0, 'left': 0, 'right': 0}\n",
      "(1, 1) {'up': 0, 'down': 0, 'left': 0, 'right': 0}\n",
      "(1, 2) {'up': 0, 'down': 0, 'left': 0, 'right': 0}\n",
      "(1, 3) {'up': 0, 'down': 0, 'left': 0, 'right': 0}\n",
      "(1, 4) {'up': 0, 'down': 0, 'left': 0, 'right': 0}\n",
      "(2, 0) {'up': 0, 'down': 0, 'left': 0, 'right': 0}\n",
      "(2, 1) {'up': 0, 'down': 0, 'left': 0, 'right': 0}\n",
      "(2, 2) {'up': 0, 'down': 0, 'left': 0, 'right': 0}\n",
      "(2, 3) {'up': 0, 'down': 0, 'left': 0, 'right': 0}\n",
      "(2, 4) {'up': 0, 'down': 0, 'left': 0, 'right': 0}\n",
      "(3, 0) {'up': 0, 'down': 0, 'left': 0, 'right': 0}\n",
      "(3, 1) {'up': 0, 'down': 0, 'left': 0, 'right': 0}\n",
      "(3, 2) {'up': 0, 'down': 0, 'left': 0, 'right': 0}\n",
      "(3, 3) {'up': 0, 'down': 0, 'left': 0, 'right': 0}\n",
      "(3, 4) {'up': 0, 'down': 0, 'left': 0, 'right': 0}\n",
      "(4, 0) {'up': 0, 'down': 0, 'left': 0, 'right': 0}\n",
      "(4, 1) {'up': 0, 'down': 0, 'left': 0, 'right': 0}\n",
      "(4, 2) {'up': 0, 'down': 0, 'left': 0, 'right': 0}\n",
      "(4, 3) {'up': 0, 'down': 0, 'left': 0, 'right': 0}\n",
      "(4, 4) {'up': 0, 'down': 0, 'left': 0, 'right': 0}\n"
     ]
    }
   ],
   "source": [
    "from GridWorld.agent import Agent_Q\n",
    "\n",
    "s = State(rows=5, cols=5, forbidden_blocks=[(1,2), (2,3), (3,4)])\n",
    "ag = Agent_Q(state=s)\n",
    "ag.showValues()"
   ]
  },
  {
   "cell_type": "code",
   "execution_count": 22,
   "id": "055a8375",
   "metadata": {},
   "outputs": [
    {
     "data": {
      "text/plain": [
       "{(0, 0): {'up': 0, 'down': 0, 'left': 0, 'right': 0},\n",
       " (0, 1): {'up': 0, 'down': 0.002, 'left': 0, 'right': 0.034},\n",
       " (0, 2): {'up': 0, 'down': 0.0, 'left': 0, 'right': 0.673},\n",
       " (0, 3): {'up': 1, 'down': 1, 'left': 1, 'right': 1},\n",
       " (0, 4): {'up': 1, 'down': 1, 'left': 1, 'right': 1},\n",
       " (1, 0): {'up': 0, 'down': 0, 'left': 0, 'right': 0.002},\n",
       " (1, 1): {'up': 0.01, 'down': 0.0, 'left': 0.0, 'right': 0.0},\n",
       " (1, 2): {'up': 0.132, 'down': 0, 'left': 0.001, 'right': -0.18},\n",
       " (1, 3): {'up': -1, 'down': -1, 'left': -1, 'right': -1},\n",
       " (1, 4): {'up': 0, 'down': 0, 'left': 0, 'right': 0},\n",
       " (2, 0): {'up': 0.0, 'down': 0.0, 'left': 0, 'right': 0.0},\n",
       " (2, 1): {'up': 0.0, 'down': 0.0, 'left': 0.0, 'right': -0.001},\n",
       " (2, 2): {'up': -0.014, 'down': 0.0, 'left': 0.0, 'right': -0.003},\n",
       " (2, 3): {'up': -0.18, 'down': -0.019, 'left': -0.002, 'right': -0.012},\n",
       " (2, 4): {'up': 0, 'down': 0, 'left': 0, 'right': 0},\n",
       " (3, 0): {'up': 0.0, 'down': 0, 'left': 0.0, 'right': 0.0},\n",
       " (3, 1): {'up': 0.0, 'down': 0.0, 'left': 0.0, 'right': 0.0},\n",
       " (3, 2): {'up': 0.0, 'down': 0.0, 'left': 0.0, 'right': 0.0},\n",
       " (3, 3): {'up': 0.0, 'down': 0.0, 'left': 0.0, 'right': 0.0},\n",
       " (3, 4): {'up': 0, 'down': 0, 'left': 0, 'right': 0},\n",
       " (4, 0): {'up': 0, 'down': 0, 'left': 0, 'right': 0.0},\n",
       " (4, 1): {'up': 0.0, 'down': 0.0, 'left': 0.0, 'right': 0.0},\n",
       " (4, 2): {'up': 0.0, 'down': 0.0, 'left': 0.0, 'right': 0.0},\n",
       " (4, 3): {'up': 0.0, 'down': 0.0, 'left': 0.0, 'right': 0.0},\n",
       " (4, 4): {'up': 0.0, 'down': 0.0, 'left': 0.0, 'right': 0.0}}"
      ]
     },
     "execution_count": 22,
     "metadata": {},
     "output_type": "execute_result"
    }
   ],
   "source": [
    "ag.play(10)\n",
    "ag.Q_values"
   ]
  },
  {
   "cell_type": "code",
   "execution_count": 26,
   "id": "90972840",
   "metadata": {},
   "outputs": [
    {
     "name": "stdout",
     "output_type": "stream",
     "text": [
      "-----------------------------------------------\n",
      "| 0 | 0 | 0 | 0 | 0 | 0 | 0 | 0 | 0 | 0 | \n",
      "-----------------------------------------------\n",
      "| 0 | 0 | z | 0 | 0 | 0 | 0 | 0 | 0 | 0 | \n",
      "-----------------------------------------------\n",
      "| 0 | 0 | 0 | z | 0 | 0 | 0 | 0 | 0 | 0 | \n",
      "-----------------------------------------------\n",
      "| 0 | 0 | 0 | 0 | z | 0 | 0 | 0 | 0 | 0 | \n",
      "-----------------------------------------------\n",
      "| 0 | 0 | 0 | 0 | z | 0 | 0 | 0 | 0 | 0 | \n",
      "-----------------------------------------------\n",
      "| 0 | 0 | 0 | 0 | z | 0 | 0 | 0 | 0 | 0 | \n",
      "-----------------------------------------------\n",
      "| 0 | 0 | 0 | 0 | 0 | 0 | 0 | 0 | 0 | 0 | \n",
      "-----------------------------------------------\n",
      "| 0 | 0 | 0 | 0 | z | z | z | z | 0 | 0 | \n",
      "-----------------------------------------------\n",
      "| 0 | 0 | 0 | 0 | 0 | 0 | 0 | 0 | 0 | 0 | \n",
      "-----------------------------------------------\n",
      "| * | 0 | 0 | 0 | 0 | 0 | 0 | 0 | 0 | 0 | \n",
      "-----------------------------------------------\n"
     ]
    }
   ],
   "source": [
    "s = State(rows=10, cols=10, \n",
    "          forbidden_blocks=[(1,2), (2,3), (3,4), \n",
    "                            (7,4), (7,5), (7,6), (7,7), (4,4), (5,4)], \n",
    "          win_state=(1,9), lose_state=(0,9), deterministic=False)\n",
    "s.showBoard()"
   ]
  },
  {
   "cell_type": "code",
   "execution_count": 27,
   "id": "7daa8a2d",
   "metadata": {},
   "outputs": [
    {
     "name": "stdout",
     "output_type": "stream",
     "text": [
      "(0, 0) {'up': 0.065, 'down': 0.001, 'left': 0.078, 'right': 0.321}\n",
      "(0, 1) {'up': 0.101, 'down': 0.076, 'left': 0.084, 'right': 0.693}\n",
      "(0, 2) {'up': 0.375, 'down': 0.273, 'left': 0.349, 'right': 0.898}\n",
      "(0, 3) {'up': 1, 'down': 1, 'left': 1, 'right': 1}\n",
      "(0, 4) {'up': 0, 'down': 0, 'left': 0, 'right': 0}\n",
      "(0, 5) {'up': 0, 'down': 0, 'left': 0, 'right': 0}\n",
      "(0, 6) {'up': 0, 'down': 0, 'left': 0, 'right': 0}\n",
      "(0, 7) {'up': 0, 'down': 0, 'left': 0, 'right': 0}\n",
      "(0, 8) {'up': 0, 'down': 0, 'left': 0, 'right': 0}\n",
      "(0, 9) {'up': 0, 'down': 0, 'left': 0, 'right': 0}\n",
      "(1, 0) {'up': 0.139, 'down': -0.0, 'left': 0.018, 'right': 0.048}\n",
      "(1, 1) {'up': 0.43, 'down': 0.002, 'left': 0.03, 'right': 0.35}\n",
      "(1, 2) {'up': 0.669, 'down': 0.023, 'left': 0.063, 'right': -0.531}\n",
      "(1, 3) {'up': -1, 'down': -0.791, 'left': -1, 'right': -1}\n",
      "(1, 4) {'up': 0, 'down': 0, 'left': 0, 'right': 0}\n",
      "(1, 5) {'up': 0, 'down': 0, 'left': 0, 'right': 0}\n",
      "(1, 6) {'up': 0, 'down': 0, 'left': 0, 'right': 0}\n",
      "(1, 7) {'up': 0, 'down': 0, 'left': 0, 'right': 0}\n",
      "(1, 8) {'up': 0, 'down': 0, 'left': 0, 'right': 0.18}\n",
      "(1, 9) {'up': 1, 'down': 1, 'left': 1, 'right': 1}\n",
      "(2, 0) {'up': -0.003, 'down': 0.0, 'left': -0.0, 'right': 0.02}\n",
      "(2, 1) {'up': 0.178, 'down': 0.022, 'left': 0.002, 'right': 0.015}\n",
      "(2, 2) {'up': 0.284, 'down': 0.001, 'left': 0.084, 'right': -0.006}\n",
      "(2, 3) {'up': -0.324, 'down': -0.024, 'left': 0.091, 'right': -0.056}\n",
      "(2, 4) {'up': 0, 'down': 0, 'left': 0, 'right': 0}\n",
      "(2, 5) {'up': 0, 'down': 0, 'left': 0, 'right': 0}\n",
      "(2, 6) {'up': 0, 'down': 0, 'left': 0, 'right': 0}\n",
      "(2, 7) {'up': 0, 'down': 0, 'left': 0, 'right': 0.006}\n",
      "(2, 8) {'up': 0.032, 'down': 0, 'left': 0, 'right': 0.0}\n",
      "(2, 9) {'up': 0, 'down': 0.0, 'left': 0, 'right': 0.0}\n",
      "(3, 0) {'up': 0, 'down': 0, 'left': 0, 'right': 0}\n",
      "(3, 1) {'up': 0, 'down': 0, 'left': 0, 'right': 0}\n",
      "(3, 2) {'up': 0, 'down': 0, 'left': 0, 'right': 0}\n",
      "(3, 3) {'up': 0, 'down': 0, 'left': 0, 'right': 0}\n",
      "(3, 4) {'up': 0, 'down': 0, 'left': 0, 'right': 0}\n",
      "(3, 5) {'up': 0, 'down': 0, 'left': 0, 'right': 0}\n",
      "(3, 6) {'up': 0, 'down': 0, 'left': 0, 'right': 0}\n",
      "(3, 7) {'up': 0, 'down': 0, 'left': 0, 'right': 0.001}\n",
      "(3, 8) {'up': 0, 'down': 0, 'left': 0.0, 'right': 0.0}\n",
      "(3, 9) {'up': 0, 'down': 0.0, 'left': 0.0, 'right': 0.0}\n",
      "(4, 0) {'up': 0, 'down': 0, 'left': 0, 'right': 0}\n",
      "(4, 1) {'up': 0, 'down': 0, 'left': 0, 'right': 0}\n",
      "(4, 2) {'up': 0, 'down': 0, 'left': 0, 'right': 0}\n",
      "(4, 3) {'up': 0, 'down': 0, 'left': 0, 'right': 0}\n",
      "(4, 4) {'up': 0, 'down': 0, 'left': 0, 'right': 0}\n",
      "(4, 5) {'up': 0, 'down': 0, 'left': 0, 'right': 0}\n",
      "(4, 6) {'up': 0, 'down': 0, 'left': 0, 'right': 0}\n",
      "(4, 7) {'up': 0, 'down': 0, 'left': 0, 'right': 0}\n",
      "(4, 8) {'up': 0, 'down': 0, 'left': 0, 'right': 0.0}\n",
      "(4, 9) {'up': 0.0, 'down': 0.0, 'left': 0.0, 'right': 0.0}\n",
      "(5, 0) {'up': 0, 'down': 0, 'left': 0, 'right': 0}\n",
      "(5, 1) {'up': 0, 'down': 0, 'left': 0, 'right': 0}\n",
      "(5, 2) {'up': 0, 'down': 0, 'left': 0, 'right': 0}\n",
      "(5, 3) {'up': 0, 'down': 0, 'left': 0, 'right': 0}\n",
      "(5, 4) {'up': 0, 'down': 0, 'left': 0, 'right': 0}\n",
      "(5, 5) {'up': 0, 'down': 0, 'left': 0, 'right': 0}\n",
      "(5, 6) {'up': 0, 'down': 0, 'left': 0, 'right': 0}\n",
      "(5, 7) {'up': 0, 'down': 0, 'left': 0, 'right': 0}\n",
      "(5, 8) {'up': 0, 'down': 0, 'left': 0, 'right': 0}\n",
      "(5, 9) {'up': 0.0, 'down': 0.0, 'left': 0, 'right': 0.0}\n",
      "(6, 0) {'up': 0, 'down': 0, 'left': 0, 'right': 0}\n",
      "(6, 1) {'up': 0, 'down': 0, 'left': 0, 'right': 0}\n",
      "(6, 2) {'up': 0, 'down': 0, 'left': 0, 'right': 0}\n",
      "(6, 3) {'up': 0, 'down': 0, 'left': 0, 'right': 0}\n",
      "(6, 4) {'up': 0, 'down': 0, 'left': 0, 'right': 0}\n",
      "(6, 5) {'up': 0, 'down': 0, 'left': 0, 'right': 0}\n",
      "(6, 6) {'up': 0, 'down': 0, 'left': 0, 'right': 0}\n",
      "(6, 7) {'up': 0, 'down': 0, 'left': 0, 'right': 0}\n",
      "(6, 8) {'up': 0, 'down': 0, 'left': 0, 'right': 0}\n",
      "(6, 9) {'up': 0.0, 'down': 0, 'left': 0, 'right': 0.0}\n",
      "(7, 0) {'up': 0, 'down': 0, 'left': 0, 'right': 0}\n",
      "(7, 1) {'up': 0, 'down': 0, 'left': 0, 'right': 0}\n",
      "(7, 2) {'up': 0, 'down': 0, 'left': 0, 'right': 0}\n",
      "(7, 3) {'up': 0, 'down': 0, 'left': 0, 'right': 0}\n",
      "(7, 4) {'up': 0, 'down': 0, 'left': 0, 'right': 0}\n",
      "(7, 5) {'up': 0, 'down': 0, 'left': 0, 'right': 0}\n",
      "(7, 6) {'up': 0, 'down': 0, 'left': 0, 'right': 0}\n",
      "(7, 7) {'up': 0, 'down': 0, 'left': 0, 'right': 0}\n",
      "(7, 8) {'up': 0, 'down': 0, 'left': 0, 'right': 0}\n",
      "(7, 9) {'up': 0, 'down': 0, 'left': 0, 'right': 0.0}\n",
      "(8, 0) {'up': 0, 'down': 0, 'left': 0, 'right': 0}\n",
      "(8, 1) {'up': 0, 'down': 0, 'left': 0, 'right': 0}\n",
      "(8, 2) {'up': 0, 'down': 0, 'left': 0, 'right': 0}\n",
      "(8, 3) {'up': 0, 'down': 0, 'left': 0, 'right': 0}\n",
      "(8, 4) {'up': 0, 'down': 0, 'left': 0, 'right': 0}\n",
      "(8, 5) {'up': 0, 'down': 0, 'left': 0, 'right': 0}\n",
      "(8, 6) {'up': 0, 'down': 0, 'left': 0, 'right': 0}\n",
      "(8, 7) {'up': 0, 'down': 0, 'left': 0, 'right': 0}\n",
      "(8, 8) {'up': 0, 'down': 0, 'left': 0, 'right': 0}\n",
      "(8, 9) {'up': 0, 'down': 0, 'left': 0, 'right': 0.0}\n",
      "(9, 0) {'up': 0, 'down': 0, 'left': 0, 'right': 0.0}\n",
      "(9, 1) {'up': 0, 'down': 0, 'left': 0, 'right': 0.0}\n",
      "(9, 2) {'up': 0, 'down': 0.0, 'left': 0.0, 'right': 0.0}\n",
      "(9, 3) {'up': 0, 'down': 0, 'left': 0, 'right': 0.0}\n",
      "(9, 4) {'up': 0, 'down': 0, 'left': 0, 'right': 0.0}\n",
      "(9, 5) {'up': 0, 'down': 0, 'left': 0, 'right': 0.0}\n",
      "(9, 6) {'up': 0, 'down': 0, 'left': 0, 'right': 0.0}\n",
      "(9, 7) {'up': 0, 'down': 0, 'left': 0, 'right': 0.0}\n",
      "(9, 8) {'up': 0, 'down': 0, 'left': 0, 'right': 0.0}\n",
      "(9, 9) {'up': 0.0, 'down': 0, 'left': 0, 'right': 0.0}\n"
     ]
    }
   ],
   "source": [
    "ag = Agent_Q(state=s)\n",
    "ag.play(100)\n",
    "ag.showValues()"
   ]
  },
  {
   "cell_type": "code",
   "execution_count": 28,
   "id": "b9e05956",
   "metadata": {},
   "outputs": [
    {
     "name": "stdout",
     "output_type": "stream",
     "text": [
      "(0, 0) {'up': 0, 'down': 0, 'left': 0, 'right': 0}\n",
      "(0, 1) {'up': 0, 'down': 0, 'left': 0, 'right': 0.517}\n",
      "(0, 2) {'up': 0.728, 'down': -0.016, 'left': 0, 'right': 0.898}\n",
      "(0, 3) {'up': 1, 'down': 1, 'left': 1, 'right': 1}\n",
      "(0, 4) {'up': 0, 'down': 0, 'left': 0, 'right': 0}\n",
      "(0, 5) {'up': 0, 'down': 0, 'left': 0, 'right': 0}\n",
      "(0, 6) {'up': 0, 'down': 0, 'left': 0, 'right': 0}\n",
      "(0, 7) {'up': 0, 'down': 0, 'left': 0, 'right': 0}\n",
      "(0, 8) {'up': 0, 'down': 0, 'left': 0, 'right': 0}\n",
      "(0, 9) {'up': 0, 'down': 0, 'left': 0, 'right': 0}\n",
      "(1, 0) {'up': 0, 'down': 0, 'left': 0, 'right': 0}\n",
      "(1, 1) {'up': 0.239, 'down': 0, 'left': 0, 'right': 0}\n",
      "(1, 2) {'up': 0.393, 'down': -0.01, 'left': 0.053, 'right': -0.324}\n",
      "(1, 3) {'up': -1, 'down': -1, 'left': -0.771, 'right': -1}\n",
      "(1, 4) {'up': 0, 'down': 0, 'left': 0, 'right': 0}\n",
      "(1, 5) {'up': 0, 'down': 0, 'left': 0, 'right': 0}\n",
      "(1, 6) {'up': 0, 'down': 0, 'left': 0, 'right': 0}\n",
      "(1, 7) {'up': 0, 'down': 0, 'left': 0, 'right': 0}\n",
      "(1, 8) {'up': 0, 'down': 0, 'left': 0, 'right': 0}\n",
      "(1, 9) {'up': 1, 'down': 1, 'left': 1, 'right': 1}\n",
      "(2, 0) {'up': 0, 'down': 0, 'left': 0, 'right': 0.001}\n",
      "(2, 1) {'up': 0.047, 'down': 0, 'left': 0.0, 'right': -0.001}\n",
      "(2, 2) {'up': -0.058, 'down': 0, 'left': 0.005, 'right': -0.004}\n",
      "(2, 3) {'up': -0.18, 'down': -0.005, 'left': 0, 'right': -0.022}\n",
      "(2, 4) {'up': 0, 'down': 0, 'left': 0, 'right': 0}\n",
      "(2, 5) {'up': 0, 'down': 0, 'left': 0, 'right': 0}\n",
      "(2, 6) {'up': 0, 'down': 0, 'left': 0, 'right': 0}\n",
      "(2, 7) {'up': 0, 'down': 0, 'left': 0, 'right': 0}\n",
      "(2, 8) {'up': 0, 'down': 0, 'left': 0, 'right': 0}\n",
      "(2, 9) {'up': 0, 'down': 0, 'left': 0, 'right': 0.18}\n",
      "(3, 0) {'up': 0, 'down': 0, 'left': 0, 'right': 0}\n",
      "(3, 1) {'up': 0, 'down': 0, 'left': 0, 'right': 0}\n",
      "(3, 2) {'up': 0, 'down': 0, 'left': 0, 'right': 0}\n",
      "(3, 3) {'up': 0, 'down': 0, 'left': 0, 'right': 0}\n",
      "(3, 4) {'up': 0, 'down': 0, 'left': 0, 'right': 0}\n",
      "(3, 5) {'up': 0, 'down': 0, 'left': 0, 'right': 0}\n",
      "(3, 6) {'up': 0, 'down': 0, 'left': 0, 'right': 0}\n",
      "(3, 7) {'up': 0, 'down': 0, 'left': 0, 'right': 0}\n",
      "(3, 8) {'up': 0, 'down': 0, 'left': 0, 'right': 0}\n",
      "(3, 9) {'up': 0.005, 'down': 0.0, 'left': 0, 'right': 0.022}\n",
      "(4, 0) {'up': 0, 'down': 0, 'left': 0, 'right': 0}\n",
      "(4, 1) {'up': 0, 'down': 0, 'left': 0, 'right': 0}\n",
      "(4, 2) {'up': 0, 'down': 0, 'left': 0, 'right': 0}\n",
      "(4, 3) {'up': 0, 'down': 0, 'left': 0, 'right': 0}\n",
      "(4, 4) {'up': 0, 'down': 0, 'left': 0, 'right': 0}\n",
      "(4, 5) {'up': 0, 'down': 0, 'left': 0, 'right': 0}\n",
      "(4, 6) {'up': 0, 'down': 0, 'left': 0, 'right': 0}\n",
      "(4, 7) {'up': 0, 'down': 0, 'left': 0, 'right': 0}\n",
      "(4, 8) {'up': 0, 'down': 0.0, 'left': 0, 'right': 0.0}\n",
      "(4, 9) {'up': 0.0, 'down': 0.0, 'left': 0.0, 'right': 0.005}\n",
      "(5, 0) {'up': 0, 'down': 0, 'left': 0, 'right': 0}\n",
      "(5, 1) {'up': 0, 'down': 0, 'left': 0, 'right': 0}\n",
      "(5, 2) {'up': 0, 'down': 0, 'left': 0, 'right': 0}\n",
      "(5, 3) {'up': 0, 'down': 0, 'left': 0, 'right': 0}\n",
      "(5, 4) {'up': 0, 'down': 0, 'left': 0, 'right': 0}\n",
      "(5, 5) {'up': 0, 'down': 0, 'left': 0, 'right': 0}\n",
      "(5, 6) {'up': 0, 'down': 0, 'left': 0, 'right': 0}\n",
      "(5, 7) {'up': 0, 'down': 0, 'left': 0, 'right': 0.0}\n",
      "(5, 8) {'up': 0, 'down': 0, 'left': 0.0, 'right': 0.0}\n",
      "(5, 9) {'up': 0.0, 'down': 0.0, 'left': 0.0, 'right': 0.001}\n",
      "(6, 0) {'up': 0, 'down': 0, 'left': 0, 'right': 0}\n",
      "(6, 1) {'up': 0, 'down': 0, 'left': 0, 'right': 0}\n",
      "(6, 2) {'up': 0, 'down': 0, 'left': 0, 'right': 0}\n",
      "(6, 3) {'up': 0, 'down': 0, 'left': 0, 'right': 0}\n",
      "(6, 4) {'up': 0, 'down': 0, 'left': 0, 'right': 0}\n",
      "(6, 5) {'up': 0, 'down': 0, 'left': 0, 'right': 0}\n",
      "(6, 6) {'up': 0, 'down': 0, 'left': 0, 'right': 0}\n",
      "(6, 7) {'up': 0, 'down': 0, 'left': 0, 'right': 0}\n",
      "(6, 8) {'up': 0, 'down': 0, 'left': 0, 'right': 0}\n",
      "(6, 9) {'up': 0.0, 'down': 0.0, 'left': 0.0, 'right': 0.0}\n",
      "(7, 0) {'up': 0, 'down': 0, 'left': 0, 'right': 0}\n",
      "(7, 1) {'up': 0, 'down': 0, 'left': 0, 'right': 0}\n",
      "(7, 2) {'up': 0, 'down': 0, 'left': 0, 'right': 0}\n",
      "(7, 3) {'up': 0, 'down': 0, 'left': 0, 'right': 0}\n",
      "(7, 4) {'up': 0, 'down': 0, 'left': 0, 'right': 0}\n",
      "(7, 5) {'up': 0, 'down': 0, 'left': 0, 'right': 0}\n",
      "(7, 6) {'up': 0, 'down': 0, 'left': 0, 'right': 0}\n",
      "(7, 7) {'up': 0, 'down': 0, 'left': 0, 'right': 0}\n",
      "(7, 8) {'up': 0, 'down': 0.0, 'left': 0, 'right': 0.0}\n",
      "(7, 9) {'up': 0.0, 'down': 0.0, 'left': 0.0, 'right': 0.0}\n",
      "(8, 0) {'up': 0, 'down': 0, 'left': 0, 'right': 0}\n",
      "(8, 1) {'up': 0, 'down': 0, 'left': 0, 'right': 0}\n",
      "(8, 2) {'up': 0, 'down': 0, 'left': 0, 'right': 0.0}\n",
      "(8, 3) {'up': 0.0, 'down': 0, 'left': 0, 'right': 0.0}\n",
      "(8, 4) {'up': 0, 'down': 0.0, 'left': 0, 'right': 0.0}\n",
      "(8, 5) {'up': 0, 'down': 0, 'left': 0.0, 'right': 0.0}\n",
      "(8, 6) {'up': 0, 'down': 0.0, 'left': 0, 'right': 0.0}\n",
      "(8, 7) {'up': 0.0, 'down': 0, 'left': 0, 'right': 0.0}\n",
      "(8, 8) {'up': 0.0, 'down': 0.0, 'left': 0.0, 'right': 0.0}\n",
      "(8, 9) {'up': 0.0, 'down': 0.0, 'left': 0.0, 'right': 0.0}\n",
      "(9, 0) {'up': 0, 'down': 0, 'left': 0, 'right': 0}\n",
      "(9, 1) {'up': 0, 'down': 0, 'left': 0, 'right': 0.0}\n",
      "(9, 2) {'up': 0, 'down': 0, 'left': 0, 'right': 0.0}\n",
      "(9, 3) {'up': 0, 'down': 0, 'left': 0, 'right': 0.0}\n",
      "(9, 4) {'up': 0.0, 'down': 0.0, 'left': 0, 'right': 0}\n",
      "(9, 5) {'up': 0, 'down': 0, 'left': 0, 'right': 0}\n",
      "(9, 6) {'up': 0, 'down': 0, 'left': 0, 'right': 0.0}\n",
      "(9, 7) {'up': 0, 'down': 0.0, 'left': 0, 'right': 0.0}\n",
      "(9, 8) {'up': 0.0, 'down': 0, 'left': 0.0, 'right': 0.0}\n",
      "(9, 9) {'up': 0.0, 'down': 0.0, 'left': 0.0, 'right': 0.0}\n"
     ]
    }
   ],
   "source": [
    "ag = Agent_Q(state=s)\n",
    "ag.play(100)\n",
    "ag.showValues()"
   ]
  },
  {
   "cell_type": "code",
   "execution_count": null,
   "id": "3e30a338",
   "metadata": {},
   "outputs": [],
   "source": []
  }
 ],
 "metadata": {
  "kernelspec": {
   "display_name": "Python 3",
   "language": "python",
   "name": "python3"
  },
  "language_info": {
   "codemirror_mode": {
    "name": "ipython",
    "version": 3
   },
   "file_extension": ".py",
   "mimetype": "text/x-python",
   "name": "python",
   "nbconvert_exporter": "python",
   "pygments_lexer": "ipython3",
   "version": "3.8.5"
  }
 },
 "nbformat": 4,
 "nbformat_minor": 5
}

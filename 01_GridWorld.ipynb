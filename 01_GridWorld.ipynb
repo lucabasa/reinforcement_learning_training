{
 "cells": [
  {
   "cell_type": "code",
   "execution_count": 1,
   "id": "7696ecef",
   "metadata": {},
   "outputs": [],
   "source": [
    "from GridWorld.board import State"
   ]
  },
  {
   "cell_type": "code",
   "execution_count": 2,
   "id": "ebac31da",
   "metadata": {},
   "outputs": [],
   "source": [
    "s = State()"
   ]
  },
  {
   "cell_type": "code",
   "execution_count": 3,
   "id": "1fc0aaf9",
   "metadata": {},
   "outputs": [
    {
     "name": "stdout",
     "output_type": "stream",
     "text": [
      "-----------------\n",
      "| 0 | 0 | 0 | 0 | \n",
      "-----------------\n",
      "| 0 | 0 | 0 | 0 | \n",
      "-----------------\n",
      "| * | 0 | 0 | 0 | \n",
      "-----------------\n"
     ]
    }
   ],
   "source": [
    "s.showBoard()"
   ]
  },
  {
   "cell_type": "code",
   "execution_count": 4,
   "id": "acb9e12d",
   "metadata": {},
   "outputs": [
    {
     "data": {
      "text/plain": [
       "(2, 0)"
      ]
     },
     "execution_count": 4,
     "metadata": {},
     "output_type": "execute_result"
    }
   ],
   "source": [
    "s.state"
   ]
  },
  {
   "cell_type": "code",
   "execution_count": 5,
   "id": "71f22ede",
   "metadata": {},
   "outputs": [
    {
     "name": "stdout",
     "output_type": "stream",
     "text": [
      "(2, 1)\n",
      "-----------------\n",
      "| 0 | 0 | 0 | 0 | \n",
      "-----------------\n",
      "| 0 | 0 | 0 | 0 | \n",
      "-----------------\n",
      "| * | * | 0 | 0 | \n",
      "-----------------\n"
     ]
    }
   ],
   "source": [
    "s.state = s.nxtPosition('right')\n",
    "print(s.state)\n",
    "s.showBoard()"
   ]
  },
  {
   "cell_type": "code",
   "execution_count": 6,
   "id": "14d6b88d",
   "metadata": {},
   "outputs": [
    {
     "name": "stdout",
     "output_type": "stream",
     "text": [
      "(1, 1)\n",
      "-----------------\n",
      "| 0 | 0 | 0 | 0 | \n",
      "-----------------\n",
      "| 0 | * | 0 | 0 | \n",
      "-----------------\n",
      "| * | * | 0 | 0 | \n",
      "-----------------\n"
     ]
    }
   ],
   "source": [
    "s.state = s.nxtPosition('up')\n",
    "print(s.state)\n",
    "s.showBoard()"
   ]
  },
  {
   "cell_type": "code",
   "execution_count": 7,
   "id": "c4ae0b30",
   "metadata": {},
   "outputs": [
    {
     "name": "stdout",
     "output_type": "stream",
     "text": [
      "-----------------\n",
      "| 0 | 0 | 0 | 0 | \n",
      "-----------------\n",
      "| 0 | z | z | 0 | \n",
      "-----------------\n",
      "| * | 0 | 0 | 0 | \n",
      "-----------------\n"
     ]
    }
   ],
   "source": [
    "s = State(forbidden_blocks=[(1, 1), (1,3), (1,2)])\n",
    "s.showBoard()"
   ]
  },
  {
   "cell_type": "code",
   "execution_count": 8,
   "id": "1b6c6b10",
   "metadata": {},
   "outputs": [
    {
     "name": "stdout",
     "output_type": "stream",
     "text": [
      "-----------------\n",
      "| 0 | 0 | 0 | 0 | \n",
      "-----------------\n",
      "| 0 | z | z | 0 | \n",
      "-----------------\n",
      "| * | * | 0 | 0 | \n",
      "-----------------\n"
     ]
    }
   ],
   "source": [
    "s.state = s.nxtPosition('right')\n",
    "s.state = s.nxtPosition('up')\n",
    "s.state = s.nxtPosition('up')\n",
    "s.showBoard()"
   ]
  },
  {
   "cell_type": "code",
   "execution_count": 9,
   "id": "869ff417",
   "metadata": {},
   "outputs": [],
   "source": [
    "from GridWorld.agent import Agent"
   ]
  },
  {
   "cell_type": "code",
   "execution_count": 10,
   "id": "13a0b8a0",
   "metadata": {},
   "outputs": [
    {
     "name": "stdout",
     "output_type": "stream",
     "text": [
      "------------\n",
      "| 0 | 0 | 0 | \n",
      "------------\n",
      "| 0 | 0 | 0 | \n",
      "------------\n",
      "| * | 0 | z | \n",
      "------------\n"
     ]
    }
   ],
   "source": [
    "s = State(rows=3, cols=3, forbidden_blocks=[(1,2), (2,2)])\n",
    "s.showBoard()"
   ]
  },
  {
   "cell_type": "code",
   "execution_count": 11,
   "id": "186671f9",
   "metadata": {},
   "outputs": [
    {
     "name": "stdout",
     "output_type": "stream",
     "text": [
      "----------------------------------\n",
      "| 0 | 0 | 0 | \n",
      "----------------------------------\n",
      "| 0 | 0 | 0 | \n",
      "----------------------------------\n",
      "| 0 | 0 | 0 | \n",
      "----------------------------------\n"
     ]
    }
   ],
   "source": [
    "ag = Agent(state=s)\n",
    "ag.showValues()"
   ]
  },
  {
   "cell_type": "code",
   "execution_count": 12,
   "id": "86cabcdb",
   "metadata": {},
   "outputs": [],
   "source": [
    "ag.play(10)"
   ]
  },
  {
   "cell_type": "code",
   "execution_count": 13,
   "id": "3a138e65",
   "metadata": {},
   "outputs": [
    {
     "name": "stdout",
     "output_type": "stream",
     "text": [
      "----------------------------------\n",
      "| 0.088 | 0.59 | 1.0 | \n",
      "----------------------------------\n",
      "| 0.036 | 0.007 | 0 | \n",
      "----------------------------------\n",
      "| 0.007 | 0.0 | 0 | \n",
      "----------------------------------\n"
     ]
    }
   ],
   "source": [
    "ag.showValues()"
   ]
  },
  {
   "cell_type": "code",
   "execution_count": 14,
   "id": "c59774ca",
   "metadata": {},
   "outputs": [
    {
     "name": "stdout",
     "output_type": "stream",
     "text": [
      "----------------------\n",
      "| 0 | 0 | 0 | 0 | 0 | \n",
      "----------------------\n",
      "| 0 | 0 | z | 0 | 0 | \n",
      "----------------------\n",
      "| 0 | 0 | 0 | z | 0 | \n",
      "----------------------\n",
      "| 0 | 0 | 0 | 0 | z | \n",
      "----------------------\n",
      "| * | 0 | 0 | 0 | 0 | \n",
      "----------------------\n"
     ]
    }
   ],
   "source": [
    "s = State(rows=5, cols=5, forbidden_blocks=[(1,2), (2,3), (3,4)])\n",
    "s.showBoard()"
   ]
  },
  {
   "cell_type": "code",
   "execution_count": 15,
   "id": "289bdac1",
   "metadata": {},
   "outputs": [
    {
     "name": "stdout",
     "output_type": "stream",
     "text": [
      "----------------------------------\n",
      "| 0.022 | 0.159 | 0.42 | 0.758 | 1.0 | \n",
      "----------------------------------\n",
      "| 0 | 0.04 | 0 | 0 | 0 | \n",
      "----------------------------------\n",
      "| 0 | 0.007 | 0.001 | 0 | 0 | \n",
      "----------------------------------\n",
      "| 0.0 | 0.001 | 0.0 | 0.0 | 0 | \n",
      "----------------------------------\n",
      "| 0.0 | 0.0 | 0.0 | 0.0 | 0.0 | \n",
      "----------------------------------\n"
     ]
    }
   ],
   "source": [
    "ag = Agent(state=s)\n",
    "ag.play(10)\n",
    "ag.showValues()"
   ]
  },
  {
   "cell_type": "code",
   "execution_count": 16,
   "id": "b29a1b51",
   "metadata": {},
   "outputs": [
    {
     "name": "stdout",
     "output_type": "stream",
     "text": [
      "-----------------------------------------------\n",
      "| 0 | 0 | 0 | 0 | 0 | 0 | 0 | 0 | 0 | 0 | \n",
      "-----------------------------------------------\n",
      "| 0 | 0 | z | 0 | 0 | 0 | 0 | 0 | 0 | 0 | \n",
      "-----------------------------------------------\n",
      "| 0 | 0 | 0 | z | 0 | 0 | 0 | 0 | 0 | 0 | \n",
      "-----------------------------------------------\n",
      "| 0 | 0 | 0 | 0 | z | 0 | 0 | 0 | 0 | 0 | \n",
      "-----------------------------------------------\n",
      "| 0 | 0 | 0 | 0 | z | 0 | 0 | 0 | 0 | 0 | \n",
      "-----------------------------------------------\n",
      "| 0 | 0 | 0 | 0 | z | 0 | 0 | 0 | 0 | 0 | \n",
      "-----------------------------------------------\n",
      "| 0 | 0 | 0 | 0 | 0 | 0 | 0 | 0 | 0 | 0 | \n",
      "-----------------------------------------------\n",
      "| 0 | 0 | 0 | 0 | z | z | z | z | 0 | 0 | \n",
      "-----------------------------------------------\n",
      "| 0 | 0 | 0 | 0 | 0 | 0 | 0 | 0 | 0 | 0 | \n",
      "-----------------------------------------------\n",
      "| * | 0 | 0 | 0 | 0 | 0 | 0 | 0 | 0 | 0 | \n",
      "-----------------------------------------------\n"
     ]
    }
   ],
   "source": [
    "s = State(rows=10, cols=10, \n",
    "          forbidden_blocks=[(1,2), (2,3), (3,4), \n",
    "                            (7,4), (7,5), (7,6), (7,7), (4,4), (5,4)], \n",
    "          win_state=(1,9), lose_state=(0,9))\n",
    "s.showBoard()"
   ]
  },
  {
   "cell_type": "code",
   "execution_count": 17,
   "id": "20c8b446",
   "metadata": {},
   "outputs": [
    {
     "name": "stdout",
     "output_type": "stream",
     "text": [
      "----------------------------------\n",
      "| 0 | 0 | 0 | 0 | 0 | 0 | 0 | 0 | 0 | 0 | \n",
      "----------------------------------\n",
      "| 0 | 0 | 0 | 0 | 0 | 0 | 0 | 0 | 0 | 1.0 | \n",
      "----------------------------------\n",
      "| 0 | 0 | 0 | 0 | 0 | 0 | 0 | 0.008 | 0.034 | 0.887 | \n",
      "----------------------------------\n",
      "| 0 | 0 | 0 | 0 | 0 | 0 | 0 | 0 | 0.123 | 0.636 | \n",
      "----------------------------------\n",
      "| 0 | 0 | 0 | 0 | 0 | 0 | 0 | 0 | 0.063 | 0.354 | \n",
      "----------------------------------\n",
      "| 0 | 0 | 0 | 0 | 0 | 0 | 0 | 0 | 0.0 | 0.188 | \n",
      "----------------------------------\n",
      "| 0 | 0 | 0 | 0 | 0 | 0 | 0 | 0.002 | 0.029 | 0.071 | \n",
      "----------------------------------\n",
      "| 0 | 0 | 0 | 0 | 0 | 0 | 0 | 0 | 0.01 | 0.053 | \n",
      "----------------------------------\n",
      "| 0 | 0 | 0.0 | 0.0 | 0.0 | 0.0 | 0.0 | 0.0 | 0.004 | 0.025 | \n",
      "----------------------------------\n",
      "| 0.0 | 0.0 | 0.0 | 0.0 | 0.0 | 0.0 | 0.0 | 0.0 | 0.0 | 0.002 | \n",
      "----------------------------------\n"
     ]
    }
   ],
   "source": [
    "ag = Agent(state=s)\n",
    "ag.play(10)\n",
    "ag.showValues()"
   ]
  },
  {
   "cell_type": "code",
   "execution_count": 18,
   "id": "86f3fb47",
   "metadata": {},
   "outputs": [
    {
     "name": "stdout",
     "output_type": "stream",
     "text": [
      "----------------------------------\n",
      "| 0 | 0 | 0 | 0 | 0 | 0 | -0.008 | -0.04 | -0.2 | -1.0 | \n",
      "----------------------------------\n",
      "| 0 | 0 | 0 | 0 | 0 | 0 | 0.006 | 0.04 | 0.2 | 1.0 | \n",
      "----------------------------------\n",
      "| 0 | 0 | 0 | 0 | 0 | 0 | 0.001 | -0.0 | 0.026 | 0.539 | \n",
      "----------------------------------\n",
      "| 0 | 0 | 0 | 0 | 0 | 0 | 0.0 | 0.0 | 0.002 | 0.568 | \n",
      "----------------------------------\n",
      "| 0 | 0 | 0 | 0.0 | 0 | 0 | 0 | 0.001 | 0.02 | 0.265 | \n",
      "----------------------------------\n",
      "| 0 | 0 | 0.0 | 0.0 | 0 | 0 | 0 | 0.0 | 0.009 | 0.129 | \n",
      "----------------------------------\n",
      "| 0 | 0 | 0.0 | 0.0 | 0.0 | 0.0 | 0.0 | 0.0 | 0.0 | 0.005 | \n",
      "----------------------------------\n",
      "| 0 | 0 | 0.0 | 0.0 | 0 | 0 | 0 | 0 | 0.0 | 0.0 | \n",
      "----------------------------------\n",
      "| 0 | 0 | 0 | 0 | 0 | 0 | 0 | 0.0 | 0.0 | 0.0 | \n",
      "----------------------------------\n",
      "| 0 | 0 | 0 | 0 | 0 | 0 | 0 | 0 | 0.0 | 0.0 | \n",
      "----------------------------------\n"
     ]
    }
   ],
   "source": [
    "ag = Agent(state=s, exp_rate=0.5)\n",
    "ag.play(10)\n",
    "ag.showValues()"
   ]
  },
  {
   "cell_type": "code",
   "execution_count": 19,
   "id": "c06a6f8d",
   "metadata": {},
   "outputs": [
    {
     "name": "stdout",
     "output_type": "stream",
     "text": [
      "----------------------------------\n",
      "| 0 | 0 | 0.0 | 0.0 | 0.0 | 0.002 | 0.008 | 0.132 | 0.213 | 0 | \n",
      "----------------------------------\n",
      "| 0 | 0 | 0 | 0.0 | 0.0 | 0.004 | 0.019 | 0.094 | 0.481 | 1.0 | \n",
      "----------------------------------\n",
      "| 0 | 0 | 0 | 0 | 0.003 | 0.009 | 0.012 | 0.091 | 0.251 | 0.132 | \n",
      "----------------------------------\n",
      "| 0 | 0 | 0 | 0 | 0 | 0.014 | 0.021 | 0.056 | 0.121 | 0.101 | \n",
      "----------------------------------\n",
      "| 0 | 0 | 0 | 0 | 0 | 0.007 | 0.015 | 0.018 | 0.079 | 0.083 | \n",
      "----------------------------------\n",
      "| 0 | 0 | 0 | 0 | 0 | 0.002 | 0.004 | 0.002 | 0.023 | 0.053 | \n",
      "----------------------------------\n",
      "| 0 | 0 | 0 | 0.0 | 0.0 | 0.0 | 0.001 | 0.003 | 0.006 | 0.025 | \n",
      "----------------------------------\n",
      "| 0 | 0 | 0 | 0.0 | 0 | 0 | 0 | 0 | 0.004 | 0.01 | \n",
      "----------------------------------\n",
      "| 0 | 0 | 0.0 | 0.0 | 0.0 | 0.0 | 0.0 | 0.0 | 0.002 | 0.003 | \n",
      "----------------------------------\n",
      "| 0 | 0 | 0.0 | 0.0 | 0.0 | 0.0 | 0.0 | 0.0 | 0.0 | 0.0 | \n",
      "----------------------------------\n"
     ]
    }
   ],
   "source": [
    "ag = Agent(state=s, exp_rate=0.9)\n",
    "ag.play(10)\n",
    "ag.showValues()"
   ]
  },
  {
   "cell_type": "code",
   "execution_count": 20,
   "id": "ffe351b3",
   "metadata": {},
   "outputs": [
    {
     "name": "stdout",
     "output_type": "stream",
     "text": [
      "----------------------\n",
      "| 0 | 0 | 0 | 0 | 0 | \n",
      "----------------------\n",
      "| 0 | 0 | z | 0 | 0 | \n",
      "----------------------\n",
      "| 0 | 0 | 0 | z | 0 | \n",
      "----------------------\n",
      "| 0 | 0 | 0 | 0 | z | \n",
      "----------------------\n",
      "| * | 0 | 0 | 0 | 0 | \n",
      "----------------------\n"
     ]
    }
   ],
   "source": [
    "s = State(rows=5, cols=5, forbidden_blocks=[(1,2), (2,3), (3,4)])\n",
    "s.showBoard()"
   ]
  },
  {
   "cell_type": "code",
   "execution_count": 21,
   "id": "d460a88f",
   "metadata": {},
   "outputs": [
    {
     "name": "stdout",
     "output_type": "stream",
     "text": [
      "(0, 0) {'up': 0, 'down': 0, 'left': 0, 'right': 0}\n",
      "(0, 1) {'up': 0, 'down': 0, 'left': 0, 'right': 0}\n",
      "(0, 2) {'up': 0, 'down': 0, 'left': 0, 'right': 0}\n",
      "(0, 3) {'up': 0, 'down': 0, 'left': 0, 'right': 0}\n",
      "(1, 0) {'up': 0, 'down': 0, 'left': 0, 'right': 0}\n",
      "(1, 1) {'up': 0, 'down': 0, 'left': 0, 'right': 0}\n",
      "(1, 2) {'up': 0, 'down': 0, 'left': 0, 'right': 0}\n",
      "(1, 3) {'up': 0, 'down': 0, 'left': 0, 'right': 0}\n",
      "(2, 0) {'up': 0, 'down': 0, 'left': 0, 'right': 0}\n",
      "(2, 1) {'up': 0, 'down': 0, 'left': 0, 'right': 0}\n",
      "(2, 2) {'up': 0, 'down': 0, 'left': 0, 'right': 0}\n",
      "(2, 3) {'up': 0, 'down': 0, 'left': 0, 'right': 0}\n"
     ]
    }
   ],
   "source": [
    "from GridWorld.agent import Agent_Q\n",
    "\n",
    "ag = Agent_Q(state=s, verbose=True)\n",
    "ag.showValues()"
   ]
  },
  {
   "cell_type": "code",
   "execution_count": 22,
   "id": "c628f01d",
   "metadata": {},
   "outputs": [
    {
     "data": {
      "text/plain": [
       "{(0, 0): {'up': 0, 'down': 0, 'left': 0, 'right': 0},\n",
       " (0, 1): {'up': 0, 'down': 0, 'left': 0, 'right': 0},\n",
       " (0, 2): {'up': 0, 'down': 0, 'left': 0, 'right': 0},\n",
       " (0, 3): {'up': 0, 'down': 0, 'left': 0, 'right': 0},\n",
       " (1, 0): {'up': 0, 'down': 0, 'left': 0, 'right': 0},\n",
       " (1, 1): {'up': 0, 'down': 0, 'left': 0, 'right': 0},\n",
       " (1, 2): {'up': 0, 'down': 0, 'left': 0, 'right': 0},\n",
       " (1, 3): {'up': 0, 'down': 0, 'left': 0, 'right': 0},\n",
       " (2, 0): {'up': 0, 'down': 0, 'left': 0, 'right': 0},\n",
       " (2, 1): {'up': 0, 'down': 0, 'left': 0, 'right': 0},\n",
       " (2, 2): {'up': 0, 'down': 0, 'left': 0, 'right': 0},\n",
       " (2, 3): {'up': 0, 'down': 0, 'left': 0, 'right': 0}}"
      ]
     },
     "execution_count": 22,
     "metadata": {},
     "output_type": "execute_result"
    }
   ],
   "source": [
    "ag.Q_values"
   ]
  },
  {
   "cell_type": "code",
   "execution_count": 23,
   "id": "6b13c074",
   "metadata": {},
   "outputs": [],
   "source": [
    "ag.play(10)"
   ]
  },
  {
   "cell_type": "code",
   "execution_count": 24,
   "id": "4e97bc5c",
   "metadata": {},
   "outputs": [
    {
     "data": {
      "text/plain": [
       "{(0, 0): {'up': 0, 'down': 0, 'left': 0, 'right': 0.019},\n",
       " (0, 1): {'up': 0.026, 'down': 0.014, 'left': 0.003, 'right': 0.456},\n",
       " (0, 2): {'up': 0, 'down': 0, 'left': 0.082, 'right': 0.749},\n",
       " (0, 3): {'up': 1, 'down': 1, 'left': 1, 'right': 1},\n",
       " (1, 0): {'up': 0.007, 'down': 0, 'left': 0.0, 'right': -0.006},\n",
       " (1, 1): {'up': 0.114, 'down': 0, 'left': 0.001, 'right': -0.032},\n",
       " (1, 2): {'up': 0, 'down': 0, 'left': 0, 'right': -0.18},\n",
       " (1, 3): {'up': -1, 'down': -1, 'left': -1, 'right': -1},\n",
       " (2, 0): {'up': 0.0, 'down': -0.0, 'left': -0.0, 'right': 0.0},\n",
       " (2, 1): {'up': 0.017, 'down': 0.001, 'left': 0.0, 'right': -0.002},\n",
       " (2, 2): {'up': 0, 'down': 0.0, 'left': -0.0, 'right': -0.008},\n",
       " (2, 3): {'up': -0.18, 'down': 0, 'left': -0.0, 'right': -0.022}}"
      ]
     },
     "execution_count": 24,
     "metadata": {},
     "output_type": "execute_result"
    }
   ],
   "source": [
    "ag.Q_values"
   ]
  },
  {
   "cell_type": "code",
   "execution_count": 25,
   "id": "cf439596",
   "metadata": {},
   "outputs": [
    {
     "name": "stdout",
     "output_type": "stream",
     "text": [
      "(0, 0) {'up': 0, 'down': 0, 'left': 0, 'right': 0.019}\n",
      "(0, 1) {'up': 0.026, 'down': 0.014, 'left': 0.003, 'right': 0.456}\n",
      "(0, 2) {'up': 0, 'down': 0, 'left': 0.082, 'right': 0.749}\n",
      "(0, 3) {'up': 1, 'down': 1, 'left': 1, 'right': 1}\n",
      "(1, 0) {'up': 0.007, 'down': 0, 'left': 0.0, 'right': -0.006}\n",
      "(1, 1) {'up': 0.114, 'down': 0, 'left': 0.001, 'right': -0.032}\n",
      "(1, 2) {'up': 0, 'down': 0, 'left': 0, 'right': -0.18}\n",
      "(1, 3) {'up': -1, 'down': -1, 'left': -1, 'right': -1}\n",
      "(2, 0) {'up': 0.0, 'down': -0.0, 'left': -0.0, 'right': 0.0}\n",
      "(2, 1) {'up': 0.017, 'down': 0.001, 'left': 0.0, 'right': -0.002}\n",
      "(2, 2) {'up': 0, 'down': 0.0, 'left': -0.0, 'right': -0.008}\n",
      "(2, 3) {'up': -0.18, 'down': 0, 'left': -0.0, 'right': -0.022}\n"
     ]
    }
   ],
   "source": [
    "ag.showValues()"
   ]
  },
  {
   "cell_type": "code",
   "execution_count": null,
   "id": "639d5169",
   "metadata": {},
   "outputs": [],
   "source": []
  }
 ],
 "metadata": {
  "kernelspec": {
   "display_name": "Python 3",
   "language": "python",
   "name": "python3"
  },
  "language_info": {
   "codemirror_mode": {
    "name": "ipython",
    "version": 3
   },
   "file_extension": ".py",
   "mimetype": "text/x-python",
   "name": "python",
   "nbconvert_exporter": "python",
   "pygments_lexer": "ipython3",
   "version": "3.8.5"
  }
 },
 "nbformat": 4,
 "nbformat_minor": 5
}

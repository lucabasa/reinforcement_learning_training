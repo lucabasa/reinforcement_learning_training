{
 "cells": [
  {
   "cell_type": "code",
   "execution_count": 1,
   "id": "15279481",
   "metadata": {},
   "outputs": [],
   "source": [
    "from GridWorld.board import State"
   ]
  },
  {
   "cell_type": "code",
   "execution_count": 2,
   "id": "32605d5a",
   "metadata": {},
   "outputs": [],
   "source": [
    "s = State()"
   ]
  },
  {
   "cell_type": "code",
   "execution_count": 3,
   "id": "24d22262",
   "metadata": {},
   "outputs": [
    {
     "name": "stdout",
     "output_type": "stream",
     "text": [
      "-----------------\n",
      "| 0 | 0 | 0 | 0 | \n",
      "-----------------\n",
      "| 0 | 0 | 0 | 0 | \n",
      "-----------------\n",
      "| * | 0 | 0 | 0 | \n",
      "-----------------\n"
     ]
    }
   ],
   "source": [
    "s.showBoard()"
   ]
  },
  {
   "cell_type": "code",
   "execution_count": 4,
   "id": "ba7ef996",
   "metadata": {},
   "outputs": [
    {
     "data": {
      "text/plain": [
       "(2, 0)"
      ]
     },
     "execution_count": 4,
     "metadata": {},
     "output_type": "execute_result"
    }
   ],
   "source": [
    "s.state"
   ]
  },
  {
   "cell_type": "code",
   "execution_count": 5,
   "id": "4c873561",
   "metadata": {},
   "outputs": [
    {
     "name": "stdout",
     "output_type": "stream",
     "text": [
      "(2, 1)\n",
      "-----------------\n",
      "| 0 | 0 | 0 | 0 | \n",
      "-----------------\n",
      "| 0 | 0 | 0 | 0 | \n",
      "-----------------\n",
      "| * | * | 0 | 0 | \n",
      "-----------------\n"
     ]
    }
   ],
   "source": [
    "s.state = s.nxtPosition('right')\n",
    "print(s.state)\n",
    "s.showBoard()"
   ]
  },
  {
   "cell_type": "code",
   "execution_count": 6,
   "id": "b6d3f9dd",
   "metadata": {},
   "outputs": [
    {
     "name": "stdout",
     "output_type": "stream",
     "text": [
      "(1, 1)\n",
      "-----------------\n",
      "| 0 | 0 | 0 | 0 | \n",
      "-----------------\n",
      "| 0 | * | 0 | 0 | \n",
      "-----------------\n",
      "| * | * | 0 | 0 | \n",
      "-----------------\n"
     ]
    }
   ],
   "source": [
    "s.state = s.nxtPosition('up')\n",
    "print(s.state)\n",
    "s.showBoard()"
   ]
  },
  {
   "cell_type": "code",
   "execution_count": 7,
   "id": "ab123ddd",
   "metadata": {},
   "outputs": [
    {
     "name": "stdout",
     "output_type": "stream",
     "text": [
      "-----------------\n",
      "| 0 | 0 | 0 | 0 | \n",
      "-----------------\n",
      "| 0 | z | z | 0 | \n",
      "-----------------\n",
      "| * | 0 | 0 | 0 | \n",
      "-----------------\n"
     ]
    }
   ],
   "source": [
    "s = State(forbidden_blocks=[(1, 1), (1,3), (1,2)])\n",
    "s.showBoard()"
   ]
  },
  {
   "cell_type": "code",
   "execution_count": 8,
   "id": "c3f87953",
   "metadata": {},
   "outputs": [
    {
     "name": "stdout",
     "output_type": "stream",
     "text": [
      "-----------------\n",
      "| 0 | 0 | 0 | 0 | \n",
      "-----------------\n",
      "| 0 | z | z | 0 | \n",
      "-----------------\n",
      "| * | * | 0 | 0 | \n",
      "-----------------\n"
     ]
    }
   ],
   "source": [
    "s.state = s.nxtPosition('right')\n",
    "s.state = s.nxtPosition('up')\n",
    "s.state = s.nxtPosition('up')\n",
    "s.showBoard()"
   ]
  },
  {
   "cell_type": "code",
   "execution_count": 9,
   "id": "4ede06a2",
   "metadata": {},
   "outputs": [],
   "source": [
    "from GridWorld.agent import Agent"
   ]
  },
  {
   "cell_type": "code",
   "execution_count": 10,
   "id": "593f4cd8",
   "metadata": {},
   "outputs": [
    {
     "name": "stdout",
     "output_type": "stream",
     "text": [
      "------------\n",
      "| 0 | 0 | 0 | \n",
      "------------\n",
      "| 0 | 0 | 0 | \n",
      "------------\n",
      "| * | 0 | z | \n",
      "------------\n"
     ]
    }
   ],
   "source": [
    "s = State(rows=3, cols=3, forbidden_blocks=[(1,2), (2,2)])\n",
    "s.showBoard()"
   ]
  },
  {
   "cell_type": "code",
   "execution_count": 11,
   "id": "3b10bea9",
   "metadata": {},
   "outputs": [
    {
     "name": "stdout",
     "output_type": "stream",
     "text": [
      "----------------------------------\n",
      "| 0 | 0 | 0 | \n",
      "----------------------------------\n",
      "| 0 | 0 | 0 | \n",
      "----------------------------------\n",
      "| 0 | 0 | 0 | \n",
      "----------------------------------\n"
     ]
    }
   ],
   "source": [
    "ag = Agent(state=s)\n",
    "ag.showValues()"
   ]
  },
  {
   "cell_type": "code",
   "execution_count": 12,
   "id": "574dff86",
   "metadata": {},
   "outputs": [
    {
     "name": "stdout",
     "output_type": "stream",
     "text": [
      "(2, 0)\n",
      "(2, 0)\n"
     ]
    }
   ],
   "source": [
    "print(ag.State.state)\n",
    "print(ag.orig_state.state)"
   ]
  },
  {
   "cell_type": "code",
   "execution_count": 32,
   "id": "f101f37a",
   "metadata": {},
   "outputs": [],
   "source": [
    "ag.train(5)"
   ]
  },
  {
   "cell_type": "code",
   "execution_count": 33,
   "id": "f89269aa",
   "metadata": {},
   "outputs": [
    {
     "name": "stdout",
     "output_type": "stream",
     "text": [
      "----------------------------------\n",
      "| 0.619 | 0.729 | 1.0 | \n",
      "----------------------------------\n",
      "| 0.384 | 0.175 | -1.0 | \n",
      "----------------------------------\n",
      "| 0.052 | 0.026 | 0 | \n",
      "----------------------------------\n"
     ]
    }
   ],
   "source": [
    "ag.showValues()"
   ]
  },
  {
   "cell_type": "code",
   "execution_count": 34,
   "id": "d700cc86",
   "metadata": {},
   "outputs": [
    {
     "name": "stdout",
     "output_type": "stream",
     "text": [
      "current position (2, 0) action up\n",
      "nxt state (1, 0)\n",
      "---------------------\n",
      "current position (1, 0) action up\n",
      "nxt state (0, 0)\n",
      "---------------------\n",
      "current position (0, 0) action right\n",
      "nxt state (0, 1)\n",
      "---------------------\n",
      "current position (0, 1) action right\n",
      "nxt state (0, 2)\n",
      "---------------------\n",
      "Solution found in 4 steps\n"
     ]
    }
   ],
   "source": [
    "ag.play()"
   ]
  },
  {
   "cell_type": "code",
   "execution_count": 35,
   "id": "9810c32a",
   "metadata": {},
   "outputs": [
    {
     "name": "stdout",
     "output_type": "stream",
     "text": [
      "----------------------\n",
      "| 0 | 0 | 0 | 0 | 0 | \n",
      "----------------------\n",
      "| 0 | 0 | z | 0 | 0 | \n",
      "----------------------\n",
      "| 0 | 0 | 0 | z | 0 | \n",
      "----------------------\n",
      "| 0 | 0 | 0 | 0 | z | \n",
      "----------------------\n",
      "| * | 0 | 0 | 0 | 0 | \n",
      "----------------------\n"
     ]
    }
   ],
   "source": [
    "s = State(rows=5, cols=5, forbidden_blocks=[(1,2), (2,3), (3,4)])\n",
    "s.showBoard()"
   ]
  },
  {
   "cell_type": "code",
   "execution_count": 36,
   "id": "947033c6",
   "metadata": {},
   "outputs": [
    {
     "name": "stdout",
     "output_type": "stream",
     "text": [
      "----------------------------------\n",
      "| 0.002 | 0.441 | 0.678 | 0.893 | 1.0 | \n",
      "----------------------------------\n",
      "| 0.041 | 0.251 | 0 | 0 | 0 | \n",
      "----------------------------------\n",
      "| 0.008 | 0.092 | 0.0 | 0 | 0 | \n",
      "----------------------------------\n",
      "| 0.022 | 0.042 | 0.0 | 0.0 | 0 | \n",
      "----------------------------------\n",
      "| 0.006 | 0.01 | 0.0 | 0.0 | 0.0 | \n",
      "----------------------------------\n",
      "current position (4, 0) action up\n",
      "nxt state (3, 0)\n",
      "---------------------\n",
      "current position (3, 0) action right\n",
      "nxt state (3, 1)\n",
      "---------------------\n",
      "current position (3, 1) action up\n",
      "nxt state (2, 1)\n",
      "---------------------\n",
      "current position (2, 1) action up\n",
      "nxt state (1, 1)\n",
      "---------------------\n",
      "current position (1, 1) action up\n",
      "nxt state (0, 1)\n",
      "---------------------\n",
      "current position (0, 1) action right\n",
      "nxt state (0, 2)\n",
      "---------------------\n",
      "current position (0, 2) action right\n",
      "nxt state (0, 3)\n",
      "---------------------\n",
      "current position (0, 3) action right\n",
      "nxt state (0, 4)\n",
      "---------------------\n",
      "Solution found in 8 steps\n"
     ]
    }
   ],
   "source": [
    "ag = Agent(state=s)\n",
    "ag.train(10)\n",
    "ag.showValues()\n",
    "ag.play()"
   ]
  },
  {
   "cell_type": "code",
   "execution_count": 37,
   "id": "a6fe60ed",
   "metadata": {},
   "outputs": [
    {
     "name": "stdout",
     "output_type": "stream",
     "text": [
      "-----------------------------------------------\n",
      "| 0 | 0 | 0 | 0 | 0 | 0 | 0 | 0 | 0 | 0 | \n",
      "-----------------------------------------------\n",
      "| 0 | 0 | z | 0 | 0 | 0 | 0 | 0 | 0 | 0 | \n",
      "-----------------------------------------------\n",
      "| 0 | 0 | 0 | z | 0 | 0 | 0 | 0 | 0 | 0 | \n",
      "-----------------------------------------------\n",
      "| 0 | 0 | 0 | 0 | z | 0 | 0 | 0 | 0 | 0 | \n",
      "-----------------------------------------------\n",
      "| 0 | 0 | 0 | 0 | z | 0 | 0 | 0 | 0 | 0 | \n",
      "-----------------------------------------------\n",
      "| 0 | 0 | 0 | 0 | z | 0 | 0 | 0 | 0 | 0 | \n",
      "-----------------------------------------------\n",
      "| 0 | 0 | 0 | 0 | 0 | 0 | 0 | 0 | 0 | 0 | \n",
      "-----------------------------------------------\n",
      "| 0 | 0 | 0 | 0 | z | z | z | z | 0 | 0 | \n",
      "-----------------------------------------------\n",
      "| 0 | 0 | 0 | 0 | 0 | 0 | 0 | 0 | 0 | 0 | \n",
      "-----------------------------------------------\n",
      "| * | 0 | 0 | 0 | 0 | 0 | 0 | 0 | 0 | 0 | \n",
      "-----------------------------------------------\n"
     ]
    }
   ],
   "source": [
    "s = State(rows=10, cols=10, \n",
    "          forbidden_blocks=[(1,2), (2,3), (3,4), \n",
    "                            (7,4), (7,5), (7,6), (7,7), (4,4), (5,4)], \n",
    "          win_state=(1,9), lose_state=(0,9))\n",
    "s.showBoard()"
   ]
  },
  {
   "cell_type": "code",
   "execution_count": 38,
   "id": "77101683",
   "metadata": {},
   "outputs": [
    {
     "name": "stdout",
     "output_type": "stream",
     "text": [
      "----------------------------------\n",
      "| 0 | 0 | 0 | 0 | 0 | 0 | 0 | 0 | 0 | 0 | \n",
      "----------------------------------\n",
      "| 0 | 0 | 0 | 0 | 0 | 0 | 0 | 0 | 0 | 1.0 | \n",
      "----------------------------------\n",
      "| 0 | 0 | 0 | 0 | 0 | 0 | 0 | 0 | 0.04 | 0.858 | \n",
      "----------------------------------\n",
      "| 0 | 0 | 0 | 0 | 0 | 0 | 0 | 0 | 0 | 0.578 | \n",
      "----------------------------------\n",
      "| 0 | 0 | 0 | 0 | 0 | 0 | 0 | 0.008 | 0.034 | 0.405 | \n",
      "----------------------------------\n",
      "| 0 | 0 | 0 | 0 | 0 | 0 | 0 | 0 | 0.056 | 0.265 | \n",
      "----------------------------------\n",
      "| 0 | 0 | 0 | 0 | 0 | 0 | 0 | 0 | 0.0 | 0.139 | \n",
      "----------------------------------\n",
      "| 0 | 0 | 0 | 0 | 0 | 0 | 0 | 0 | 0.0 | 0.065 | \n",
      "----------------------------------\n",
      "| 0 | 0.0 | 0.0 | 0.0 | 0.0 | 0.0 | 0.0 | 0.003 | 0.009 | 0.028 | \n",
      "----------------------------------\n",
      "| 0.0 | 0.0 | 0.0 | 0.0 | 0.0 | 0.0 | 0.0 | 0.001 | 0.002 | 0.0 | \n",
      "----------------------------------\n",
      "current position (9, 0) action right\n",
      "nxt state (9, 1)\n",
      "---------------------\n",
      "current position (9, 1) action right\n",
      "nxt state (9, 2)\n",
      "---------------------\n",
      "current position (9, 2) action right\n",
      "nxt state (9, 3)\n",
      "---------------------\n",
      "current position (9, 3) action right\n",
      "nxt state (9, 4)\n",
      "---------------------\n",
      "current position (9, 4) action right\n",
      "nxt state (9, 5)\n",
      "---------------------\n",
      "current position (9, 5) action right\n",
      "nxt state (9, 6)\n",
      "---------------------\n",
      "current position (9, 6) action right\n",
      "nxt state (9, 7)\n",
      "---------------------\n",
      "current position (9, 7) action up\n",
      "nxt state (8, 7)\n",
      "---------------------\n",
      "current position (8, 7) action right\n",
      "nxt state (8, 8)\n",
      "---------------------\n",
      "current position (8, 8) action right\n",
      "nxt state (8, 9)\n",
      "---------------------\n",
      "current position (8, 9) action up\n",
      "nxt state (7, 9)\n",
      "---------------------\n",
      "current position (7, 9) action up\n",
      "nxt state (6, 9)\n",
      "---------------------\n",
      "current position (6, 9) action up\n",
      "nxt state (5, 9)\n",
      "---------------------\n",
      "current position (5, 9) action up\n",
      "nxt state (4, 9)\n",
      "---------------------\n",
      "current position (4, 9) action up\n",
      "nxt state (3, 9)\n",
      "---------------------\n",
      "current position (3, 9) action up\n",
      "nxt state (2, 9)\n",
      "---------------------\n",
      "current position (2, 9) action up\n",
      "nxt state (1, 9)\n",
      "---------------------\n",
      "Solution found in 17 steps\n"
     ]
    }
   ],
   "source": [
    "ag = Agent(state=s)\n",
    "ag.train(10)\n",
    "ag.showValues()\n",
    "ag.play()"
   ]
  },
  {
   "cell_type": "code",
   "execution_count": 39,
   "id": "f2cc16d6",
   "metadata": {},
   "outputs": [
    {
     "name": "stdout",
     "output_type": "stream",
     "text": [
      "----------------------------------\n",
      "| 0 | 0 | 0 | 0 | 0 | 0 | 0 | 0 | 0 | 0 | \n",
      "----------------------------------\n",
      "| 0 | 0 | 0 | 0 | 0 | 0 | 0 | 0 | 0 | 1.0 | \n",
      "----------------------------------\n",
      "| 0 | 0 | 0 | 0 | 0 | 0 | 0 | 0.014 | 0.152 | 0.874 | \n",
      "----------------------------------\n",
      "| 0.0 | 0 | 0.0 | 0.0 | 0 | 0 | 0.011 | 0.054 | 0.157 | 0.457 | \n",
      "----------------------------------\n",
      "| 0.0 | 0.0 | 0.0 | 0.0 | 0 | 0 | 0.002 | 0.011 | 0.07 | 0.26 | \n",
      "----------------------------------\n",
      "| 0.0 | 0.0 | 0.0 | 0.0 | 0 | 0 | 0 | 0.0 | 0.061 | 0.166 | \n",
      "----------------------------------\n",
      "| 0.0 | 0.0 | 0.0 | 0.0 | 0.0 | 0.0 | 0.001 | 0.004 | 0.029 | 0.096 | \n",
      "----------------------------------\n",
      "| 0.0 | 0.0 | 0 | 0 | 0 | 0 | 0 | 0 | 0.019 | 0.042 | \n",
      "----------------------------------\n",
      "| 0.0 | 0.0 | 0 | 0 | 0.0 | 0.0 | 0.0 | 0.002 | 0.008 | 0.014 | \n",
      "----------------------------------\n",
      "| 0.0 | 0.0 | 0.0 | 0.0 | 0.0 | 0.0 | 0.0 | 0.0 | 0.0 | 0.001 | \n",
      "----------------------------------\n",
      "current position (9, 0) action right\n",
      "nxt state (9, 1)\n",
      "---------------------\n",
      "current position (9, 1) action right\n",
      "nxt state (9, 2)\n",
      "---------------------\n",
      "current position (9, 2) action right\n",
      "nxt state (9, 3)\n",
      "---------------------\n",
      "current position (9, 3) action right\n",
      "nxt state (9, 4)\n",
      "---------------------\n",
      "current position (9, 4) action right\n",
      "nxt state (9, 5)\n",
      "---------------------\n",
      "current position (9, 5) action right\n",
      "nxt state (9, 6)\n",
      "---------------------\n",
      "current position (9, 6) action right\n",
      "nxt state (9, 7)\n",
      "---------------------\n",
      "current position (9, 7) action up\n",
      "nxt state (8, 7)\n",
      "---------------------\n",
      "current position (8, 7) action right\n",
      "nxt state (8, 8)\n",
      "---------------------\n",
      "current position (8, 8) action up\n",
      "nxt state (7, 8)\n",
      "---------------------\n",
      "current position (7, 8) action right\n",
      "nxt state (7, 9)\n",
      "---------------------\n",
      "current position (7, 9) action up\n",
      "nxt state (6, 9)\n",
      "---------------------\n",
      "current position (6, 9) action up\n",
      "nxt state (5, 9)\n",
      "---------------------\n",
      "current position (5, 9) action up\n",
      "nxt state (4, 9)\n",
      "---------------------\n",
      "current position (4, 9) action up\n",
      "nxt state (3, 9)\n",
      "---------------------\n",
      "current position (3, 9) action up\n",
      "nxt state (2, 9)\n",
      "---------------------\n",
      "current position (2, 9) action up\n",
      "nxt state (1, 9)\n",
      "---------------------\n",
      "Solution found in 17 steps\n"
     ]
    }
   ],
   "source": [
    "ag = Agent(state=s, exp_rate=0.5)\n",
    "ag.train(10)\n",
    "ag.showValues()\n",
    "ag.play()"
   ]
  },
  {
   "cell_type": "code",
   "execution_count": 40,
   "id": "17831cf5",
   "metadata": {},
   "outputs": [
    {
     "name": "stdout",
     "output_type": "stream",
     "text": [
      "----------------------------------\n",
      "| 0.0 | 0.0 | 0.0 | 0.0 | 0.0 | 0 | 0 | -0.072 | -0.36 | -1.0 | \n",
      "----------------------------------\n",
      "| 0.0 | 0.0 | 0 | 0.0 | 0.0 | 0.001 | 0.003 | 0.035 | 0.203 | 1.0 | \n",
      "----------------------------------\n",
      "| 0.0 | 0.0 | 0.0 | 0 | 0.0 | 0.005 | 0.007 | 0.017 | 0.206 | 0.476 | \n",
      "----------------------------------\n",
      "| 0.0 | 0.0 | 0.0 | 0.0 | 0 | 0.008 | 0.029 | 0.071 | 0.188 | 0.291 | \n",
      "----------------------------------\n",
      "| 0.0 | 0.0 | 0.0 | 0.0 | 0 | 0.001 | 0.007 | 0.027 | 0.092 | 0.114 | \n",
      "----------------------------------\n",
      "| 0.0 | 0.0 | 0.0 | 0.0 | 0 | 0.0 | 0.003 | 0.008 | 0.027 | 0.051 | \n",
      "----------------------------------\n",
      "| 0.0 | 0.0 | 0.0 | 0.0 | 0.0 | 0.0 | 0.001 | 0.007 | 0.014 | 0.017 | \n",
      "----------------------------------\n",
      "| 0.0 | 0.0 | 0.0 | 0.0 | 0 | 0 | 0 | 0 | 0.003 | 0.01 | \n",
      "----------------------------------\n",
      "| 0.0 | 0.0 | 0.0 | 0.0 | 0.0 | 0.0 | 0.0 | 0.0 | 0.001 | 0.004 | \n",
      "----------------------------------\n",
      "| 0.0 | 0.0 | 0.0 | 0.0 | 0.0 | 0.0 | 0.0 | 0.0 | 0.0 | 0.002 | \n",
      "----------------------------------\n",
      "current position (9, 0) action right\n",
      "nxt state (9, 1)\n",
      "---------------------\n",
      "current position (9, 1) action right\n",
      "nxt state (9, 2)\n",
      "---------------------\n",
      "current position (9, 2) action right\n",
      "nxt state (9, 3)\n",
      "---------------------\n",
      "current position (9, 3) action right\n",
      "nxt state (9, 4)\n",
      "---------------------\n",
      "current position (9, 4) action right\n",
      "nxt state (9, 5)\n",
      "---------------------\n",
      "current position (9, 5) action right\n",
      "nxt state (9, 6)\n",
      "---------------------\n",
      "current position (9, 6) action right\n",
      "nxt state (9, 7)\n",
      "---------------------\n",
      "current position (9, 7) action right\n",
      "nxt state (9, 8)\n",
      "---------------------\n",
      "current position (9, 8) action right\n",
      "nxt state (9, 9)\n",
      "---------------------\n",
      "current position (9, 9) action up\n",
      "nxt state (8, 9)\n",
      "---------------------\n",
      "current position (8, 9) action up\n",
      "nxt state (7, 9)\n",
      "---------------------\n",
      "current position (7, 9) action up\n",
      "nxt state (6, 9)\n",
      "---------------------\n",
      "current position (6, 9) action up\n",
      "nxt state (5, 9)\n",
      "---------------------\n",
      "current position (5, 9) action up\n",
      "nxt state (4, 9)\n",
      "---------------------\n",
      "current position (4, 9) action up\n",
      "nxt state (3, 9)\n",
      "---------------------\n",
      "current position (3, 9) action up\n",
      "nxt state (2, 9)\n",
      "---------------------\n",
      "current position (2, 9) action up\n",
      "nxt state (1, 9)\n",
      "---------------------\n",
      "Solution found in 17 steps\n"
     ]
    }
   ],
   "source": [
    "ag = Agent(state=s, exp_rate=0.9)\n",
    "ag.train(10)\n",
    "ag.showValues()\n",
    "ag.play()"
   ]
  },
  {
   "cell_type": "code",
   "execution_count": 41,
   "id": "2c48a8dd",
   "metadata": {},
   "outputs": [
    {
     "name": "stdout",
     "output_type": "stream",
     "text": [
      "----------------------\n",
      "| 0 | 0 | 0 | 0 | 0 | \n",
      "----------------------\n",
      "| 0 | 0 | z | 0 | 0 | \n",
      "----------------------\n",
      "| 0 | 0 | 0 | z | 0 | \n",
      "----------------------\n",
      "| 0 | 0 | 0 | 0 | z | \n",
      "----------------------\n",
      "| * | 0 | 0 | 0 | 0 | \n",
      "----------------------\n"
     ]
    }
   ],
   "source": [
    "s = State(rows=5, cols=5, forbidden_blocks=[(1,2), (2,3), (3,4)])\n",
    "s.showBoard()"
   ]
  },
  {
   "cell_type": "code",
   "execution_count": 13,
   "id": "f491675d",
   "metadata": {},
   "outputs": [
    {
     "name": "stdout",
     "output_type": "stream",
     "text": [
      "(0, 0) {'up': 0, 'down': 0, 'left': 0, 'right': 0}\n",
      "(0, 1) {'up': 0, 'down': 0, 'left': 0, 'right': 0}\n",
      "(0, 2) {'up': 0, 'down': 0, 'left': 0, 'right': 0}\n",
      "(0, 3) {'up': 0, 'down': 0, 'left': 0, 'right': 0}\n",
      "(0, 4) {'up': 0, 'down': 0, 'left': 0, 'right': 0}\n",
      "(1, 0) {'up': 0, 'down': 0, 'left': 0, 'right': 0}\n",
      "(1, 1) {'up': 0, 'down': 0, 'left': 0, 'right': 0}\n",
      "(1, 2) {'up': 0, 'down': 0, 'left': 0, 'right': 0}\n",
      "(1, 3) {'up': 0, 'down': 0, 'left': 0, 'right': 0}\n",
      "(1, 4) {'up': 0, 'down': 0, 'left': 0, 'right': 0}\n",
      "(2, 0) {'up': 0, 'down': 0, 'left': 0, 'right': 0}\n",
      "(2, 1) {'up': 0, 'down': 0, 'left': 0, 'right': 0}\n",
      "(2, 2) {'up': 0, 'down': 0, 'left': 0, 'right': 0}\n",
      "(2, 3) {'up': 0, 'down': 0, 'left': 0, 'right': 0}\n",
      "(2, 4) {'up': 0, 'down': 0, 'left': 0, 'right': 0}\n",
      "(3, 0) {'up': 0, 'down': 0, 'left': 0, 'right': 0}\n",
      "(3, 1) {'up': 0, 'down': 0, 'left': 0, 'right': 0}\n",
      "(3, 2) {'up': 0, 'down': 0, 'left': 0, 'right': 0}\n",
      "(3, 3) {'up': 0, 'down': 0, 'left': 0, 'right': 0}\n",
      "(3, 4) {'up': 0, 'down': 0, 'left': 0, 'right': 0}\n",
      "(4, 0) {'up': 0, 'down': 0, 'left': 0, 'right': 0}\n",
      "(4, 1) {'up': 0, 'down': 0, 'left': 0, 'right': 0}\n",
      "(4, 2) {'up': 0, 'down': 0, 'left': 0, 'right': 0}\n",
      "(4, 3) {'up': 0, 'down': 0, 'left': 0, 'right': 0}\n",
      "(4, 4) {'up': 0, 'down': 0, 'left': 0, 'right': 0}\n"
     ]
    }
   ],
   "source": [
    "from GridWorld.agent import Agent_Q\n",
    "\n",
    "s = State(rows=5, cols=5, forbidden_blocks=[(1,2), (2,3), (3,4)])\n",
    "ag = Agent_Q(state=s)\n",
    "ag.showValues()"
   ]
  },
  {
   "cell_type": "code",
   "execution_count": 14,
   "id": "7c537135",
   "metadata": {},
   "outputs": [
    {
     "data": {
      "text/plain": [
       "{(0, 0): {'up': 0, 'down': 0, 'left': 0, 'right': 0},\n",
       " (0, 1): {'up': 0.001, 'down': 0.007, 'left': 0, 'right': 0.377},\n",
       " (0, 2): {'up': 0.062, 'down': -0.032, 'left': 0.021, 'right': 0.718},\n",
       " (0, 3): {'up': 1, 'down': 1, 'left': 1, 'right': 1},\n",
       " (0, 4): {'up': 1, 'down': 1, 'left': 1, 'right': 1},\n",
       " (1, 0): {'up': 0, 'down': 0.001, 'left': 0, 'right': 0.003},\n",
       " (1, 1): {'up': 0.166, 'down': 0.003, 'left': 0.001, 'right': 0.003},\n",
       " (1, 2): {'up': 0, 'down': 0, 'left': 0.015, 'right': -0.18},\n",
       " (1, 3): {'up': -1, 'down': -1, 'left': -1, 'right': -1},\n",
       " (1, 4): {'up': 0, 'down': 0, 'left': 0, 'right': 0},\n",
       " (2, 0): {'up': 0.001, 'down': -0.0, 'left': 0, 'right': 0.017},\n",
       " (2, 1): {'up': 0.053, 'down': -0.0, 'left': 0.0, 'right': -0.0},\n",
       " (2, 2): {'up': 0, 'down': 0, 'left': 0.002, 'right': -0.005},\n",
       " (2, 3): {'up': -0.18, 'down': 0, 'left': 0, 'right': -0.027},\n",
       " (2, 4): {'up': 0, 'down': 0, 'left': 0, 'right': 0},\n",
       " (3, 0): {'up': 0, 'down': 0, 'left': 0, 'right': 0},\n",
       " (3, 1): {'up': 0, 'down': 0, 'left': 0, 'right': 0.0},\n",
       " (3, 2): {'up': 0.0, 'down': 0.0, 'left': 0.0, 'right': 0.0},\n",
       " (3, 3): {'up': 0.0, 'down': 0.0, 'left': 0.0, 'right': 0.0},\n",
       " (3, 4): {'up': 0, 'down': 0, 'left': 0, 'right': 0},\n",
       " (4, 0): {'up': 0, 'down': 0, 'left': 0.0, 'right': 0.0},\n",
       " (4, 1): {'up': 0, 'down': 0, 'left': 0, 'right': 0.0},\n",
       " (4, 2): {'up': 0, 'down': 0.0, 'left': 0, 'right': 0.0},\n",
       " (4, 3): {'up': 0.0, 'down': 0.0, 'left': 0.0, 'right': 0.0},\n",
       " (4, 4): {'up': 0.0, 'down': 0.0, 'left': 0.0, 'right': 0.0}}"
      ]
     },
     "execution_count": 14,
     "metadata": {},
     "output_type": "execute_result"
    }
   ],
   "source": [
    "ag.train(10)\n",
    "ag.Q_values"
   ]
  },
  {
   "cell_type": "code",
   "execution_count": 18,
   "id": "fef0ed26",
   "metadata": {},
   "outputs": [
    {
     "name": "stdout",
     "output_type": "stream",
     "text": [
      "current position (2, 0) action right\n",
      "nxt state (2, 1)\n",
      "---------------------\n",
      "current position (2, 1) action up\n",
      "nxt state (1, 1)\n",
      "---------------------\n",
      "current position (1, 1) action up\n",
      "nxt state (0, 1)\n",
      "---------------------\n",
      "current position (0, 1) action right\n",
      "nxt state (0, 2)\n",
      "---------------------\n",
      "current position (0, 2) action right\n",
      "nxt state (0, 3)\n",
      "---------------------\n",
      "Solution found in 5 steps\n"
     ]
    }
   ],
   "source": [
    "ag.play()"
   ]
  },
  {
   "cell_type": "code",
   "execution_count": 19,
   "id": "01251a14",
   "metadata": {},
   "outputs": [
    {
     "name": "stdout",
     "output_type": "stream",
     "text": [
      "----------------------\n",
      "| 0 | 0 | 0 | 0 | 0 | \n",
      "----------------------\n",
      "| 0 | 0 | z | 0 | 0 | \n",
      "----------------------\n",
      "| 0 | 0 | 0 | z | 0 | \n",
      "----------------------\n",
      "| 0 | 0 | 0 | 0 | z | \n",
      "----------------------\n",
      "| * | 0 | 0 | 0 | 0 | \n",
      "----------------------\n"
     ]
    }
   ],
   "source": [
    "s = State(rows=5, cols=5, forbidden_blocks=[(1,2), (2,3), (3,4)], deterministic=False)\n",
    "s.showBoard()"
   ]
  },
  {
   "cell_type": "code",
   "execution_count": 21,
   "id": "c8576f01",
   "metadata": {},
   "outputs": [
    {
     "name": "stdout",
     "output_type": "stream",
     "text": [
      "(0, 0) {'up': 0.401, 'down': 0.296, 'left': 0.423, 'right': 0.499}\n",
      "(0, 1) {'up': 0.453, 'down': 0.231, 'left': 0.389, 'right': 0.596}\n",
      "(0, 2) {'up': 0.677, 'down': 0.122, 'left': 0.514, 'right': 0.898}\n",
      "(0, 3) {'up': 1, 'down': 1, 'left': 1, 'right': 1}\n",
      "(0, 4) {'up': 1, 'down': 1, 'left': 1, 'right': 1}\n",
      "(1, 0) {'up': 0.441, 'down': 0.21, 'left': 0.245, 'right': 0.219}\n",
      "(1, 1) {'up': 0.51, 'down': 0.041, 'left': 0.18, 'right': 0.022}\n",
      "(1, 2) {'up': 0, 'down': 0, 'left': 0.253, 'right': -0.324}\n",
      "(1, 3) {'up': -1, 'down': -1, 'left': -1, 'right': -1}\n",
      "(1, 4) {'up': 0, 'down': 0, 'left': 0, 'right': 0}\n",
      "(2, 0) {'up': 0.386, 'down': 0.207, 'left': 0.222, 'right': 0.032}\n",
      "(2, 1) {'up': 0.0, 'down': 0.001, 'left': 0.207, 'right': 0.003}\n",
      "(2, 2) {'up': -0.032, 'down': 0.0, 'left': 0.037, 'right': -0.005}\n",
      "(2, 3) {'up': -0.18, 'down': 0, 'left': 0, 'right': -0.025}\n",
      "(2, 4) {'up': 0, 'down': 0, 'left': 0, 'right': 0}\n",
      "(3, 0) {'up': 0, 'down': 0.0, 'left': 0.0, 'right': 0}\n",
      "(3, 1) {'up': 0.0, 'down': 0.0, 'left': 0, 'right': 0.0}\n",
      "(3, 2) {'up': 0.0, 'down': 0.0, 'left': 0.0, 'right': 0.0}\n",
      "(3, 3) {'up': 0.0, 'down': 0.0, 'left': 0.0, 'right': 0.0}\n",
      "(3, 4) {'up': 0, 'down': 0, 'left': 0, 'right': 0}\n",
      "(4, 0) {'up': 0, 'down': 0, 'left': 0, 'right': 0.0}\n",
      "(4, 1) {'up': 0.0, 'down': 0.0, 'left': 0.0, 'right': 0.0}\n",
      "(4, 2) {'up': 0.0, 'down': 0.0, 'left': 0.0, 'right': 0.0}\n",
      "(4, 3) {'up': 0.0, 'down': 0.0, 'left': 0.0, 'right': 0.0}\n",
      "(4, 4) {'up': 0.0, 'down': 0.0, 'left': 0.0, 'right': 0.0}\n"
     ]
    }
   ],
   "source": [
    "ag = Agent_Q(state=s)\n",
    "ag.train(100)\n",
    "ag.showValues()"
   ]
  },
  {
   "cell_type": "code",
   "execution_count": 22,
   "id": "deae0694",
   "metadata": {},
   "outputs": [
    {
     "name": "stdout",
     "output_type": "stream",
     "text": [
      "current position (2, 0) action up\n",
      "nxt state (1, 0)\n",
      "---------------------\n",
      "current position (1, 0) action up\n",
      "nxt state (0, 0)\n",
      "---------------------\n",
      "current position (0, 0) action right\n",
      "nxt state (0, 1)\n",
      "---------------------\n",
      "current position (0, 1) action right\n",
      "nxt state (0, 2)\n",
      "---------------------\n",
      "current position (0, 2) action right\n",
      "nxt state (0, 3)\n",
      "---------------------\n",
      "Solution found in 5 steps\n"
     ]
    }
   ],
   "source": [
    "ag.play()"
   ]
  },
  {
   "cell_type": "code",
   "execution_count": 24,
   "id": "a2b5daca",
   "metadata": {},
   "outputs": [
    {
     "name": "stdout",
     "output_type": "stream",
     "text": [
      "(0, 0) {'up': 0.005, 'down': 0.0, 'left': 0, 'right': 0.054}\n",
      "(0, 1) {'up': 0.071, 'down': 0.017, 'left': 0.014, 'right': 0.204}\n",
      "(0, 2) {'up': 0.157, 'down': 0.056, 'left': 0.06, 'right': 0.498}\n",
      "(0, 3) {'up': 1, 'down': 1, 'left': 1, 'right': 1}\n",
      "(0, 4) {'up': 1, 'down': 1, 'left': 1, 'right': 1}\n",
      "(1, 0) {'up': 0.001, 'down': 0.004, 'left': 0.003, 'right': 0.035}\n",
      "(1, 1) {'up': 0.09, 'down': 0.012, 'left': 0.005, 'right': 0.066}\n",
      "(1, 2) {'up': 0.195, 'down': 0.001, 'left': 0.016, 'right': -0.244}\n",
      "(1, 3) {'up': -1, 'down': -1, 'left': -1, 'right': -1}\n",
      "(1, 4) {'up': 0, 'down': 0, 'left': 0, 'right': 0}\n",
      "(2, 0) {'up': 0.007, 'down': 0.004, 'left': 0.004, 'right': 0.014}\n",
      "(2, 1) {'up': 0.04, 'down': 0.013, 'left': 0.005, 'right': 0.005}\n",
      "(2, 2) {'up': 0.002, 'down': 0.0, 'left': 0.017, 'right': -0.001}\n",
      "(2, 3) {'up': -0.1, 'down': -0.001, 'left': 0.001, 'right': -0.008}\n",
      "(2, 4) {'up': 0, 'down': 0, 'left': 0, 'right': 0}\n",
      "(3, 0) {'up': 0, 'down': 0, 'left': 0, 'right': 0}\n",
      "(3, 1) {'up': 0, 'down': 0, 'left': 0, 'right': 0}\n",
      "(3, 2) {'up': 0, 'down': 0, 'left': 0, 'right': 0.0}\n",
      "(3, 3) {'up': 0, 'down': 0.0, 'left': 0.0, 'right': 0.0}\n",
      "(3, 4) {'up': 0, 'down': 0, 'left': 0, 'right': 0}\n",
      "(4, 0) {'up': 0, 'down': 0, 'left': 0, 'right': 0.0}\n",
      "(4, 1) {'up': 0, 'down': 0, 'left': 0, 'right': 0.0}\n",
      "(4, 2) {'up': 0, 'down': 0, 'left': 0.0, 'right': 0.0}\n",
      "(4, 3) {'up': 0, 'down': 0.0, 'left': 0.0, 'right': 0.0}\n",
      "(4, 4) {'up': 0.0, 'down': 0.0, 'left': 0.0, 'right': 0.0}\n"
     ]
    }
   ],
   "source": [
    "s = State(rows=5, cols=5, forbidden_blocks=[(1,2), (2,3), (3,4)], deterministic=False)\n",
    "ag = Agent_Q(state=s, decay_gamma=0.5)\n",
    "ag.train(100)\n",
    "ag.showValues()"
   ]
  },
  {
   "cell_type": "code",
   "execution_count": 25,
   "id": "bb80ec89",
   "metadata": {},
   "outputs": [
    {
     "name": "stdout",
     "output_type": "stream",
     "text": [
      "current position (2, 0) action right\n",
      "nxt state (2, 1)\n",
      "---------------------\n",
      "current position (2, 1) action up\n",
      "nxt state (1, 1)\n",
      "---------------------\n",
      "current position (1, 1) action up\n",
      "nxt state (0, 1)\n",
      "---------------------\n",
      "current position (0, 1) action right\n",
      "nxt state (0, 2)\n",
      "---------------------\n",
      "current position (0, 2) action right\n",
      "nxt state (0, 3)\n",
      "---------------------\n",
      "Solution found in 5 steps\n"
     ]
    }
   ],
   "source": [
    "ag.play()"
   ]
  },
  {
   "cell_type": "code",
   "execution_count": null,
   "id": "3cff3125",
   "metadata": {},
   "outputs": [],
   "source": []
  }
 ],
 "metadata": {
  "kernelspec": {
   "display_name": "Python 3",
   "language": "python",
   "name": "python3"
  },
  "language_info": {
   "codemirror_mode": {
    "name": "ipython",
    "version": 3
   },
   "file_extension": ".py",
   "mimetype": "text/x-python",
   "name": "python",
   "nbconvert_exporter": "python",
   "pygments_lexer": "ipython3",
   "version": "3.8.5"
  }
 },
 "nbformat": 4,
 "nbformat_minor": 5
}

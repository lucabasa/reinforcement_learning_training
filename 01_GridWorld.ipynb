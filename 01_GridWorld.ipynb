{
 "cells": [
  {
   "cell_type": "code",
   "execution_count": 1,
   "id": "dc25b200",
   "metadata": {},
   "outputs": [],
   "source": [
    "from GridWorld.board import State"
   ]
  },
  {
   "cell_type": "code",
   "execution_count": 2,
   "id": "ea025686",
   "metadata": {},
   "outputs": [],
   "source": [
    "s = State()"
   ]
  },
  {
   "cell_type": "code",
   "execution_count": 3,
   "id": "6d56ad11",
   "metadata": {},
   "outputs": [
    {
     "name": "stdout",
     "output_type": "stream",
     "text": [
      "-----------------\n",
      "| 0 | 0 | 0 | 0 | \n",
      "-----------------\n",
      "| 0 | 0 | 0 | 0 | \n",
      "-----------------\n",
      "| * | 0 | 0 | 0 | \n",
      "-----------------\n"
     ]
    }
   ],
   "source": [
    "s.showBoard()"
   ]
  },
  {
   "cell_type": "code",
   "execution_count": 4,
   "id": "48cf8060",
   "metadata": {},
   "outputs": [
    {
     "data": {
      "text/plain": [
       "(2, 0)"
      ]
     },
     "execution_count": 4,
     "metadata": {},
     "output_type": "execute_result"
    }
   ],
   "source": [
    "s.state"
   ]
  },
  {
   "cell_type": "code",
   "execution_count": 5,
   "id": "d0d323b4",
   "metadata": {},
   "outputs": [
    {
     "name": "stdout",
     "output_type": "stream",
     "text": [
      "(2, 1)\n",
      "-----------------\n",
      "| 0 | 0 | 0 | 0 | \n",
      "-----------------\n",
      "| 0 | 0 | 0 | 0 | \n",
      "-----------------\n",
      "| * | * | 0 | 0 | \n",
      "-----------------\n"
     ]
    }
   ],
   "source": [
    "s.state = s.nxtPosition('right')\n",
    "print(s.state)\n",
    "s.showBoard()"
   ]
  },
  {
   "cell_type": "code",
   "execution_count": 6,
   "id": "c0724c39",
   "metadata": {},
   "outputs": [
    {
     "name": "stdout",
     "output_type": "stream",
     "text": [
      "(1, 1)\n",
      "-----------------\n",
      "| 0 | 0 | 0 | 0 | \n",
      "-----------------\n",
      "| 0 | * | 0 | 0 | \n",
      "-----------------\n",
      "| * | * | 0 | 0 | \n",
      "-----------------\n"
     ]
    }
   ],
   "source": [
    "s.state = s.nxtPosition('up')\n",
    "print(s.state)\n",
    "s.showBoard()"
   ]
  },
  {
   "cell_type": "code",
   "execution_count": 7,
   "id": "7c0bba0d",
   "metadata": {},
   "outputs": [
    {
     "name": "stdout",
     "output_type": "stream",
     "text": [
      "-----------------\n",
      "| 0 | 0 | 0 | 0 | \n",
      "-----------------\n",
      "| 0 | z | z | 0 | \n",
      "-----------------\n",
      "| * | 0 | 0 | 0 | \n",
      "-----------------\n"
     ]
    }
   ],
   "source": [
    "s = State(forbidden_blocks=[(1, 1), (1,3), (1,2)])\n",
    "s.showBoard()"
   ]
  },
  {
   "cell_type": "code",
   "execution_count": 8,
   "id": "4d36c42b",
   "metadata": {},
   "outputs": [
    {
     "name": "stdout",
     "output_type": "stream",
     "text": [
      "-----------------\n",
      "| 0 | 0 | 0 | 0 | \n",
      "-----------------\n",
      "| 0 | z | z | 0 | \n",
      "-----------------\n",
      "| * | * | 0 | 0 | \n",
      "-----------------\n"
     ]
    }
   ],
   "source": [
    "s.state = s.nxtPosition('right')\n",
    "s.state = s.nxtPosition('up')\n",
    "s.state = s.nxtPosition('up')\n",
    "s.showBoard()"
   ]
  },
  {
   "cell_type": "code",
   "execution_count": 9,
   "id": "9e677c27",
   "metadata": {},
   "outputs": [],
   "source": [
    "from GridWorld.agent import Agent"
   ]
  },
  {
   "cell_type": "code",
   "execution_count": 23,
   "id": "6c3ce5c0",
   "metadata": {},
   "outputs": [
    {
     "name": "stdout",
     "output_type": "stream",
     "text": [
      "------------\n",
      "| 0 | 0 | 0 | \n",
      "------------\n",
      "| 0 | 0 | 0 | \n",
      "------------\n",
      "| * | 0 | z | \n",
      "------------\n"
     ]
    }
   ],
   "source": [
    "s = State(rows=3, cols=3, forbidden_blocks=[(1,2), (2,2)])\n",
    "s.showBoard()"
   ]
  },
  {
   "cell_type": "code",
   "execution_count": 24,
   "id": "eb2602c7",
   "metadata": {},
   "outputs": [
    {
     "name": "stdout",
     "output_type": "stream",
     "text": [
      "----------------------------------\n",
      "| 0 | 0 | 0 | \n",
      "----------------------------------\n",
      "| 0 | 0 | 0 | \n",
      "----------------------------------\n",
      "| 0 | 0 | 0 | \n",
      "----------------------------------\n"
     ]
    }
   ],
   "source": [
    "ag = Agent(state=s)\n",
    "ag.showValues()"
   ]
  },
  {
   "cell_type": "code",
   "execution_count": 25,
   "id": "d4135aee",
   "metadata": {},
   "outputs": [
    {
     "name": "stdout",
     "output_type": "stream",
     "text": [
      "(2, 0)\n",
      "(2, 0)\n"
     ]
    }
   ],
   "source": [
    "print(ag.State.state)\n",
    "print(ag.orig_state.state)"
   ]
  },
  {
   "cell_type": "code",
   "execution_count": 32,
   "id": "dd28de79",
   "metadata": {},
   "outputs": [],
   "source": [
    "ag.train(5)"
   ]
  },
  {
   "cell_type": "code",
   "execution_count": 33,
   "id": "554dcf02",
   "metadata": {},
   "outputs": [
    {
     "name": "stdout",
     "output_type": "stream",
     "text": [
      "----------------------------------\n",
      "| 0.619 | 0.729 | 1.0 | \n",
      "----------------------------------\n",
      "| 0.384 | 0.175 | -1.0 | \n",
      "----------------------------------\n",
      "| 0.052 | 0.026 | 0 | \n",
      "----------------------------------\n"
     ]
    }
   ],
   "source": [
    "ag.showValues()"
   ]
  },
  {
   "cell_type": "code",
   "execution_count": 34,
   "id": "495137f3",
   "metadata": {},
   "outputs": [
    {
     "name": "stdout",
     "output_type": "stream",
     "text": [
      "current position (2, 0) action up\n",
      "nxt state (1, 0)\n",
      "---------------------\n",
      "current position (1, 0) action up\n",
      "nxt state (0, 0)\n",
      "---------------------\n",
      "current position (0, 0) action right\n",
      "nxt state (0, 1)\n",
      "---------------------\n",
      "current position (0, 1) action right\n",
      "nxt state (0, 2)\n",
      "---------------------\n",
      "Solution found in 4 steps\n"
     ]
    }
   ],
   "source": [
    "ag.play()"
   ]
  },
  {
   "cell_type": "code",
   "execution_count": 35,
   "id": "1d945f4a",
   "metadata": {},
   "outputs": [
    {
     "name": "stdout",
     "output_type": "stream",
     "text": [
      "----------------------\n",
      "| 0 | 0 | 0 | 0 | 0 | \n",
      "----------------------\n",
      "| 0 | 0 | z | 0 | 0 | \n",
      "----------------------\n",
      "| 0 | 0 | 0 | z | 0 | \n",
      "----------------------\n",
      "| 0 | 0 | 0 | 0 | z | \n",
      "----------------------\n",
      "| * | 0 | 0 | 0 | 0 | \n",
      "----------------------\n"
     ]
    }
   ],
   "source": [
    "s = State(rows=5, cols=5, forbidden_blocks=[(1,2), (2,3), (3,4)])\n",
    "s.showBoard()"
   ]
  },
  {
   "cell_type": "code",
   "execution_count": 36,
   "id": "fe5dbae6",
   "metadata": {},
   "outputs": [
    {
     "name": "stdout",
     "output_type": "stream",
     "text": [
      "----------------------------------\n",
      "| 0.002 | 0.441 | 0.678 | 0.893 | 1.0 | \n",
      "----------------------------------\n",
      "| 0.041 | 0.251 | 0 | 0 | 0 | \n",
      "----------------------------------\n",
      "| 0.008 | 0.092 | 0.0 | 0 | 0 | \n",
      "----------------------------------\n",
      "| 0.022 | 0.042 | 0.0 | 0.0 | 0 | \n",
      "----------------------------------\n",
      "| 0.006 | 0.01 | 0.0 | 0.0 | 0.0 | \n",
      "----------------------------------\n",
      "current position (4, 0) action up\n",
      "nxt state (3, 0)\n",
      "---------------------\n",
      "current position (3, 0) action right\n",
      "nxt state (3, 1)\n",
      "---------------------\n",
      "current position (3, 1) action up\n",
      "nxt state (2, 1)\n",
      "---------------------\n",
      "current position (2, 1) action up\n",
      "nxt state (1, 1)\n",
      "---------------------\n",
      "current position (1, 1) action up\n",
      "nxt state (0, 1)\n",
      "---------------------\n",
      "current position (0, 1) action right\n",
      "nxt state (0, 2)\n",
      "---------------------\n",
      "current position (0, 2) action right\n",
      "nxt state (0, 3)\n",
      "---------------------\n",
      "current position (0, 3) action right\n",
      "nxt state (0, 4)\n",
      "---------------------\n",
      "Solution found in 8 steps\n"
     ]
    }
   ],
   "source": [
    "ag = Agent(state=s)\n",
    "ag.train(10)\n",
    "ag.showValues()\n",
    "ag.play()"
   ]
  },
  {
   "cell_type": "code",
   "execution_count": 37,
   "id": "bfcf70a7",
   "metadata": {},
   "outputs": [
    {
     "name": "stdout",
     "output_type": "stream",
     "text": [
      "-----------------------------------------------\n",
      "| 0 | 0 | 0 | 0 | 0 | 0 | 0 | 0 | 0 | 0 | \n",
      "-----------------------------------------------\n",
      "| 0 | 0 | z | 0 | 0 | 0 | 0 | 0 | 0 | 0 | \n",
      "-----------------------------------------------\n",
      "| 0 | 0 | 0 | z | 0 | 0 | 0 | 0 | 0 | 0 | \n",
      "-----------------------------------------------\n",
      "| 0 | 0 | 0 | 0 | z | 0 | 0 | 0 | 0 | 0 | \n",
      "-----------------------------------------------\n",
      "| 0 | 0 | 0 | 0 | z | 0 | 0 | 0 | 0 | 0 | \n",
      "-----------------------------------------------\n",
      "| 0 | 0 | 0 | 0 | z | 0 | 0 | 0 | 0 | 0 | \n",
      "-----------------------------------------------\n",
      "| 0 | 0 | 0 | 0 | 0 | 0 | 0 | 0 | 0 | 0 | \n",
      "-----------------------------------------------\n",
      "| 0 | 0 | 0 | 0 | z | z | z | z | 0 | 0 | \n",
      "-----------------------------------------------\n",
      "| 0 | 0 | 0 | 0 | 0 | 0 | 0 | 0 | 0 | 0 | \n",
      "-----------------------------------------------\n",
      "| * | 0 | 0 | 0 | 0 | 0 | 0 | 0 | 0 | 0 | \n",
      "-----------------------------------------------\n"
     ]
    }
   ],
   "source": [
    "s = State(rows=10, cols=10, \n",
    "          forbidden_blocks=[(1,2), (2,3), (3,4), \n",
    "                            (7,4), (7,5), (7,6), (7,7), (4,4), (5,4)], \n",
    "          win_state=(1,9), lose_state=(0,9))\n",
    "s.showBoard()"
   ]
  },
  {
   "cell_type": "code",
   "execution_count": 38,
   "id": "2e11f851",
   "metadata": {},
   "outputs": [
    {
     "name": "stdout",
     "output_type": "stream",
     "text": [
      "----------------------------------\n",
      "| 0 | 0 | 0 | 0 | 0 | 0 | 0 | 0 | 0 | 0 | \n",
      "----------------------------------\n",
      "| 0 | 0 | 0 | 0 | 0 | 0 | 0 | 0 | 0 | 1.0 | \n",
      "----------------------------------\n",
      "| 0 | 0 | 0 | 0 | 0 | 0 | 0 | 0 | 0.04 | 0.858 | \n",
      "----------------------------------\n",
      "| 0 | 0 | 0 | 0 | 0 | 0 | 0 | 0 | 0 | 0.578 | \n",
      "----------------------------------\n",
      "| 0 | 0 | 0 | 0 | 0 | 0 | 0 | 0.008 | 0.034 | 0.405 | \n",
      "----------------------------------\n",
      "| 0 | 0 | 0 | 0 | 0 | 0 | 0 | 0 | 0.056 | 0.265 | \n",
      "----------------------------------\n",
      "| 0 | 0 | 0 | 0 | 0 | 0 | 0 | 0 | 0.0 | 0.139 | \n",
      "----------------------------------\n",
      "| 0 | 0 | 0 | 0 | 0 | 0 | 0 | 0 | 0.0 | 0.065 | \n",
      "----------------------------------\n",
      "| 0 | 0.0 | 0.0 | 0.0 | 0.0 | 0.0 | 0.0 | 0.003 | 0.009 | 0.028 | \n",
      "----------------------------------\n",
      "| 0.0 | 0.0 | 0.0 | 0.0 | 0.0 | 0.0 | 0.0 | 0.001 | 0.002 | 0.0 | \n",
      "----------------------------------\n",
      "current position (9, 0) action right\n",
      "nxt state (9, 1)\n",
      "---------------------\n",
      "current position (9, 1) action right\n",
      "nxt state (9, 2)\n",
      "---------------------\n",
      "current position (9, 2) action right\n",
      "nxt state (9, 3)\n",
      "---------------------\n",
      "current position (9, 3) action right\n",
      "nxt state (9, 4)\n",
      "---------------------\n",
      "current position (9, 4) action right\n",
      "nxt state (9, 5)\n",
      "---------------------\n",
      "current position (9, 5) action right\n",
      "nxt state (9, 6)\n",
      "---------------------\n",
      "current position (9, 6) action right\n",
      "nxt state (9, 7)\n",
      "---------------------\n",
      "current position (9, 7) action up\n",
      "nxt state (8, 7)\n",
      "---------------------\n",
      "current position (8, 7) action right\n",
      "nxt state (8, 8)\n",
      "---------------------\n",
      "current position (8, 8) action right\n",
      "nxt state (8, 9)\n",
      "---------------------\n",
      "current position (8, 9) action up\n",
      "nxt state (7, 9)\n",
      "---------------------\n",
      "current position (7, 9) action up\n",
      "nxt state (6, 9)\n",
      "---------------------\n",
      "current position (6, 9) action up\n",
      "nxt state (5, 9)\n",
      "---------------------\n",
      "current position (5, 9) action up\n",
      "nxt state (4, 9)\n",
      "---------------------\n",
      "current position (4, 9) action up\n",
      "nxt state (3, 9)\n",
      "---------------------\n",
      "current position (3, 9) action up\n",
      "nxt state (2, 9)\n",
      "---------------------\n",
      "current position (2, 9) action up\n",
      "nxt state (1, 9)\n",
      "---------------------\n",
      "Solution found in 17 steps\n"
     ]
    }
   ],
   "source": [
    "ag = Agent(state=s)\n",
    "ag.train(10)\n",
    "ag.showValues()\n",
    "ag.play()"
   ]
  },
  {
   "cell_type": "code",
   "execution_count": 39,
   "id": "6e1cbc8c",
   "metadata": {},
   "outputs": [
    {
     "name": "stdout",
     "output_type": "stream",
     "text": [
      "----------------------------------\n",
      "| 0 | 0 | 0 | 0 | 0 | 0 | 0 | 0 | 0 | 0 | \n",
      "----------------------------------\n",
      "| 0 | 0 | 0 | 0 | 0 | 0 | 0 | 0 | 0 | 1.0 | \n",
      "----------------------------------\n",
      "| 0 | 0 | 0 | 0 | 0 | 0 | 0 | 0.014 | 0.152 | 0.874 | \n",
      "----------------------------------\n",
      "| 0.0 | 0 | 0.0 | 0.0 | 0 | 0 | 0.011 | 0.054 | 0.157 | 0.457 | \n",
      "----------------------------------\n",
      "| 0.0 | 0.0 | 0.0 | 0.0 | 0 | 0 | 0.002 | 0.011 | 0.07 | 0.26 | \n",
      "----------------------------------\n",
      "| 0.0 | 0.0 | 0.0 | 0.0 | 0 | 0 | 0 | 0.0 | 0.061 | 0.166 | \n",
      "----------------------------------\n",
      "| 0.0 | 0.0 | 0.0 | 0.0 | 0.0 | 0.0 | 0.001 | 0.004 | 0.029 | 0.096 | \n",
      "----------------------------------\n",
      "| 0.0 | 0.0 | 0 | 0 | 0 | 0 | 0 | 0 | 0.019 | 0.042 | \n",
      "----------------------------------\n",
      "| 0.0 | 0.0 | 0 | 0 | 0.0 | 0.0 | 0.0 | 0.002 | 0.008 | 0.014 | \n",
      "----------------------------------\n",
      "| 0.0 | 0.0 | 0.0 | 0.0 | 0.0 | 0.0 | 0.0 | 0.0 | 0.0 | 0.001 | \n",
      "----------------------------------\n",
      "current position (9, 0) action right\n",
      "nxt state (9, 1)\n",
      "---------------------\n",
      "current position (9, 1) action right\n",
      "nxt state (9, 2)\n",
      "---------------------\n",
      "current position (9, 2) action right\n",
      "nxt state (9, 3)\n",
      "---------------------\n",
      "current position (9, 3) action right\n",
      "nxt state (9, 4)\n",
      "---------------------\n",
      "current position (9, 4) action right\n",
      "nxt state (9, 5)\n",
      "---------------------\n",
      "current position (9, 5) action right\n",
      "nxt state (9, 6)\n",
      "---------------------\n",
      "current position (9, 6) action right\n",
      "nxt state (9, 7)\n",
      "---------------------\n",
      "current position (9, 7) action up\n",
      "nxt state (8, 7)\n",
      "---------------------\n",
      "current position (8, 7) action right\n",
      "nxt state (8, 8)\n",
      "---------------------\n",
      "current position (8, 8) action up\n",
      "nxt state (7, 8)\n",
      "---------------------\n",
      "current position (7, 8) action right\n",
      "nxt state (7, 9)\n",
      "---------------------\n",
      "current position (7, 9) action up\n",
      "nxt state (6, 9)\n",
      "---------------------\n",
      "current position (6, 9) action up\n",
      "nxt state (5, 9)\n",
      "---------------------\n",
      "current position (5, 9) action up\n",
      "nxt state (4, 9)\n",
      "---------------------\n",
      "current position (4, 9) action up\n",
      "nxt state (3, 9)\n",
      "---------------------\n",
      "current position (3, 9) action up\n",
      "nxt state (2, 9)\n",
      "---------------------\n",
      "current position (2, 9) action up\n",
      "nxt state (1, 9)\n",
      "---------------------\n",
      "Solution found in 17 steps\n"
     ]
    }
   ],
   "source": [
    "ag = Agent(state=s, exp_rate=0.5)\n",
    "ag.train(10)\n",
    "ag.showValues()\n",
    "ag.play()"
   ]
  },
  {
   "cell_type": "code",
   "execution_count": 40,
   "id": "ec4e4e1d",
   "metadata": {},
   "outputs": [
    {
     "name": "stdout",
     "output_type": "stream",
     "text": [
      "----------------------------------\n",
      "| 0.0 | 0.0 | 0.0 | 0.0 | 0.0 | 0 | 0 | -0.072 | -0.36 | -1.0 | \n",
      "----------------------------------\n",
      "| 0.0 | 0.0 | 0 | 0.0 | 0.0 | 0.001 | 0.003 | 0.035 | 0.203 | 1.0 | \n",
      "----------------------------------\n",
      "| 0.0 | 0.0 | 0.0 | 0 | 0.0 | 0.005 | 0.007 | 0.017 | 0.206 | 0.476 | \n",
      "----------------------------------\n",
      "| 0.0 | 0.0 | 0.0 | 0.0 | 0 | 0.008 | 0.029 | 0.071 | 0.188 | 0.291 | \n",
      "----------------------------------\n",
      "| 0.0 | 0.0 | 0.0 | 0.0 | 0 | 0.001 | 0.007 | 0.027 | 0.092 | 0.114 | \n",
      "----------------------------------\n",
      "| 0.0 | 0.0 | 0.0 | 0.0 | 0 | 0.0 | 0.003 | 0.008 | 0.027 | 0.051 | \n",
      "----------------------------------\n",
      "| 0.0 | 0.0 | 0.0 | 0.0 | 0.0 | 0.0 | 0.001 | 0.007 | 0.014 | 0.017 | \n",
      "----------------------------------\n",
      "| 0.0 | 0.0 | 0.0 | 0.0 | 0 | 0 | 0 | 0 | 0.003 | 0.01 | \n",
      "----------------------------------\n",
      "| 0.0 | 0.0 | 0.0 | 0.0 | 0.0 | 0.0 | 0.0 | 0.0 | 0.001 | 0.004 | \n",
      "----------------------------------\n",
      "| 0.0 | 0.0 | 0.0 | 0.0 | 0.0 | 0.0 | 0.0 | 0.0 | 0.0 | 0.002 | \n",
      "----------------------------------\n",
      "current position (9, 0) action right\n",
      "nxt state (9, 1)\n",
      "---------------------\n",
      "current position (9, 1) action right\n",
      "nxt state (9, 2)\n",
      "---------------------\n",
      "current position (9, 2) action right\n",
      "nxt state (9, 3)\n",
      "---------------------\n",
      "current position (9, 3) action right\n",
      "nxt state (9, 4)\n",
      "---------------------\n",
      "current position (9, 4) action right\n",
      "nxt state (9, 5)\n",
      "---------------------\n",
      "current position (9, 5) action right\n",
      "nxt state (9, 6)\n",
      "---------------------\n",
      "current position (9, 6) action right\n",
      "nxt state (9, 7)\n",
      "---------------------\n",
      "current position (9, 7) action right\n",
      "nxt state (9, 8)\n",
      "---------------------\n",
      "current position (9, 8) action right\n",
      "nxt state (9, 9)\n",
      "---------------------\n",
      "current position (9, 9) action up\n",
      "nxt state (8, 9)\n",
      "---------------------\n",
      "current position (8, 9) action up\n",
      "nxt state (7, 9)\n",
      "---------------------\n",
      "current position (7, 9) action up\n",
      "nxt state (6, 9)\n",
      "---------------------\n",
      "current position (6, 9) action up\n",
      "nxt state (5, 9)\n",
      "---------------------\n",
      "current position (5, 9) action up\n",
      "nxt state (4, 9)\n",
      "---------------------\n",
      "current position (4, 9) action up\n",
      "nxt state (3, 9)\n",
      "---------------------\n",
      "current position (3, 9) action up\n",
      "nxt state (2, 9)\n",
      "---------------------\n",
      "current position (2, 9) action up\n",
      "nxt state (1, 9)\n",
      "---------------------\n",
      "Solution found in 17 steps\n"
     ]
    }
   ],
   "source": [
    "ag = Agent(state=s, exp_rate=0.9)\n",
    "ag.train(10)\n",
    "ag.showValues()\n",
    "ag.play()"
   ]
  },
  {
   "cell_type": "code",
   "execution_count": 41,
   "id": "dc1bd4d5",
   "metadata": {},
   "outputs": [
    {
     "name": "stdout",
     "output_type": "stream",
     "text": [
      "----------------------\n",
      "| 0 | 0 | 0 | 0 | 0 | \n",
      "----------------------\n",
      "| 0 | 0 | z | 0 | 0 | \n",
      "----------------------\n",
      "| 0 | 0 | 0 | z | 0 | \n",
      "----------------------\n",
      "| 0 | 0 | 0 | 0 | z | \n",
      "----------------------\n",
      "| * | 0 | 0 | 0 | 0 | \n",
      "----------------------\n"
     ]
    }
   ],
   "source": [
    "s = State(rows=5, cols=5, forbidden_blocks=[(1,2), (2,3), (3,4)])\n",
    "s.showBoard()"
   ]
  },
  {
   "cell_type": "code",
   "execution_count": 21,
   "id": "7c3527b3",
   "metadata": {},
   "outputs": [
    {
     "name": "stdout",
     "output_type": "stream",
     "text": [
      "(0, 0) {'up': 0, 'down': 0, 'left': 0, 'right': 0}\n",
      "(0, 1) {'up': 0, 'down': 0, 'left': 0, 'right': 0}\n",
      "(0, 2) {'up': 0, 'down': 0, 'left': 0, 'right': 0}\n",
      "(0, 3) {'up': 0, 'down': 0, 'left': 0, 'right': 0}\n",
      "(0, 4) {'up': 0, 'down': 0, 'left': 0, 'right': 0}\n",
      "(1, 0) {'up': 0, 'down': 0, 'left': 0, 'right': 0}\n",
      "(1, 1) {'up': 0, 'down': 0, 'left': 0, 'right': 0}\n",
      "(1, 2) {'up': 0, 'down': 0, 'left': 0, 'right': 0}\n",
      "(1, 3) {'up': 0, 'down': 0, 'left': 0, 'right': 0}\n",
      "(1, 4) {'up': 0, 'down': 0, 'left': 0, 'right': 0}\n",
      "(2, 0) {'up': 0, 'down': 0, 'left': 0, 'right': 0}\n",
      "(2, 1) {'up': 0, 'down': 0, 'left': 0, 'right': 0}\n",
      "(2, 2) {'up': 0, 'down': 0, 'left': 0, 'right': 0}\n",
      "(2, 3) {'up': 0, 'down': 0, 'left': 0, 'right': 0}\n",
      "(2, 4) {'up': 0, 'down': 0, 'left': 0, 'right': 0}\n",
      "(3, 0) {'up': 0, 'down': 0, 'left': 0, 'right': 0}\n",
      "(3, 1) {'up': 0, 'down': 0, 'left': 0, 'right': 0}\n",
      "(3, 2) {'up': 0, 'down': 0, 'left': 0, 'right': 0}\n",
      "(3, 3) {'up': 0, 'down': 0, 'left': 0, 'right': 0}\n",
      "(3, 4) {'up': 0, 'down': 0, 'left': 0, 'right': 0}\n",
      "(4, 0) {'up': 0, 'down': 0, 'left': 0, 'right': 0}\n",
      "(4, 1) {'up': 0, 'down': 0, 'left': 0, 'right': 0}\n",
      "(4, 2) {'up': 0, 'down': 0, 'left': 0, 'right': 0}\n",
      "(4, 3) {'up': 0, 'down': 0, 'left': 0, 'right': 0}\n",
      "(4, 4) {'up': 0, 'down': 0, 'left': 0, 'right': 0}\n"
     ]
    }
   ],
   "source": [
    "from GridWorld.agent import Agent_Q\n",
    "\n",
    "s = State(rows=5, cols=5, forbidden_blocks=[(1,2), (2,3), (3,4)])\n",
    "ag = Agent_Q(state=s)\n",
    "ag.showValues()"
   ]
  },
  {
   "cell_type": "code",
   "execution_count": 22,
   "id": "3eb05a19",
   "metadata": {},
   "outputs": [
    {
     "data": {
      "text/plain": [
       "{(0, 0): {'up': 0, 'down': 0, 'left': 0, 'right': 0},\n",
       " (0, 1): {'up': 0, 'down': 0.002, 'left': 0, 'right': 0.034},\n",
       " (0, 2): {'up': 0, 'down': 0.0, 'left': 0, 'right': 0.673},\n",
       " (0, 3): {'up': 1, 'down': 1, 'left': 1, 'right': 1},\n",
       " (0, 4): {'up': 1, 'down': 1, 'left': 1, 'right': 1},\n",
       " (1, 0): {'up': 0, 'down': 0, 'left': 0, 'right': 0.002},\n",
       " (1, 1): {'up': 0.01, 'down': 0.0, 'left': 0.0, 'right': 0.0},\n",
       " (1, 2): {'up': 0.132, 'down': 0, 'left': 0.001, 'right': -0.18},\n",
       " (1, 3): {'up': -1, 'down': -1, 'left': -1, 'right': -1},\n",
       " (1, 4): {'up': 0, 'down': 0, 'left': 0, 'right': 0},\n",
       " (2, 0): {'up': 0.0, 'down': 0.0, 'left': 0, 'right': 0.0},\n",
       " (2, 1): {'up': 0.0, 'down': 0.0, 'left': 0.0, 'right': -0.001},\n",
       " (2, 2): {'up': -0.014, 'down': 0.0, 'left': 0.0, 'right': -0.003},\n",
       " (2, 3): {'up': -0.18, 'down': -0.019, 'left': -0.002, 'right': -0.012},\n",
       " (2, 4): {'up': 0, 'down': 0, 'left': 0, 'right': 0},\n",
       " (3, 0): {'up': 0.0, 'down': 0, 'left': 0.0, 'right': 0.0},\n",
       " (3, 1): {'up': 0.0, 'down': 0.0, 'left': 0.0, 'right': 0.0},\n",
       " (3, 2): {'up': 0.0, 'down': 0.0, 'left': 0.0, 'right': 0.0},\n",
       " (3, 3): {'up': 0.0, 'down': 0.0, 'left': 0.0, 'right': 0.0},\n",
       " (3, 4): {'up': 0, 'down': 0, 'left': 0, 'right': 0},\n",
       " (4, 0): {'up': 0, 'down': 0, 'left': 0, 'right': 0.0},\n",
       " (4, 1): {'up': 0.0, 'down': 0.0, 'left': 0.0, 'right': 0.0},\n",
       " (4, 2): {'up': 0.0, 'down': 0.0, 'left': 0.0, 'right': 0.0},\n",
       " (4, 3): {'up': 0.0, 'down': 0.0, 'left': 0.0, 'right': 0.0},\n",
       " (4, 4): {'up': 0.0, 'down': 0.0, 'left': 0.0, 'right': 0.0}}"
      ]
     },
     "execution_count": 22,
     "metadata": {},
     "output_type": "execute_result"
    }
   ],
   "source": [
    "ag.play(10)\n",
    "ag.Q_values"
   ]
  },
  {
   "cell_type": "code",
   "execution_count": 47,
   "id": "93eac110",
   "metadata": {},
   "outputs": [
    {
     "name": "stdout",
     "output_type": "stream",
     "text": [
      "----------------------\n",
      "| 0 | 0 | 0 | 0 | 0 | \n",
      "----------------------\n",
      "| 0 | 0 | z | 0 | 0 | \n",
      "----------------------\n",
      "| 0 | 0 | 0 | z | 0 | \n",
      "----------------------\n",
      "| 0 | 0 | 0 | 0 | z | \n",
      "----------------------\n",
      "| * | 0 | 0 | 0 | 0 | \n",
      "----------------------\n"
     ]
    }
   ],
   "source": [
    "s = State(rows=5, cols=5, forbidden_blocks=[(1,2), (2,3), (3,4)], deterministic=False)\n",
    "s.showBoard()"
   ]
  },
  {
   "cell_type": "code",
   "execution_count": 48,
   "id": "870ed32f",
   "metadata": {},
   "outputs": [
    {
     "name": "stdout",
     "output_type": "stream",
     "text": [
      "(0, 0) {'up': 0.018, 'down': 0.009, 'left': 0.068, 'right': 0.376}\n",
      "(0, 1) {'up': 0.269, 'down': 0.001, 'left': 0.126, 'right': 0.711}\n",
      "(0, 2) {'up': 0.587, 'down': 0.0, 'left': 0.222, 'right': 0.898}\n",
      "(0, 3) {'up': 1, 'down': 1, 'left': 1, 'right': 0.98}\n",
      "(0, 4) {'up': 1, 'down': 1, 'left': 1, 'right': 1}\n",
      "(1, 0) {'up': 0.272, 'down': -0.0, 'left': -0.002, 'right': 0.006}\n",
      "(1, 1) {'up': 0, 'down': 0.006, 'left': 0.063, 'right': -0.084}\n",
      "(1, 2) {'up': 0, 'down': 0.001, 'left': -0.001, 'right': -0.324}\n",
      "(1, 3) {'up': -0.62, 'down': -1, 'left': -1, 'right': -1}\n",
      "(1, 4) {'up': 0, 'down': 0, 'left': 0, 'right': 0}\n",
      "(2, 0) {'up': 0.127, 'down': 0.015, 'left': -0.0, 'right': -0.002}\n",
      "(2, 1) {'up': 0.005, 'down': 0.003, 'left': 0.047, 'right': -0.001}\n",
      "(2, 2) {'up': 0.0, 'down': 0.001, 'left': 0.007, 'right': -0.007}\n",
      "(2, 3) {'up': -0.18, 'down': -0.006, 'left': -0.003, 'right': -0.008}\n",
      "(2, 4) {'up': 0, 'down': 0, 'left': 0, 'right': 0}\n",
      "(3, 0) {'up': 0, 'down': 0, 'left': 0, 'right': 0.0}\n",
      "(3, 1) {'up': 0.0, 'down': 0.0, 'left': 0.0, 'right': 0.0}\n",
      "(3, 2) {'up': 0.0, 'down': 0.0, 'left': 0.0, 'right': 0.0}\n",
      "(3, 3) {'up': 0.0, 'down': 0.0, 'left': 0.0, 'right': 0.0}\n",
      "(3, 4) {'up': 0, 'down': 0, 'left': 0, 'right': 0}\n",
      "(4, 0) {'up': 0, 'down': 0, 'left': 0.0, 'right': 0.0}\n",
      "(4, 1) {'up': 0.0, 'down': 0.0, 'left': 0.0, 'right': 0.0}\n",
      "(4, 2) {'up': 0.0, 'down': 0.0, 'left': 0.0, 'right': 0.0}\n",
      "(4, 3) {'up': 0.0, 'down': 0.0, 'left': 0.0, 'right': 0.0}\n",
      "(4, 4) {'up': 0.0, 'down': 0.0, 'left': 0.0, 'right': 0.0}\n"
     ]
    }
   ],
   "source": [
    "ag = Agent_Q(state=s)\n",
    "ag.play(100)\n",
    "ag.showValues()"
   ]
  },
  {
   "cell_type": "code",
   "execution_count": 51,
   "id": "39416c55",
   "metadata": {},
   "outputs": [
    {
     "name": "stdout",
     "output_type": "stream",
     "text": [
      "(0, 0) {'up': 0, 'down': 0, 'left': 0.002, 'right': 0.042}\n",
      "(0, 1) {'up': 0.013, 'down': 0.017, 'left': 0.007, 'right': 0.15}\n",
      "(0, 2) {'up': 0.15, 'down': 0.004, 'left': 0.016, 'right': 0.498}\n",
      "(0, 3) {'up': 1, 'down': 1, 'left': 1, 'right': 1}\n",
      "(0, 4) {'up': 1, 'down': 1, 'left': 1, 'right': 1}\n",
      "(1, 0) {'up': 0.0, 'down': 0, 'left': 0.002, 'right': 0.023}\n",
      "(1, 1) {'up': 0.09, 'down': 0, 'left': 0.001, 'right': -0.003}\n",
      "(1, 2) {'up': 0, 'down': 0.0, 'left': 0.016, 'right': -0.1}\n",
      "(1, 3) {'up': -0.7, 'down': -1, 'left': -1, 'right': -1}\n",
      "(1, 4) {'up': 0, 'down': 0, 'left': 0, 'right': 0}\n",
      "(2, 0) {'up': 0, 'down': 0, 'left': -0.0, 'right': 0.001}\n",
      "(2, 1) {'up': 0.011, 'down': 0.001, 'left': 0.0, 'right': 0.0}\n",
      "(2, 2) {'up': 0.0, 'down': 0.0, 'left': 0.001, 'right': -0.001}\n",
      "(2, 3) {'up': -0.1, 'down': -0.0, 'left': -0.0, 'right': -0.006}\n",
      "(2, 4) {'up': 0, 'down': 0, 'left': 0, 'right': 0}\n",
      "(3, 0) {'up': 0, 'down': 0, 'left': 0, 'right': 0}\n",
      "(3, 1) {'up': 0.0, 'down': 0, 'left': 0, 'right': 0.0}\n",
      "(3, 2) {'up': 0.0, 'down': 0.0, 'left': 0.0, 'right': 0.0}\n",
      "(3, 3) {'up': 0.0, 'down': 0.0, 'left': 0.0, 'right': 0.0}\n",
      "(3, 4) {'up': 0, 'down': 0, 'left': 0, 'right': 0}\n",
      "(4, 0) {'up': 0, 'down': 0, 'left': 0, 'right': 0.0}\n",
      "(4, 1) {'up': 0, 'down': 0.0, 'left': 0, 'right': 0.0}\n",
      "(4, 2) {'up': 0.0, 'down': 0.0, 'left': 0.0, 'right': 0.0}\n",
      "(4, 3) {'up': 0.0, 'down': 0.0, 'left': 0.0, 'right': 0.0}\n",
      "(4, 4) {'up': 0.0, 'down': 0.0, 'left': 0.0, 'right': 0.0}\n"
     ]
    }
   ],
   "source": [
    "s = State(rows=5, cols=5, forbidden_blocks=[(1,2), (2,3), (3,4)], deterministic=False)\n",
    "ag = Agent_Q(state=s, decay_gamma=0.5)\n",
    "ag.play(100)\n",
    "ag.showValues()"
   ]
  },
  {
   "cell_type": "code",
   "execution_count": null,
   "id": "f30caef7",
   "metadata": {},
   "outputs": [],
   "source": []
  }
 ],
 "metadata": {
  "kernelspec": {
   "display_name": "Python 3",
   "language": "python",
   "name": "python3"
  },
  "language_info": {
   "codemirror_mode": {
    "name": "ipython",
    "version": 3
   },
   "file_extension": ".py",
   "mimetype": "text/x-python",
   "name": "python",
   "nbconvert_exporter": "python",
   "pygments_lexer": "ipython3",
   "version": "3.8.5"
  }
 },
 "nbformat": 4,
 "nbformat_minor": 5
}

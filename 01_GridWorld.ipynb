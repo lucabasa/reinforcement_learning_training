{
 "cells": [
  {
   "cell_type": "code",
   "execution_count": 1,
   "id": "1a0eb8b3",
   "metadata": {},
   "outputs": [],
   "source": [
    "from GridWorld.board import State"
   ]
  },
  {
   "cell_type": "code",
   "execution_count": 2,
   "id": "7fb6c4c2",
   "metadata": {},
   "outputs": [],
   "source": [
    "s = State()"
   ]
  },
  {
   "cell_type": "code",
   "execution_count": 3,
   "id": "e215c327",
   "metadata": {},
   "outputs": [
    {
     "name": "stdout",
     "output_type": "stream",
     "text": [
      "-----------------\n",
      "| 0 | 0 | 0 | 0 | \n",
      "-----------------\n",
      "| 0 | 0 | 0 | 0 | \n",
      "-----------------\n",
      "| * | 0 | 0 | 0 | \n",
      "-----------------\n"
     ]
    }
   ],
   "source": [
    "s.showBoard()"
   ]
  },
  {
   "cell_type": "code",
   "execution_count": 4,
   "id": "dd08f54f",
   "metadata": {},
   "outputs": [
    {
     "data": {
      "text/plain": [
       "(2, 0)"
      ]
     },
     "execution_count": 4,
     "metadata": {},
     "output_type": "execute_result"
    }
   ],
   "source": [
    "s.state"
   ]
  },
  {
   "cell_type": "code",
   "execution_count": 5,
   "id": "10f35756",
   "metadata": {},
   "outputs": [
    {
     "name": "stdout",
     "output_type": "stream",
     "text": [
      "(2, 1)\n",
      "-----------------\n",
      "| 0 | 0 | 0 | 0 | \n",
      "-----------------\n",
      "| 0 | 0 | 0 | 0 | \n",
      "-----------------\n",
      "| * | * | 0 | 0 | \n",
      "-----------------\n"
     ]
    }
   ],
   "source": [
    "s.state = s.nxtPosition('right')\n",
    "print(s.state)\n",
    "s.showBoard()"
   ]
  },
  {
   "cell_type": "code",
   "execution_count": 6,
   "id": "f5002dc1",
   "metadata": {},
   "outputs": [
    {
     "name": "stdout",
     "output_type": "stream",
     "text": [
      "(1, 1)\n",
      "-----------------\n",
      "| 0 | 0 | 0 | 0 | \n",
      "-----------------\n",
      "| 0 | * | 0 | 0 | \n",
      "-----------------\n",
      "| * | * | 0 | 0 | \n",
      "-----------------\n"
     ]
    }
   ],
   "source": [
    "s.state = s.nxtPosition('up')\n",
    "print(s.state)\n",
    "s.showBoard()"
   ]
  },
  {
   "cell_type": "code",
   "execution_count": 7,
   "id": "e449c9c6",
   "metadata": {},
   "outputs": [
    {
     "name": "stdout",
     "output_type": "stream",
     "text": [
      "-----------------\n",
      "| 0 | 0 | 0 | 0 | \n",
      "-----------------\n",
      "| 0 | z | z | 0 | \n",
      "-----------------\n",
      "| * | 0 | 0 | 0 | \n",
      "-----------------\n"
     ]
    }
   ],
   "source": [
    "s = State(forbidden_blocks=[(1, 1), (1,3), (1,2)])\n",
    "s.showBoard()"
   ]
  },
  {
   "cell_type": "code",
   "execution_count": 8,
   "id": "08f19a35",
   "metadata": {},
   "outputs": [
    {
     "name": "stdout",
     "output_type": "stream",
     "text": [
      "-----------------\n",
      "| 0 | 0 | 0 | 0 | \n",
      "-----------------\n",
      "| 0 | z | z | 0 | \n",
      "-----------------\n",
      "| * | * | 0 | 0 | \n",
      "-----------------\n"
     ]
    }
   ],
   "source": [
    "s.state = s.nxtPosition('right')\n",
    "s.state = s.nxtPosition('up')\n",
    "s.state = s.nxtPosition('up')\n",
    "s.showBoard()"
   ]
  },
  {
   "cell_type": "code",
   "execution_count": 9,
   "id": "159a32ca",
   "metadata": {},
   "outputs": [],
   "source": [
    "from GridWorld.agent import Agent"
   ]
  },
  {
   "cell_type": "code",
   "execution_count": 10,
   "id": "5dbdd1ff",
   "metadata": {},
   "outputs": [
    {
     "name": "stdout",
     "output_type": "stream",
     "text": [
      "------------\n",
      "| 0 | 0 | 0 | \n",
      "------------\n",
      "| 0 | 0 | 0 | \n",
      "------------\n",
      "| * | 0 | z | \n",
      "------------\n"
     ]
    }
   ],
   "source": [
    "s = State(rows=3, cols=3, forbidden_blocks=[(1,2), (2,2)])\n",
    "s.showBoard()"
   ]
  },
  {
   "cell_type": "code",
   "execution_count": 11,
   "id": "c448d3df",
   "metadata": {},
   "outputs": [
    {
     "name": "stdout",
     "output_type": "stream",
     "text": [
      "----------------------------------\n",
      "| 0 | 0 | 0 | \n",
      "----------------------------------\n",
      "| 0 | 0 | 0 | \n",
      "----------------------------------\n",
      "| 0 | 0 | 0 | \n",
      "----------------------------------\n"
     ]
    }
   ],
   "source": [
    "ag = Agent(state=s)\n",
    "ag.showValues()"
   ]
  },
  {
   "cell_type": "code",
   "execution_count": 12,
   "id": "7180d76e",
   "metadata": {},
   "outputs": [],
   "source": [
    "ag.play(10)"
   ]
  },
  {
   "cell_type": "code",
   "execution_count": 13,
   "id": "917f0754",
   "metadata": {},
   "outputs": [
    {
     "name": "stdout",
     "output_type": "stream",
     "text": [
      "----------------------------------\n",
      "| 0.225 | 0.66 | 1.0 | \n",
      "----------------------------------\n",
      "| 0.003 | 0.305 | -1.0 | \n",
      "----------------------------------\n",
      "| -0.017 | 0.049 | 0 | \n",
      "----------------------------------\n"
     ]
    }
   ],
   "source": [
    "ag.showValues()"
   ]
  },
  {
   "cell_type": "code",
   "execution_count": 14,
   "id": "a2c4fbf8",
   "metadata": {},
   "outputs": [
    {
     "name": "stdout",
     "output_type": "stream",
     "text": [
      "----------------------\n",
      "| 0 | 0 | 0 | 0 | 0 | \n",
      "----------------------\n",
      "| 0 | 0 | z | 0 | 0 | \n",
      "----------------------\n",
      "| 0 | 0 | 0 | z | 0 | \n",
      "----------------------\n",
      "| 0 | 0 | 0 | 0 | z | \n",
      "----------------------\n",
      "| * | 0 | 0 | 0 | 0 | \n",
      "----------------------\n"
     ]
    }
   ],
   "source": [
    "s = State(rows=5, cols=5, forbidden_blocks=[(1,2), (2,3), (3,4)])\n",
    "s.showBoard()"
   ]
  },
  {
   "cell_type": "code",
   "execution_count": 15,
   "id": "1bc5b6d4",
   "metadata": {},
   "outputs": [
    {
     "name": "stdout",
     "output_type": "stream",
     "text": [
      "----------------------------------\n",
      "| 0.071 | 0.299 | 0.644 | 0.868 | 1.0 | \n",
      "----------------------------------\n",
      "| 0.001 | 0.14 | 0 | 0.118 | 0 | \n",
      "----------------------------------\n",
      "| 0.0 | 0.058 | 0.012 | 0 | 0 | \n",
      "----------------------------------\n",
      "| 0.0 | 0.0 | 0.002 | 0.0 | 0 | \n",
      "----------------------------------\n",
      "| 0 | 0.0 | 0.0 | 0.0 | 0.0 | \n",
      "----------------------------------\n"
     ]
    }
   ],
   "source": [
    "ag = Agent(state=s)\n",
    "ag.play(10)\n",
    "ag.showValues()"
   ]
  },
  {
   "cell_type": "code",
   "execution_count": 16,
   "id": "217fc8ec",
   "metadata": {},
   "outputs": [
    {
     "name": "stdout",
     "output_type": "stream",
     "text": [
      "-----------------------------------------------\n",
      "| 0 | 0 | 0 | 0 | 0 | 0 | 0 | 0 | 0 | 0 | \n",
      "-----------------------------------------------\n",
      "| 0 | 0 | z | 0 | 0 | 0 | 0 | 0 | 0 | 0 | \n",
      "-----------------------------------------------\n",
      "| 0 | 0 | 0 | z | 0 | 0 | 0 | 0 | 0 | 0 | \n",
      "-----------------------------------------------\n",
      "| 0 | 0 | 0 | 0 | z | 0 | 0 | 0 | 0 | 0 | \n",
      "-----------------------------------------------\n",
      "| 0 | 0 | 0 | 0 | z | 0 | 0 | 0 | 0 | 0 | \n",
      "-----------------------------------------------\n",
      "| 0 | 0 | 0 | 0 | z | 0 | 0 | 0 | 0 | 0 | \n",
      "-----------------------------------------------\n",
      "| 0 | 0 | 0 | 0 | 0 | 0 | 0 | 0 | 0 | 0 | \n",
      "-----------------------------------------------\n",
      "| 0 | 0 | 0 | 0 | z | z | z | z | 0 | 0 | \n",
      "-----------------------------------------------\n",
      "| 0 | 0 | 0 | 0 | 0 | 0 | 0 | 0 | 0 | 0 | \n",
      "-----------------------------------------------\n",
      "| * | 0 | 0 | 0 | 0 | 0 | 0 | 0 | 0 | 0 | \n",
      "-----------------------------------------------\n"
     ]
    }
   ],
   "source": [
    "s = State(rows=10, cols=10, \n",
    "          forbidden_blocks=[(1,2), (2,3), (3,4), \n",
    "                            (7,4), (7,5), (7,6), (7,7), (4,4), (5,4)], \n",
    "          win_state=(1,9), lose_state=(0,9))\n",
    "s.showBoard()"
   ]
  },
  {
   "cell_type": "code",
   "execution_count": 17,
   "id": "55ba567f",
   "metadata": {},
   "outputs": [
    {
     "name": "stdout",
     "output_type": "stream",
     "text": [
      "----------------------------------\n",
      "| 0 | 0 | 0 | 0 | 0 | 0 | 0 | 0 | 0 | 0 | \n",
      "----------------------------------\n",
      "| 0 | 0 | 0 | 0 | 0 | 0 | 0 | 0 | 0 | 1.0 | \n",
      "----------------------------------\n",
      "| 0 | 0 | 0 | 0 | 0 | 0 | 0 | 0 | 0.183 | 0.8 | \n",
      "----------------------------------\n",
      "| 0 | 0 | 0 | 0 | 0 | 0 | 0 | 0.018 | 0.076 | 0.572 | \n",
      "----------------------------------\n",
      "| 0 | 0 | 0 | 0 | 0 | 0 | 0 | 0 | 0.025 | 0.372 | \n",
      "----------------------------------\n",
      "| 0 | 0 | 0 | 0 | 0 | 0 | 0 | 0 | 0 | 0.212 | \n",
      "----------------------------------\n",
      "| 0 | 0 | 0 | 0 | 0 | 0 | 0 | 0 | 0 | 0.125 | \n",
      "----------------------------------\n",
      "| 0 | 0 | 0 | 0 | 0 | 0 | 0 | 0 | 0.027 | 0.058 | \n",
      "----------------------------------\n",
      "| 0 | 0.0 | 0.0 | 0.0 | 0.0 | 0.0 | 0.001 | 0.003 | 0.012 | 0.007 | \n",
      "----------------------------------\n",
      "| 0 | 0.0 | 0.0 | 0.0 | 0.0 | 0.0 | 0.0 | 0.001 | 0.002 | 0.002 | \n",
      "----------------------------------\n"
     ]
    }
   ],
   "source": [
    "ag = Agent(state=s)\n",
    "ag.play(10)\n",
    "ag.showValues()"
   ]
  },
  {
   "cell_type": "code",
   "execution_count": 18,
   "id": "8a90af91",
   "metadata": {},
   "outputs": [
    {
     "name": "stdout",
     "output_type": "stream",
     "text": [
      "----------------------------------\n",
      "| 0 | 0 | 0 | 0 | 0 | 0 | 0 | 0 | 0 | 0 | \n",
      "----------------------------------\n",
      "| 0 | 0 | 0 | 0 | 0 | 0 | 0 | 0 | 0.871 | 1.0 | \n",
      "----------------------------------\n",
      "| 0 | 0 | 0 | 0 | 0 | 0 | 0 | 0.091 | 0.644 | 0 | \n",
      "----------------------------------\n",
      "| 0 | 0 | 0 | 0 | 0 | 0 | 0 | 0 | 0.409 | 0.005 | \n",
      "----------------------------------\n",
      "| 0 | 0 | 0 | 0 | 0 | 0 | 0 | 0.082 | 0.189 | 0.051 | \n",
      "----------------------------------\n",
      "| 0 | 0 | 0 | 0 | 0 | 0 | 0 | 0 | 0.075 | 0.023 | \n",
      "----------------------------------\n",
      "| 0 | 0 | 0 | 0 | 0 | 0 | 0.0 | 0.0 | 0.029 | 0.016 | \n",
      "----------------------------------\n",
      "| 0 | 0 | 0 | 0 | 0 | 0 | 0 | 0 | 0.001 | 0.007 | \n",
      "----------------------------------\n",
      "| 0 | 0 | 0 | 0 | 0 | 0 | 0.0 | 0.0 | 0.0 | 0.002 | \n",
      "----------------------------------\n",
      "| 0 | 0 | 0 | 0 | 0 | 0 | 0.0 | 0.0 | 0.0 | 0.0 | \n",
      "----------------------------------\n"
     ]
    }
   ],
   "source": [
    "ag = Agent(state=s, exp_rate=0.5)\n",
    "ag.play(10)\n",
    "ag.showValues()"
   ]
  },
  {
   "cell_type": "code",
   "execution_count": 19,
   "id": "774a04f3",
   "metadata": {},
   "outputs": [
    {
     "name": "stdout",
     "output_type": "stream",
     "text": [
      "----------------------------------\n",
      "| 0.0 | 0.0 | 0.0 | 0.0 | 0.003 | 0.008 | 0.03 | 0.093 | 0.072 | 0 | \n",
      "----------------------------------\n",
      "| 0.0 | 0.0 | 0 | 0.0 | 0.002 | 0.004 | 0.052 | 0.208 | 0.509 | 1.0 | \n",
      "----------------------------------\n",
      "| 0.0 | 0.0 | 0.0 | 0 | 0 | 0.005 | 0.039 | 0.118 | 0.243 | 0.37 | \n",
      "----------------------------------\n",
      "| 0.0 | 0.0 | 0.0 | 0.0 | 0 | 0.006 | 0.022 | 0.085 | 0.11 | 0.176 | \n",
      "----------------------------------\n",
      "| 0.0 | 0.0 | 0.0 | 0.0 | 0 | 0.004 | 0.013 | 0.072 | 0.062 | 0.086 | \n",
      "----------------------------------\n",
      "| 0 | 0.0 | 0.0 | 0.0 | 0 | 0.002 | 0.004 | 0.011 | 0.017 | 0.027 | \n",
      "----------------------------------\n",
      "| 0 | 0 | 0.0 | 0.0 | 0.0 | 0.0 | 0.002 | 0.005 | 0.008 | 0.002 | \n",
      "----------------------------------\n",
      "| 0 | 0 | 0 | 0 | 0 | 0 | 0 | 0 | 0.002 | 0.0 | \n",
      "----------------------------------\n",
      "| 0 | 0 | 0 | 0 | 0 | 0.0 | 0.0 | 0.0 | 0.0 | 0.0 | \n",
      "----------------------------------\n",
      "| 0 | 0 | 0 | 0 | 0 | 0.0 | 0.0 | 0.0 | 0.0 | 0.0 | \n",
      "----------------------------------\n"
     ]
    }
   ],
   "source": [
    "ag = Agent(state=s, exp_rate=0.9)\n",
    "ag.play(10)\n",
    "ag.showValues()"
   ]
  },
  {
   "cell_type": "code",
   "execution_count": 20,
   "id": "272a1cd2",
   "metadata": {},
   "outputs": [
    {
     "name": "stdout",
     "output_type": "stream",
     "text": [
      "----------------------\n",
      "| 0 | 0 | 0 | 0 | 0 | \n",
      "----------------------\n",
      "| 0 | 0 | z | 0 | 0 | \n",
      "----------------------\n",
      "| 0 | 0 | 0 | z | 0 | \n",
      "----------------------\n",
      "| 0 | 0 | 0 | 0 | z | \n",
      "----------------------\n",
      "| * | 0 | 0 | 0 | 0 | \n",
      "----------------------\n"
     ]
    }
   ],
   "source": [
    "s = State(rows=5, cols=5, forbidden_blocks=[(1,2), (2,3), (3,4)])\n",
    "s.showBoard()"
   ]
  },
  {
   "cell_type": "code",
   "execution_count": 21,
   "id": "d50c8198",
   "metadata": {},
   "outputs": [
    {
     "name": "stdout",
     "output_type": "stream",
     "text": [
      "(0, 0) {'up': 0, 'down': 0, 'left': 0, 'right': 0}\n",
      "(0, 1) {'up': 0, 'down': 0, 'left': 0, 'right': 0}\n",
      "(0, 2) {'up': 0, 'down': 0, 'left': 0, 'right': 0}\n",
      "(0, 3) {'up': 0, 'down': 0, 'left': 0, 'right': 0}\n",
      "(0, 4) {'up': 0, 'down': 0, 'left': 0, 'right': 0}\n",
      "(1, 0) {'up': 0, 'down': 0, 'left': 0, 'right': 0}\n",
      "(1, 1) {'up': 0, 'down': 0, 'left': 0, 'right': 0}\n",
      "(1, 2) {'up': 0, 'down': 0, 'left': 0, 'right': 0}\n",
      "(1, 3) {'up': 0, 'down': 0, 'left': 0, 'right': 0}\n",
      "(1, 4) {'up': 0, 'down': 0, 'left': 0, 'right': 0}\n",
      "(2, 0) {'up': 0, 'down': 0, 'left': 0, 'right': 0}\n",
      "(2, 1) {'up': 0, 'down': 0, 'left': 0, 'right': 0}\n",
      "(2, 2) {'up': 0, 'down': 0, 'left': 0, 'right': 0}\n",
      "(2, 3) {'up': 0, 'down': 0, 'left': 0, 'right': 0}\n",
      "(2, 4) {'up': 0, 'down': 0, 'left': 0, 'right': 0}\n",
      "(3, 0) {'up': 0, 'down': 0, 'left': 0, 'right': 0}\n",
      "(3, 1) {'up': 0, 'down': 0, 'left': 0, 'right': 0}\n",
      "(3, 2) {'up': 0, 'down': 0, 'left': 0, 'right': 0}\n",
      "(3, 3) {'up': 0, 'down': 0, 'left': 0, 'right': 0}\n",
      "(3, 4) {'up': 0, 'down': 0, 'left': 0, 'right': 0}\n",
      "(4, 0) {'up': 0, 'down': 0, 'left': 0, 'right': 0}\n",
      "(4, 1) {'up': 0, 'down': 0, 'left': 0, 'right': 0}\n",
      "(4, 2) {'up': 0, 'down': 0, 'left': 0, 'right': 0}\n",
      "(4, 3) {'up': 0, 'down': 0, 'left': 0, 'right': 0}\n",
      "(4, 4) {'up': 0, 'down': 0, 'left': 0, 'right': 0}\n"
     ]
    }
   ],
   "source": [
    "from GridWorld.agent import Agent_Q\n",
    "\n",
    "s = State(rows=5, cols=5, forbidden_blocks=[(1,2), (2,3), (3,4)])\n",
    "ag = Agent_Q(state=s)\n",
    "ag.showValues()"
   ]
  },
  {
   "cell_type": "code",
   "execution_count": 22,
   "id": "151f2fa5",
   "metadata": {},
   "outputs": [
    {
     "data": {
      "text/plain": [
       "{(0, 0): {'up': 0, 'down': 0, 'left': 0, 'right': 0},\n",
       " (0, 1): {'up': 0, 'down': 0.002, 'left': 0, 'right': 0.034},\n",
       " (0, 2): {'up': 0, 'down': 0.0, 'left': 0, 'right': 0.673},\n",
       " (0, 3): {'up': 1, 'down': 1, 'left': 1, 'right': 1},\n",
       " (0, 4): {'up': 1, 'down': 1, 'left': 1, 'right': 1},\n",
       " (1, 0): {'up': 0, 'down': 0, 'left': 0, 'right': 0.002},\n",
       " (1, 1): {'up': 0.01, 'down': 0.0, 'left': 0.0, 'right': 0.0},\n",
       " (1, 2): {'up': 0.132, 'down': 0, 'left': 0.001, 'right': -0.18},\n",
       " (1, 3): {'up': -1, 'down': -1, 'left': -1, 'right': -1},\n",
       " (1, 4): {'up': 0, 'down': 0, 'left': 0, 'right': 0},\n",
       " (2, 0): {'up': 0.0, 'down': 0.0, 'left': 0, 'right': 0.0},\n",
       " (2, 1): {'up': 0.0, 'down': 0.0, 'left': 0.0, 'right': -0.001},\n",
       " (2, 2): {'up': -0.014, 'down': 0.0, 'left': 0.0, 'right': -0.003},\n",
       " (2, 3): {'up': -0.18, 'down': -0.019, 'left': -0.002, 'right': -0.012},\n",
       " (2, 4): {'up': 0, 'down': 0, 'left': 0, 'right': 0},\n",
       " (3, 0): {'up': 0.0, 'down': 0, 'left': 0.0, 'right': 0.0},\n",
       " (3, 1): {'up': 0.0, 'down': 0.0, 'left': 0.0, 'right': 0.0},\n",
       " (3, 2): {'up': 0.0, 'down': 0.0, 'left': 0.0, 'right': 0.0},\n",
       " (3, 3): {'up': 0.0, 'down': 0.0, 'left': 0.0, 'right': 0.0},\n",
       " (3, 4): {'up': 0, 'down': 0, 'left': 0, 'right': 0},\n",
       " (4, 0): {'up': 0, 'down': 0, 'left': 0, 'right': 0.0},\n",
       " (4, 1): {'up': 0.0, 'down': 0.0, 'left': 0.0, 'right': 0.0},\n",
       " (4, 2): {'up': 0.0, 'down': 0.0, 'left': 0.0, 'right': 0.0},\n",
       " (4, 3): {'up': 0.0, 'down': 0.0, 'left': 0.0, 'right': 0.0},\n",
       " (4, 4): {'up': 0.0, 'down': 0.0, 'left': 0.0, 'right': 0.0}}"
      ]
     },
     "execution_count": 22,
     "metadata": {},
     "output_type": "execute_result"
    }
   ],
   "source": [
    "ag.play(10)\n",
    "ag.Q_values"
   ]
  },
  {
   "cell_type": "code",
   "execution_count": 47,
   "id": "343e81d4",
   "metadata": {},
   "outputs": [
    {
     "name": "stdout",
     "output_type": "stream",
     "text": [
      "----------------------\n",
      "| 0 | 0 | 0 | 0 | 0 | \n",
      "----------------------\n",
      "| 0 | 0 | z | 0 | 0 | \n",
      "----------------------\n",
      "| 0 | 0 | 0 | z | 0 | \n",
      "----------------------\n",
      "| 0 | 0 | 0 | 0 | z | \n",
      "----------------------\n",
      "| * | 0 | 0 | 0 | 0 | \n",
      "----------------------\n"
     ]
    }
   ],
   "source": [
    "s = State(rows=5, cols=5, forbidden_blocks=[(1,2), (2,3), (3,4)], deterministic=False)\n",
    "s.showBoard()"
   ]
  },
  {
   "cell_type": "code",
   "execution_count": 48,
   "id": "bda0dc23",
   "metadata": {},
   "outputs": [
    {
     "name": "stdout",
     "output_type": "stream",
     "text": [
      "(0, 0) {'up': 0.018, 'down': 0.009, 'left': 0.068, 'right': 0.376}\n",
      "(0, 1) {'up': 0.269, 'down': 0.001, 'left': 0.126, 'right': 0.711}\n",
      "(0, 2) {'up': 0.587, 'down': 0.0, 'left': 0.222, 'right': 0.898}\n",
      "(0, 3) {'up': 1, 'down': 1, 'left': 1, 'right': 0.98}\n",
      "(0, 4) {'up': 1, 'down': 1, 'left': 1, 'right': 1}\n",
      "(1, 0) {'up': 0.272, 'down': -0.0, 'left': -0.002, 'right': 0.006}\n",
      "(1, 1) {'up': 0, 'down': 0.006, 'left': 0.063, 'right': -0.084}\n",
      "(1, 2) {'up': 0, 'down': 0.001, 'left': -0.001, 'right': -0.324}\n",
      "(1, 3) {'up': -0.62, 'down': -1, 'left': -1, 'right': -1}\n",
      "(1, 4) {'up': 0, 'down': 0, 'left': 0, 'right': 0}\n",
      "(2, 0) {'up': 0.127, 'down': 0.015, 'left': -0.0, 'right': -0.002}\n",
      "(2, 1) {'up': 0.005, 'down': 0.003, 'left': 0.047, 'right': -0.001}\n",
      "(2, 2) {'up': 0.0, 'down': 0.001, 'left': 0.007, 'right': -0.007}\n",
      "(2, 3) {'up': -0.18, 'down': -0.006, 'left': -0.003, 'right': -0.008}\n",
      "(2, 4) {'up': 0, 'down': 0, 'left': 0, 'right': 0}\n",
      "(3, 0) {'up': 0, 'down': 0, 'left': 0, 'right': 0.0}\n",
      "(3, 1) {'up': 0.0, 'down': 0.0, 'left': 0.0, 'right': 0.0}\n",
      "(3, 2) {'up': 0.0, 'down': 0.0, 'left': 0.0, 'right': 0.0}\n",
      "(3, 3) {'up': 0.0, 'down': 0.0, 'left': 0.0, 'right': 0.0}\n",
      "(3, 4) {'up': 0, 'down': 0, 'left': 0, 'right': 0}\n",
      "(4, 0) {'up': 0, 'down': 0, 'left': 0.0, 'right': 0.0}\n",
      "(4, 1) {'up': 0.0, 'down': 0.0, 'left': 0.0, 'right': 0.0}\n",
      "(4, 2) {'up': 0.0, 'down': 0.0, 'left': 0.0, 'right': 0.0}\n",
      "(4, 3) {'up': 0.0, 'down': 0.0, 'left': 0.0, 'right': 0.0}\n",
      "(4, 4) {'up': 0.0, 'down': 0.0, 'left': 0.0, 'right': 0.0}\n"
     ]
    }
   ],
   "source": [
    "ag = Agent_Q(state=s)\n",
    "ag.play(100)\n",
    "ag.showValues()"
   ]
  },
  {
   "cell_type": "code",
   "execution_count": 51,
   "id": "e6e9ca85",
   "metadata": {},
   "outputs": [
    {
     "name": "stdout",
     "output_type": "stream",
     "text": [
      "(0, 0) {'up': 0, 'down': 0, 'left': 0.002, 'right': 0.042}\n",
      "(0, 1) {'up': 0.013, 'down': 0.017, 'left': 0.007, 'right': 0.15}\n",
      "(0, 2) {'up': 0.15, 'down': 0.004, 'left': 0.016, 'right': 0.498}\n",
      "(0, 3) {'up': 1, 'down': 1, 'left': 1, 'right': 1}\n",
      "(0, 4) {'up': 1, 'down': 1, 'left': 1, 'right': 1}\n",
      "(1, 0) {'up': 0.0, 'down': 0, 'left': 0.002, 'right': 0.023}\n",
      "(1, 1) {'up': 0.09, 'down': 0, 'left': 0.001, 'right': -0.003}\n",
      "(1, 2) {'up': 0, 'down': 0.0, 'left': 0.016, 'right': -0.1}\n",
      "(1, 3) {'up': -0.7, 'down': -1, 'left': -1, 'right': -1}\n",
      "(1, 4) {'up': 0, 'down': 0, 'left': 0, 'right': 0}\n",
      "(2, 0) {'up': 0, 'down': 0, 'left': -0.0, 'right': 0.001}\n",
      "(2, 1) {'up': 0.011, 'down': 0.001, 'left': 0.0, 'right': 0.0}\n",
      "(2, 2) {'up': 0.0, 'down': 0.0, 'left': 0.001, 'right': -0.001}\n",
      "(2, 3) {'up': -0.1, 'down': -0.0, 'left': -0.0, 'right': -0.006}\n",
      "(2, 4) {'up': 0, 'down': 0, 'left': 0, 'right': 0}\n",
      "(3, 0) {'up': 0, 'down': 0, 'left': 0, 'right': 0}\n",
      "(3, 1) {'up': 0.0, 'down': 0, 'left': 0, 'right': 0.0}\n",
      "(3, 2) {'up': 0.0, 'down': 0.0, 'left': 0.0, 'right': 0.0}\n",
      "(3, 3) {'up': 0.0, 'down': 0.0, 'left': 0.0, 'right': 0.0}\n",
      "(3, 4) {'up': 0, 'down': 0, 'left': 0, 'right': 0}\n",
      "(4, 0) {'up': 0, 'down': 0, 'left': 0, 'right': 0.0}\n",
      "(4, 1) {'up': 0, 'down': 0.0, 'left': 0, 'right': 0.0}\n",
      "(4, 2) {'up': 0.0, 'down': 0.0, 'left': 0.0, 'right': 0.0}\n",
      "(4, 3) {'up': 0.0, 'down': 0.0, 'left': 0.0, 'right': 0.0}\n",
      "(4, 4) {'up': 0.0, 'down': 0.0, 'left': 0.0, 'right': 0.0}\n"
     ]
    }
   ],
   "source": [
    "s = State(rows=5, cols=5, forbidden_blocks=[(1,2), (2,3), (3,4)], deterministic=False)\n",
    "ag = Agent_Q(state=s, decay_gamma=0.5)\n",
    "ag.play(100)\n",
    "ag.showValues()"
   ]
  },
  {
   "cell_type": "code",
   "execution_count": null,
   "id": "16443604",
   "metadata": {},
   "outputs": [],
   "source": []
  }
 ],
 "metadata": {
  "kernelspec": {
   "display_name": "Python 3",
   "language": "python",
   "name": "python3"
  },
  "language_info": {
   "codemirror_mode": {
    "name": "ipython",
    "version": 3
   },
   "file_extension": ".py",
   "mimetype": "text/x-python",
   "name": "python",
   "nbconvert_exporter": "python",
   "pygments_lexer": "ipython3",
   "version": "3.8.5"
  }
 },
 "nbformat": 4,
 "nbformat_minor": 5
}

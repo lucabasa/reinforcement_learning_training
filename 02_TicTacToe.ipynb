{
 "cells": [
  {
   "cell_type": "code",
   "execution_count": 1,
   "id": "1df856f5",
   "metadata": {},
   "outputs": [],
   "source": [
    "from TicTacToe.board import State"
   ]
  },
  {
   "cell_type": "code",
   "execution_count": 2,
   "id": "636ef0d5",
   "metadata": {},
   "outputs": [
    {
     "name": "stdout",
     "output_type": "stream",
     "text": [
      "-------------\n",
      "|   |   |   | \n",
      "-------------\n",
      "|   |   |   | \n",
      "-------------\n",
      "|   |   |   | \n",
      "-------------\n"
     ]
    }
   ],
   "source": [
    "s = State(1, 2)\n",
    "s.showBoard()"
   ]
  },
  {
   "cell_type": "code",
   "execution_count": 3,
   "id": "b4ff72fe",
   "metadata": {},
   "outputs": [
    {
     "name": "stdout",
     "output_type": "stream",
     "text": [
      "-------------\n",
      "| x |   |   | \n",
      "-------------\n",
      "|   |   |   | \n",
      "-------------\n",
      "|   |   |   | \n",
      "-------------\n"
     ]
    }
   ],
   "source": [
    "s.updateState((0,0))\n",
    "s.showBoard()"
   ]
  },
  {
   "cell_type": "code",
   "execution_count": 4,
   "id": "aad185f9",
   "metadata": {},
   "outputs": [
    {
     "name": "stdout",
     "output_type": "stream",
     "text": [
      "-------------\n",
      "| x |   |   | \n",
      "-------------\n",
      "|   | o |   | \n",
      "-------------\n",
      "|   |   |   | \n",
      "-------------\n"
     ]
    }
   ],
   "source": [
    "s.updateState((1,1))\n",
    "s.showBoard()"
   ]
  },
  {
   "cell_type": "code",
   "execution_count": 5,
   "id": "f01b8e4b",
   "metadata": {},
   "outputs": [],
   "source": [
    "from TicTacToe.player import Player"
   ]
  },
  {
   "cell_type": "code",
   "execution_count": 10,
   "id": "0a4be305",
   "metadata": {},
   "outputs": [
    {
     "name": "stdout",
     "output_type": "stream",
     "text": [
      "training...\n",
      "Rounds 0\n",
      "Rounds 1000\n",
      "Rounds 2000\n",
      "Rounds 3000\n",
      "Rounds 4000\n",
      "Rounds 5000\n",
      "Rounds 6000\n",
      "Rounds 7000\n",
      "Rounds 8000\n",
      "Rounds 9000\n",
      "Rounds 10000\n",
      "Rounds 11000\n",
      "Rounds 12000\n",
      "Rounds 13000\n",
      "Rounds 14000\n",
      "Rounds 15000\n",
      "Rounds 16000\n",
      "Rounds 17000\n",
      "Rounds 18000\n",
      "Rounds 19000\n",
      "Rounds 20000\n",
      "Rounds 21000\n",
      "Rounds 22000\n",
      "Rounds 23000\n",
      "Rounds 24000\n",
      "Rounds 25000\n",
      "Rounds 26000\n",
      "Rounds 27000\n",
      "Rounds 28000\n",
      "Rounds 29000\n",
      "Rounds 30000\n",
      "Rounds 31000\n",
      "Rounds 32000\n",
      "Rounds 33000\n",
      "Rounds 34000\n",
      "Rounds 35000\n",
      "Rounds 36000\n",
      "Rounds 37000\n",
      "Rounds 38000\n",
      "Rounds 39000\n",
      "Rounds 40000\n",
      "Rounds 41000\n",
      "Rounds 42000\n",
      "Rounds 43000\n",
      "Rounds 44000\n",
      "Rounds 45000\n",
      "Rounds 46000\n",
      "Rounds 47000\n",
      "Rounds 48000\n",
      "Rounds 49000\n"
     ]
    }
   ],
   "source": [
    "p1 = Player(\"p1\")\n",
    "p2 = Player(\"p2\")\n",
    "\n",
    "st = State(p1, p2)\n",
    "print(\"training...\")\n",
    "st.play(50000)"
   ]
  },
  {
   "cell_type": "code",
   "execution_count": 11,
   "id": "6d5b6994",
   "metadata": {},
   "outputs": [],
   "source": [
    "p1.savePolicy()\n",
    "p2.savePolicy()\n",
    "p1.loadPolicy(\"policy_p1\")"
   ]
  },
  {
   "cell_type": "code",
   "execution_count": null,
   "id": "f3e84efd",
   "metadata": {},
   "outputs": [],
   "source": []
  }
 ],
 "metadata": {
  "kernelspec": {
   "display_name": "Python 3",
   "language": "python",
   "name": "python3"
  },
  "language_info": {
   "codemirror_mode": {
    "name": "ipython",
    "version": 3
   },
   "file_extension": ".py",
   "mimetype": "text/x-python",
   "name": "python",
   "nbconvert_exporter": "python",
   "pygments_lexer": "ipython3",
   "version": "3.8.5"
  }
 },
 "nbformat": 4,
 "nbformat_minor": 5
}

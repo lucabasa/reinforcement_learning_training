{
 "cells": [
  {
   "cell_type": "code",
   "execution_count": 1,
   "id": "63c2bb13",
   "metadata": {},
   "outputs": [],
   "source": [
    "from TicTacToe.board import State"
   ]
  },
  {
   "cell_type": "code",
   "execution_count": 2,
   "id": "f38ad208",
   "metadata": {},
   "outputs": [
    {
     "name": "stdout",
     "output_type": "stream",
     "text": [
      "-------------\n",
      "|   |   |   | \n",
      "-------------\n",
      "|   |   |   | \n",
      "-------------\n",
      "|   |   |   | \n",
      "-------------\n"
     ]
    }
   ],
   "source": [
    "s = State(1, 2)\n",
    "s.showBoard()"
   ]
  },
  {
   "cell_type": "code",
   "execution_count": 3,
   "id": "32f632e1",
   "metadata": {},
   "outputs": [
    {
     "name": "stdout",
     "output_type": "stream",
     "text": [
      "-------------\n",
      "| x |   |   | \n",
      "-------------\n",
      "|   |   |   | \n",
      "-------------\n",
      "|   |   |   | \n",
      "-------------\n"
     ]
    }
   ],
   "source": [
    "s.updateState((0,0))\n",
    "s.showBoard()"
   ]
  },
  {
   "cell_type": "code",
   "execution_count": 4,
   "id": "c3c5bb11",
   "metadata": {},
   "outputs": [
    {
     "name": "stdout",
     "output_type": "stream",
     "text": [
      "-------------\n",
      "| x |   |   | \n",
      "-------------\n",
      "|   | o |   | \n",
      "-------------\n",
      "|   |   |   | \n",
      "-------------\n"
     ]
    }
   ],
   "source": [
    "s.updateState((1,1))\n",
    "s.showBoard()"
   ]
  },
  {
   "cell_type": "code",
   "execution_count": 5,
   "id": "177ee014",
   "metadata": {},
   "outputs": [],
   "source": [
    "from TicTacToe.player import Player"
   ]
  },
  {
   "cell_type": "code",
   "execution_count": 6,
   "id": "03dbe357",
   "metadata": {},
   "outputs": [
    {
     "name": "stdout",
     "output_type": "stream",
     "text": [
      "training...\n",
      "Rounds 0\n",
      "Rounds 1000\n",
      "Rounds 2000\n",
      "Rounds 3000\n",
      "Rounds 4000\n",
      "Rounds 5000\n",
      "Rounds 6000\n",
      "Rounds 7000\n",
      "Rounds 8000\n",
      "Rounds 9000\n",
      "Rounds 10000\n",
      "Rounds 11000\n",
      "Rounds 12000\n",
      "Rounds 13000\n",
      "Rounds 14000\n",
      "Rounds 15000\n",
      "Rounds 16000\n",
      "Rounds 17000\n",
      "Rounds 18000\n",
      "Rounds 19000\n",
      "Rounds 20000\n",
      "Rounds 21000\n",
      "Rounds 22000\n",
      "Rounds 23000\n",
      "Rounds 24000\n",
      "Rounds 25000\n",
      "Rounds 26000\n",
      "Rounds 27000\n",
      "Rounds 28000\n",
      "Rounds 29000\n",
      "Rounds 30000\n",
      "Rounds 31000\n",
      "Rounds 32000\n",
      "Rounds 33000\n",
      "Rounds 34000\n",
      "Rounds 35000\n",
      "Rounds 36000\n",
      "Rounds 37000\n",
      "Rounds 38000\n",
      "Rounds 39000\n",
      "Rounds 40000\n",
      "Rounds 41000\n",
      "Rounds 42000\n",
      "Rounds 43000\n",
      "Rounds 44000\n",
      "Rounds 45000\n",
      "Rounds 46000\n",
      "Rounds 47000\n",
      "Rounds 48000\n",
      "Rounds 49000\n",
      "Rounds 50000\n",
      "Rounds 51000\n",
      "Rounds 52000\n",
      "Rounds 53000\n",
      "Rounds 54000\n",
      "Rounds 55000\n",
      "Rounds 56000\n",
      "Rounds 57000\n",
      "Rounds 58000\n",
      "Rounds 59000\n",
      "Rounds 60000\n",
      "Rounds 61000\n",
      "Rounds 62000\n",
      "Rounds 63000\n",
      "Rounds 64000\n",
      "Rounds 65000\n",
      "Rounds 66000\n",
      "Rounds 67000\n",
      "Rounds 68000\n",
      "Rounds 69000\n",
      "Rounds 70000\n",
      "Rounds 71000\n",
      "Rounds 72000\n",
      "Rounds 73000\n",
      "Rounds 74000\n",
      "Rounds 75000\n",
      "Rounds 76000\n",
      "Rounds 77000\n",
      "Rounds 78000\n",
      "Rounds 79000\n",
      "Rounds 80000\n",
      "Rounds 81000\n",
      "Rounds 82000\n",
      "Rounds 83000\n",
      "Rounds 84000\n",
      "Rounds 85000\n",
      "Rounds 86000\n",
      "Rounds 87000\n",
      "Rounds 88000\n",
      "Rounds 89000\n",
      "Rounds 90000\n",
      "Rounds 91000\n",
      "Rounds 92000\n",
      "Rounds 93000\n",
      "Rounds 94000\n",
      "Rounds 95000\n",
      "Rounds 96000\n",
      "Rounds 97000\n",
      "Rounds 98000\n",
      "Rounds 99000\n"
     ]
    }
   ],
   "source": [
    "p1 = Player(\"p1\")\n",
    "p2 = Player(\"p2\")\n",
    "\n",
    "st = State(p1, p2)\n",
    "print(\"training...\")\n",
    "st.play(100000)"
   ]
  },
  {
   "cell_type": "code",
   "execution_count": 7,
   "id": "4e0bb935",
   "metadata": {},
   "outputs": [],
   "source": [
    "p1.savePolicy()\n",
    "p2.savePolicy()\n",
    "p1.loadPolicy(\"policy_p1\")"
   ]
  },
  {
   "cell_type": "code",
   "execution_count": 8,
   "id": "8c8c29ed",
   "metadata": {},
   "outputs": [],
   "source": [
    "from TicTacToe.player import HumanPlayer"
   ]
  },
  {
   "cell_type": "code",
   "execution_count": 9,
   "id": "210599ce",
   "metadata": {},
   "outputs": [
    {
     "name": "stdout",
     "output_type": "stream",
     "text": [
      "-------------\n",
      "|   |   |   | \n",
      "-------------\n",
      "| x |   |   | \n",
      "-------------\n",
      "|   |   |   | \n",
      "-------------\n"
     ]
    },
    {
     "name": "stdin",
     "output_type": "stream",
     "text": [
      "Input your action row: 0\n",
      "Input your action col: 0\n"
     ]
    },
    {
     "name": "stdout",
     "output_type": "stream",
     "text": [
      "-------------\n",
      "| o |   |   | \n",
      "-------------\n",
      "| x |   |   | \n",
      "-------------\n",
      "|   |   |   | \n",
      "-------------\n",
      "-------------\n",
      "| o |   |   | \n",
      "-------------\n",
      "| x | x |   | \n",
      "-------------\n",
      "|   |   |   | \n",
      "-------------\n"
     ]
    },
    {
     "name": "stdin",
     "output_type": "stream",
     "text": [
      "Input your action row: 1\n",
      "Input your action col: 2\n"
     ]
    },
    {
     "name": "stdout",
     "output_type": "stream",
     "text": [
      "-------------\n",
      "| o |   |   | \n",
      "-------------\n",
      "| x | x | o | \n",
      "-------------\n",
      "|   |   |   | \n",
      "-------------\n",
      "-------------\n",
      "| o |   |   | \n",
      "-------------\n",
      "| x | x | o | \n",
      "-------------\n",
      "|   | x |   | \n",
      "-------------\n"
     ]
    },
    {
     "name": "stdin",
     "output_type": "stream",
     "text": [
      "Input your action row: 0\n",
      "Input your action col: 1\n"
     ]
    },
    {
     "name": "stdout",
     "output_type": "stream",
     "text": [
      "-------------\n",
      "| o | o |   | \n",
      "-------------\n",
      "| x | x | o | \n",
      "-------------\n",
      "|   | x |   | \n",
      "-------------\n",
      "-------------\n",
      "| o | o | x | \n",
      "-------------\n",
      "| x | x | o | \n",
      "-------------\n",
      "|   | x |   | \n",
      "-------------\n"
     ]
    },
    {
     "name": "stdin",
     "output_type": "stream",
     "text": [
      "Input your action row: 2\n",
      "Input your action col: 0\n"
     ]
    },
    {
     "name": "stdout",
     "output_type": "stream",
     "text": [
      "-------------\n",
      "| o | o | x | \n",
      "-------------\n",
      "| x | x | o | \n",
      "-------------\n",
      "| o | x |   | \n",
      "-------------\n",
      "-------------\n",
      "| o | o | x | \n",
      "-------------\n",
      "| x | x | o | \n",
      "-------------\n",
      "| o | x | x | \n",
      "-------------\n",
      "tie!\n"
     ]
    }
   ],
   "source": [
    "p1 = Player(\"computer\", exp_rate=0)\n",
    "p1.loadPolicy(\"policy_p1\")\n",
    "\n",
    "p2 = HumanPlayer(\"human\")\n",
    "\n",
    "st = State(p1, p2)\n",
    "st.play_human()"
   ]
  },
  {
   "cell_type": "code",
   "execution_count": 12,
   "id": "0d4642dc",
   "metadata": {},
   "outputs": [
    {
     "name": "stdin",
     "output_type": "stream",
     "text": [
      "Input your action row: 1\n",
      "Input your action col: 1\n"
     ]
    },
    {
     "name": "stdout",
     "output_type": "stream",
     "text": [
      "-------------\n",
      "|   |   |   | \n",
      "-------------\n",
      "|   | x |   | \n",
      "-------------\n",
      "|   |   |   | \n",
      "-------------\n",
      "-------------\n",
      "| o |   |   | \n",
      "-------------\n",
      "|   | x |   | \n",
      "-------------\n",
      "|   |   |   | \n",
      "-------------\n"
     ]
    },
    {
     "name": "stdin",
     "output_type": "stream",
     "text": [
      "Input your action row: 2\n",
      "Input your action col: 0\n"
     ]
    },
    {
     "name": "stdout",
     "output_type": "stream",
     "text": [
      "-------------\n",
      "| o |   |   | \n",
      "-------------\n",
      "|   | x |   | \n",
      "-------------\n",
      "| x |   |   | \n",
      "-------------\n",
      "-------------\n",
      "| o |   | o | \n",
      "-------------\n",
      "|   | x |   | \n",
      "-------------\n",
      "| x |   |   | \n",
      "-------------\n"
     ]
    },
    {
     "name": "stdin",
     "output_type": "stream",
     "text": [
      "Input your action row: 0\n",
      "Input your action col: 1\n"
     ]
    },
    {
     "name": "stdout",
     "output_type": "stream",
     "text": [
      "-------------\n",
      "| o | x | o | \n",
      "-------------\n",
      "|   | x |   | \n",
      "-------------\n",
      "| x |   |   | \n",
      "-------------\n",
      "-------------\n",
      "| o | x | o | \n",
      "-------------\n",
      "|   | x |   | \n",
      "-------------\n",
      "| x | o |   | \n",
      "-------------\n"
     ]
    },
    {
     "name": "stdin",
     "output_type": "stream",
     "text": [
      "Input your action row: 1\n",
      "Input your action col: 2\n"
     ]
    },
    {
     "name": "stdout",
     "output_type": "stream",
     "text": [
      "-------------\n",
      "| o | x | o | \n",
      "-------------\n",
      "|   | x | x | \n",
      "-------------\n",
      "| x | o |   | \n",
      "-------------\n",
      "-------------\n",
      "| o | x | o | \n",
      "-------------\n",
      "| o | x | x | \n",
      "-------------\n",
      "| x | o |   | \n",
      "-------------\n"
     ]
    },
    {
     "name": "stdin",
     "output_type": "stream",
     "text": [
      "Input your action row: 2\n",
      "Input your action col: 2\n"
     ]
    },
    {
     "name": "stdout",
     "output_type": "stream",
     "text": [
      "-------------\n",
      "| o | x | o | \n",
      "-------------\n",
      "| o | x | x | \n",
      "-------------\n",
      "| x | o | x | \n",
      "-------------\n",
      "tie!\n"
     ]
    }
   ],
   "source": [
    "p2 = Player(\"computer\", exp_rate=0)\n",
    "p2.loadPolicy(\"policy_p2\")\n",
    "\n",
    "p1 = HumanPlayer(\"human\")\n",
    "\n",
    "st = State(p1, p2)\n",
    "st.play_human()"
   ]
  },
  {
   "cell_type": "code",
   "execution_count": null,
   "id": "a95648b4",
   "metadata": {},
   "outputs": [],
   "source": []
  }
 ],
 "metadata": {
  "kernelspec": {
   "display_name": "Python 3",
   "language": "python",
   "name": "python3"
  },
  "language_info": {
   "codemirror_mode": {
    "name": "ipython",
    "version": 3
   },
   "file_extension": ".py",
   "mimetype": "text/x-python",
   "name": "python",
   "nbconvert_exporter": "python",
   "pygments_lexer": "ipython3",
   "version": "3.8.5"
  }
 },
 "nbformat": 4,
 "nbformat_minor": 5
}
